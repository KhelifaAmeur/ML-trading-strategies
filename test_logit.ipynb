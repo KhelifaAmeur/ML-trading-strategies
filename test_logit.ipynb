{
 "cells": [
  {
   "cell_type": "markdown",
   "metadata": {},
   "source": [
    "# Project 242"
   ]
  },
  {
   "cell_type": "markdown",
   "metadata": {},
   "source": [
    "## Import"
   ]
  },
  {
   "cell_type": "code",
   "execution_count": 1098,
   "metadata": {},
   "outputs": [],
   "source": [
    "from backtester.backtesting import Strategy\n",
    "from modules.data_preprocessing import *\n",
    "from modules.add_features import *\n",
    "from modules.metrics_prediction import *\n",
    "from modules.metrics_performance import *\n",
    "from modules.models import *\n",
    "from modules.utils import *"
   ]
  },
  {
   "cell_type": "code",
   "execution_count": 1099,
   "metadata": {},
   "outputs": [],
   "source": [
    "import numpy as np\n",
    "import matplotlib.pyplot as plt\n",
    "import pandas as pd\n",
    "import random as rd"
   ]
  },
  {
   "cell_type": "markdown",
   "metadata": {},
   "source": [
    "## I. Data"
   ]
  },
  {
   "cell_type": "markdown",
   "metadata": {},
   "source": [
    "### 1. Load data"
   ]
  },
  {
   "cell_type": "code",
   "execution_count": 1100,
   "metadata": {},
   "outputs": [],
   "source": [
    "data = pd.read_csv('data/Binance_BTCUSDT_1h.csv')"
   ]
  },
  {
   "cell_type": "code",
   "execution_count": 1101,
   "metadata": {},
   "outputs": [
    {
     "data": {
      "text/html": [
       "<div>\n",
       "<style scoped>\n",
       "    .dataframe tbody tr th:only-of-type {\n",
       "        vertical-align: middle;\n",
       "    }\n",
       "\n",
       "    .dataframe tbody tr th {\n",
       "        vertical-align: top;\n",
       "    }\n",
       "\n",
       "    .dataframe thead th {\n",
       "        text-align: right;\n",
       "    }\n",
       "</style>\n",
       "<table border=\"1\" class=\"dataframe\">\n",
       "  <thead>\n",
       "    <tr style=\"text-align: right;\">\n",
       "      <th></th>\n",
       "      <th>unix</th>\n",
       "      <th>date</th>\n",
       "      <th>symbol</th>\n",
       "      <th>open</th>\n",
       "      <th>high</th>\n",
       "      <th>low</th>\n",
       "      <th>close</th>\n",
       "      <th>Volume BTC</th>\n",
       "      <th>Volume USDT</th>\n",
       "      <th>tradecount</th>\n",
       "    </tr>\n",
       "  </thead>\n",
       "  <tbody>\n",
       "    <tr>\n",
       "      <th>0</th>\n",
       "      <td>1.637280e+12</td>\n",
       "      <td>2021-11-19 00:00:00</td>\n",
       "      <td>BTC/USDT</td>\n",
       "      <td>56891.62</td>\n",
       "      <td>57247.58</td>\n",
       "      <td>56674.00</td>\n",
       "      <td>57144.98</td>\n",
       "      <td>719.65701</td>\n",
       "      <td>4.099574e+07</td>\n",
       "      <td>19977.0</td>\n",
       "    </tr>\n",
       "    <tr>\n",
       "      <th>1</th>\n",
       "      <td>1.637276e+12</td>\n",
       "      <td>2021-11-18 23:00:00</td>\n",
       "      <td>BTC/USDT</td>\n",
       "      <td>56613.30</td>\n",
       "      <td>56987.57</td>\n",
       "      <td>56474.26</td>\n",
       "      <td>56891.62</td>\n",
       "      <td>2553.36240</td>\n",
       "      <td>1.447890e+08</td>\n",
       "      <td>76763.0</td>\n",
       "    </tr>\n",
       "  </tbody>\n",
       "</table>\n",
       "</div>"
      ],
      "text/plain": [
       "           unix                 date    symbol      open      high       low  \\\n",
       "0  1.637280e+12  2021-11-19 00:00:00  BTC/USDT  56891.62  57247.58  56674.00   \n",
       "1  1.637276e+12  2021-11-18 23:00:00  BTC/USDT  56613.30  56987.57  56474.26   \n",
       "\n",
       "      close  Volume BTC   Volume USDT  tradecount  \n",
       "0  57144.98   719.65701  4.099574e+07     19977.0  \n",
       "1  56891.62  2553.36240  1.447890e+08     76763.0  "
      ]
     },
     "execution_count": 1101,
     "metadata": {},
     "output_type": "execute_result"
    },
    {
     "data": {
      "image/png": "[encoded data removed]",
      "text/plain": [
       "<Figure size 432x288 with 1 Axes>"
      ]
     },
     "metadata": {
      "needs_background": "light"
     },
     "output_type": "display_data"
    }
   ],
   "source": [
    "plt.plot(data[::-1].reset_index().close)\n",
    "data.head(2)"
   ]
  },
  {
   "cell_type": "markdown",
   "metadata": {},
   "source": [
    "### 2. Preprocess data\n",
    "\n",
    "- clean data\n",
    "- add features"
   ]
  },
  {
   "cell_type": "code",
   "execution_count": 1102,
   "metadata": {},
   "outputs": [],
   "source": [
    "# Clean data\n",
    "data = clean_data(data)\n",
    "data = data.rename(columns = {'Volume USDT': 'Volume'})"
   ]
  },
  {
   "cell_type": "markdown",
   "metadata": {},
   "source": [
    "Here, we can decide to add features ..."
   ]
  },
  {
   "cell_type": "code",
   "execution_count": 1103,
   "metadata": {},
   "outputs": [],
   "source": [
    "# Add features\n",
    "data = add_technical_indicators(data, lookback_period=30)[30:]"
   ]
  },
  {
   "cell_type": "code",
   "execution_count": 1104,
   "metadata": {},
   "outputs": [],
   "source": [
    "data.loc[data['VWAP'].isna(), 'VWAP'] = 0"
   ]
  },
  {
   "cell_type": "code",
   "execution_count": 1105,
   "metadata": {},
   "outputs": [],
   "source": [
    "# Split data\n",
    "train_data, test_data = split_data(data, split=0.25)\n"
   ]
  },
  {
   "cell_type": "code",
   "execution_count": 1106,
   "metadata": {},
   "outputs": [],
   "source": [
    "# Add Return\n",
    "train_data = add_return(train_data)\n",
    "test_data = add_return(test_data)"
   ]
  },
  {
   "cell_type": "code",
   "execution_count": 1107,
   "metadata": {},
   "outputs": [],
   "source": [
    "# Add Signal\n",
    "train = add_signal(train_data, 0.001)\n",
    "test = add_signal(test_data, 0.001)"
   ]
  },
  {
   "cell_type": "code",
   "execution_count": 1108,
   "metadata": {},
   "outputs": [
    {
     "name": "stderr",
     "output_type": "stream",
     "text": [
      "/Users/noemielevy/INDENG-242-project/modules/data_preprocessing.py:59: VisibleDeprecationWarning: Creating an ndarray from ragged nested sequences (which is a list-or-tuple of lists-or-tuples-or ndarrays with different lengths or shapes) is deprecated. If you meant to do this, you must specify 'dtype=object' when creating the ndarray\n",
      "  return np.array(X), S, R\n"
     ]
    }
   ],
   "source": [
    "train = prepare_data_2D_format(train_data, lookback_period = 2)\n",
    "test = prepare_data_2D_format(test_data, lookback_period = 2, undersample = False)\n",
    "test = test[:-2]"
   ]
  },
  {
   "cell_type": "markdown",
   "metadata": {},
   "source": [
    "## II. Model"
   ]
  },
  {
   "cell_type": "markdown",
   "metadata": {},
   "source": [
    "### A. Predicting if a return will be higher than the fees"
   ]
  },
  {
   "cell_type": "code",
   "execution_count": 1109,
   "metadata": {},
   "outputs": [],
   "source": [
    "train['Signal1'] = (train['Signal']>=0).apply(int)\n",
    "test['Signal1'] = (test['Signal']>=0).apply(int)"
   ]
  },
  {
   "cell_type": "code",
   "execution_count": 1110,
   "metadata": {},
   "outputs": [],
   "source": [
    "removed = ['Signal', 'Return', 'Signal1']\n",
    "str_formula = 'Signal1 ~ '\n",
    "for feat in train.columns:\n",
    "    if feat not in removed: str_formula += feat + ' + '\n",
    "str_formula = str_formula[:-3]"
   ]
  },
  {
   "cell_type": "code",
   "execution_count": 1111,
   "metadata": {},
   "outputs": [
    {
     "name": "stdout",
     "output_type": "stream",
     "text": [
      "Warning: Maximum number of iterations has been exceeded.\n",
      "         Current function value: 0.626783\n",
      "         Iterations: 35\n",
      "                           Logit Regression Results                           \n",
      "==============================================================================\n",
      "Dep. Variable:                Signal1   No. Observations:                23748\n",
      "Model:                          Logit   Df Residuals:                    23721\n",
      "Method:                           MLE   Df Model:                           26\n",
      "Date:                Mon, 06 Dec 2021   Pseudo R-squ.:                 0.01529\n",
      "Time:                        22:06:22   Log-Likelihood:                -14885.\n",
      "converged:                      False   LL-Null:                       -15116.\n",
      "Covariance Type:            nonrobust   LLR p-value:                 2.218e-81\n",
      "=======================================================================================\n",
      "                          coef    std err          z      P>|z|      [0.025      0.975]\n",
      "---------------------------------------------------------------------------------------\n",
      "Intercept               0.1700      0.150      1.134      0.257      -0.124       0.464\n",
      "open_day_minus10       -0.0002      0.000     -0.599      0.549      -0.001       0.000\n",
      "high_day_minus10       -0.0003      0.000     -0.744      0.457      -0.001       0.001\n",
      "low_day_minus10         0.0007      0.000      2.015      0.044    1.98e-05       0.001\n",
      "close_day_minus10      -0.0005      0.001     -0.623      0.533      -0.002       0.001\n",
      "Volume_day_minus10    3.85e-09   1.55e-09      2.476      0.013    8.02e-10     6.9e-09\n",
      "MOM_day_minus10        -0.0026   5241.681  -4.95e-07      1.000   -1.03e+04    1.03e+04\n",
      "RSI_day_minus10        -0.0113      0.010     -1.080      0.280      -0.032       0.009\n",
      "VWAP_day_minus10     5.355e-05      0.000      0.277      0.782      -0.000       0.000\n",
      "BB_high_day_minus10     0.0003      0.002      0.170      0.865      -0.003       0.003\n",
      "BB_low_day_minus10      0.0004      0.002      0.249      0.803      -0.003       0.003\n",
      "EMA_day_minus10        -0.2696     88.875     -0.003      0.998    -174.461     173.922\n",
      "CCI_day_minus10         0.0005      0.000      1.060      0.289      -0.000       0.001\n",
      "MACD_day_minus10        0.0028   5245.226   5.43e-07      1.000   -1.03e+04    1.03e+04\n",
      "open_day_minus9        -0.0003      0.001     -0.407      0.684      -0.002       0.001\n",
      "high_day_minus9        -0.0002      0.000     -0.423      0.672      -0.001       0.001\n",
      "low_day_minus9          0.0009      0.000      2.314      0.021       0.000       0.002\n",
      "close_day_minus9       -0.0191      6.129     -0.003      0.998     -12.032      11.994\n",
      "Volume_day_minus9    1.041e-09   1.54e-09      0.675      0.500   -1.98e-09    4.06e-09\n",
      "MOM_day_minus9         -0.0005        nan        nan        nan         nan         nan\n",
      "RSI_day_minus9          0.0145      0.011      1.374      0.169      -0.006       0.035\n",
      "VWAP_day_minus9         0.0001      0.000      0.701      0.484      -0.000       0.001\n",
      "BB_high_day_minus9     -0.0007      0.002     -0.470      0.638      -0.004       0.002\n",
      "BB_low_day_minus9   -9.645e-06      0.002     -0.006      0.995      -0.003       0.003\n",
      "EMA_day_minus9          0.2886     95.004      0.003      0.998    -185.916     186.493\n",
      "CCI_day_minus9         -0.0003      0.000     -0.679      0.497      -0.001       0.001\n",
      "MACD_day_minus9         0.0005        nan        nan        nan         nan         nan\n",
      "=======================================================================================\n"
     ]
    },
    {
     "name": "stderr",
     "output_type": "stream",
     "text": [
      "/Users/noemielevy/comparators/venv/lib/python3.7/site-packages/statsmodels/base/model.py:606: ConvergenceWarning: Maximum Likelihood optimization failed to converge. Check mle_retvals\n",
      "  ConvergenceWarning)\n"
     ]
    }
   ],
   "source": [
    "import statsmodels.formula.api as smf\n",
    "import numpy as np\n",
    "\n",
    "# at first I will use all features\n",
    "# fitting data to the model\n",
    "reg1 = smf.logit(formula  = str_formula, data = train).fit()\n",
    "\n",
    "print(reg1.summary())"
   ]
  },
  {
   "cell_type": "markdown",
   "metadata": {},
   "source": [
    "We perform feature selection using the p-value"
   ]
  },
  {
   "cell_type": "code",
   "execution_count": 1034,
   "metadata": {},
   "outputs": [
    {
     "name": "stdout",
     "output_type": "stream",
     "text": [
      "Warning: Maximum number of iterations has been exceeded.\n",
      "         Current function value: 0.179910\n",
      "         Iterations: 35\n",
      "                           Logit Regression Results                           \n",
      "==============================================================================\n",
      "Dep. Variable:                Signal1   No. Observations:                29896\n",
      "Model:                          Logit   Df Residuals:                    29775\n",
      "Method:                           MLE   Df Model:                          120\n",
      "Date:                Mon, 06 Dec 2021   Pseudo R-squ.:                 0.08974\n",
      "Time:                        21:58:50   Log-Likelihood:                -5378.6\n",
      "converged:                      False   LL-Null:                       -5908.9\n",
      "Covariance Type:            nonrobust   LLR p-value:                2.292e-150\n",
      "=======================================================================================\n",
      "                          coef    std err          z      P>|z|      [0.025      0.975]\n",
      "---------------------------------------------------------------------------------------\n",
      "Intercept               2.0321      0.337      6.038      0.000       1.372       2.692\n",
      "open_day_minus10        0.0002      0.001      0.301      0.764      -0.001       0.001\n",
      "high_day_minus10        0.0019      0.002      0.876      0.381      -0.002       0.006\n",
      "low_day_minus10         0.0018      0.002      0.824      0.410      -0.003       0.006\n",
      "close_day_minus10      -0.0017      0.001     -1.497      0.134      -0.004       0.001\n",
      "MOM_day_minus10         0.0048        nan        nan        nan         nan         nan\n",
      "RSI_day_minus10         0.0083      0.021      0.400      0.690      -0.032       0.049\n",
      "VWAP_day_minus10       -0.0025      0.003     -0.937      0.349      -0.008       0.003\n",
      "BB_high_day_minus10    -0.0103      0.004     -2.801      0.005      -0.018      -0.003\n",
      "BB_low_day_minus10     -0.0085      0.004     -2.238      0.025      -0.016      -0.001\n",
      "EMA_day_minus10        -0.0674        nan        nan        nan         nan         nan\n",
      "CCI_day_minus10        -0.0006      0.001     -0.655      0.513      -0.003       0.001\n",
      "MACD_day_minus10       -0.0051        nan        nan        nan         nan         nan\n",
      "open_day_minus9         0.0019      0.001      1.742      0.082      -0.000       0.004\n",
      "high_day_minus9         0.0015      0.002      0.670      0.503      -0.003       0.006\n",
      "low_day_minus9          0.0019      0.002      0.891      0.373      -0.002       0.006\n",
      "close_day_minus9       -0.0050        nan        nan        nan         nan         nan\n",
      "Volume_day_minus9    4.514e-10   3.15e-09      0.143      0.886   -5.72e-09    6.62e-09\n",
      "MOM_day_minus9          0.0011        nan        nan        nan         nan         nan\n",
      "RSI_day_minus9         -0.0006      0.027     -0.023      0.982      -0.054       0.053\n",
      "VWAP_day_minus9         0.0038      0.004      1.027      0.304      -0.003       0.011\n",
      "BB_high_day_minus9      0.0155      0.007      2.170      0.030       0.001       0.029\n",
      "BB_low_day_minus9       0.0155      0.007      2.156      0.031       0.001       0.030\n",
      "EMA_day_minus9          0.0022    520.531   4.13e-06      1.000   -1020.221    1020.225\n",
      "CCI_day_minus9         -0.0006      0.001     -0.388      0.698      -0.003       0.002\n",
      "MACD_day_minus9        -0.0009   2.94e+06  -3.09e-10      1.000   -5.77e+06    5.77e+06\n",
      "open_day_minus8         0.0007      0.001      0.642      0.521      -0.002       0.003\n",
      "high_day_minus8         0.0008      0.002      0.356      0.722      -0.003       0.005\n",
      "low_day_minus8          0.0014      0.002      0.645      0.519      -0.003       0.006\n",
      "close_day_minus8       -0.0044     40.922     -0.000      1.000     -80.209      80.200\n",
      "Volume_day_minus8   -2.961e-10   3.62e-09     -0.082      0.935   -7.39e-09     6.8e-09\n",
      "MOM_day_minus8         -0.0008        nan        nan        nan         nan         nan\n",
      "RSI_day_minus8          0.0101      0.028      0.358      0.721      -0.045       0.066\n",
      "VWAP_day_minus8        -0.0006      0.002     -0.265      0.791      -0.005       0.004\n",
      "BB_high_day_minus8     -0.0005      0.008     -0.066      0.948      -0.015       0.014\n",
      "BB_low_day_minus8      -0.0018      0.007     -0.241      0.810      -0.016       0.013\n",
      "EMA_day_minus8         -0.0033   1170.848  -2.86e-06      1.000   -2294.823    2294.817\n",
      "CCI_day_minus8          0.0007      0.002      0.452      0.651      -0.002       0.004\n",
      "MACD_day_minus8      -8.27e-05        nan        nan        nan         nan         nan\n",
      "open_day_minus7         0.0002      0.001      0.230      0.818      -0.002       0.002\n",
      "high_day_minus7         0.0002      0.002      0.079      0.937      -0.004       0.005\n",
      "low_day_minus7          0.0008      0.002      0.360      0.719      -0.004       0.005\n",
      "close_day_minus7       -0.0035        nan        nan        nan         nan         nan\n",
      "Volume_day_minus7    6.458e-09   3.82e-09      1.692      0.091   -1.02e-09    1.39e-08\n",
      "MOM_day_minus7          0.0014   1.43e+09   9.91e-13      1.000   -2.81e+09    2.81e+09\n",
      "RSI_day_minus7         -0.0192      0.028     -0.686      0.493      -0.074       0.036\n",
      "VWAP_day_minus7        -0.0006      0.001     -0.734      0.463      -0.002       0.001\n",
      "BB_high_day_minus7     -0.0163      0.009     -1.818      0.069      -0.034       0.001\n",
      "BB_low_day_minus7      -0.0128      0.009     -1.435      0.151      -0.030       0.005\n",
      "EMA_day_minus7         -0.0350    738.799  -4.73e-05      1.000   -1448.054    1447.984\n",
      "CCI_day_minus7         -0.0001      0.002     -0.069      0.945      -0.003       0.003\n",
      "MACD_day_minus7         0.0012   1.39e+09   8.67e-13      1.000   -2.73e+09    2.73e+09\n",
      "open_day_minus6        -0.0014      0.001     -1.077      0.282      -0.004       0.001\n",
      "high_day_minus6        -0.0002      0.002     -0.107      0.915      -0.005       0.004\n",
      "low_day_minus6          0.0011      0.002      0.488      0.625      -0.003       0.005\n",
      "close_day_minus6       -0.0098     13.975     -0.001      0.999     -27.400      27.380\n",
      "Volume_day_minus6   -2.629e-10   3.39e-09     -0.077      0.938   -6.92e-09    6.39e-09\n",
      "MOM_day_minus6         -0.0103   9.79e+05  -1.06e-08      1.000   -1.92e+06    1.92e+06\n",
      "RSI_day_minus6          0.0053      0.028      0.186      0.852      -0.050       0.061\n",
      "VWAP_day_minus6        -0.0033      0.001     -2.944      0.003      -0.006      -0.001\n",
      "BB_high_day_minus6      0.0057      0.009      0.635      0.526      -0.012       0.023\n",
      "BB_low_day_minus6       0.0010      0.009      0.107      0.915      -0.017       0.019\n",
      "EMA_day_minus6          0.0368    136.507      0.000      1.000    -267.511     267.585\n",
      "CCI_day_minus6          0.0006      0.002      0.367      0.714      -0.002       0.004\n",
      "MACD_day_minus6        -0.0098   1.25e+06  -7.83e-09      1.000   -2.46e+06    2.46e+06\n",
      "open_day_minus5         0.0005      0.001      0.492      0.623      -0.002       0.003\n",
      "high_day_minus5         0.0006      0.002      0.325      0.745      -0.003       0.004\n",
      "low_day_minus5         -0.0003      0.002     -0.143      0.886      -0.004       0.003\n",
      "close_day_minus5       -0.0071      7.244     -0.001      0.999     -14.204      14.190\n",
      "Volume_day_minus5   -2.961e-09    3.4e-09     -0.870      0.384   -9.63e-09    3.71e-09\n",
      "MOM_day_minus5         -0.0015        nan        nan        nan         nan         nan\n",
      "RSI_day_minus5          0.0482      0.029      1.692      0.091      -0.008       0.104\n",
      "VWAP_day_minus5         0.0044      0.002      2.029      0.042       0.000       0.009\n",
      "BB_high_day_minus5     -0.0106      0.011     -0.958      0.338      -0.032       0.011\n",
      "BB_low_day_minus5      -0.0069      0.011     -0.630      0.529      -0.029       0.015\n",
      "EMA_day_minus5          0.0726        nan        nan        nan         nan         nan\n",
      "CCI_day_minus5         -0.0012      0.002     -0.823      0.411      -0.004       0.002\n",
      "MACD_day_minus5        -0.0015   4.66e+06  -3.15e-10      1.000   -9.14e+06    9.14e+06\n",
      "open_day_minus4        -0.0010      0.001     -0.816      0.414      -0.003       0.001\n",
      "high_day_minus4        -0.0009      0.002     -0.480      0.631      -0.005       0.003\n",
      "low_day_minus4          0.0004      0.002      0.214      0.831      -0.003       0.004\n",
      "close_day_minus4       -0.0001        nan        nan        nan         nan         nan\n",
      "Volume_day_minus4    7.319e-09   3.82e-09      1.916      0.055   -1.69e-10    1.48e-08\n",
      "MOM_day_minus4          0.0008   7.87e+04   1.01e-08      1.000   -1.54e+05    1.54e+05\n",
      "RSI_day_minus4         -0.0332      0.028     -1.173      0.241      -0.089       0.022\n",
      "VWAP_day_minus4         0.0002      0.002      0.111      0.912      -0.004       0.005\n",
      "BB_high_day_minus4      0.0131      0.011      1.207      0.228      -0.008       0.035\n",
      "BB_low_day_minus4       0.0086      0.011      0.791      0.429      -0.013       0.030\n",
      "EMA_day_minus4          0.0386        nan        nan        nan         nan         nan\n",
      "CCI_day_minus4          0.0012      0.001      0.807      0.420      -0.002       0.004\n",
      "MACD_day_minus4         0.0007   1.04e+05   6.65e-09      1.000   -2.04e+05    2.04e+05\n",
      "open_day_minus3        -0.0019      0.002     -1.189      0.234      -0.005       0.001\n",
      "high_day_minus3        -0.0017      0.002     -0.905      0.365      -0.005       0.002\n",
      "low_day_minus3         -0.0010      0.002     -0.538      0.590      -0.005       0.003\n",
      "close_day_minus3        0.0016        nan        nan        nan         nan         nan\n",
      "Volume_day_minus3   -1.025e-10   3.41e-09     -0.030      0.976   -6.79e-09    6.59e-09\n",
      "MOM_day_minus3          0.0098   4.77e+08   2.05e-11      1.000   -9.35e+08    9.35e+08\n",
      "RSI_day_minus3         -0.0352      0.028     -1.255      0.210      -0.090       0.020\n",
      "VWAP_day_minus3        -0.0055      0.003     -1.857      0.063      -0.011       0.000\n",
      "BB_high_day_minus3      0.0054      0.011      0.491      0.623      -0.016       0.027\n",
      "BB_low_day_minus3       0.0081      0.011      0.734      0.463      -0.013       0.030\n",
      "EMA_day_minus3          0.0197        nan        nan        nan         nan         nan\n",
      "CCI_day_minus3          0.0014      0.001      0.966      0.334      -0.001       0.004\n",
      "MACD_day_minus3         0.0098   4.77e+08   2.05e-11      1.000   -9.35e+08    9.35e+08\n",
      "open_day_minus2      1.468e-05      0.001      0.015      0.988      -0.002       0.002\n",
      "high_day_minus2         0.0009      0.002      0.478      0.633      -0.003       0.005\n",
      "low_day_minus2          0.0017      0.002      0.865      0.387      -0.002       0.005\n",
      "close_day_minus2        0.0024      0.005      0.515      0.606      -0.007       0.012\n",
      "Volume_day_minus2    8.697e-10   3.41e-09      0.255      0.799   -5.81e-09    7.55e-09\n",
      "MOM_day_minus2         -0.0018   5314.860  -3.32e-07      1.000   -1.04e+04    1.04e+04\n",
      "RSI_day_minus2          0.0491      0.028      1.752      0.080      -0.006       0.104\n",
      "VWAP_day_minus2         0.0017      0.003      0.616      0.538      -0.004       0.007\n",
      "BB_high_day_minus2      0.0001      0.009      0.013      0.990      -0.018       0.019\n",
      "BB_low_day_minus2      -0.0046      0.009     -0.488      0.626      -0.023       0.014\n",
      "EMA_day_minus2         -0.0199      0.036     -0.554      0.580      -0.090       0.051\n",
      "CCI_day_minus2         -0.0022      0.001     -1.463      0.143      -0.005       0.001\n",
      "MACD_day_minus2        -0.0018   5316.078  -3.32e-07      1.000   -1.04e+04    1.04e+04\n",
      "open_day_minus1        -0.0002      0.001     -0.183      0.854      -0.002       0.002\n",
      "high_day_minus1         0.0002      0.002      0.123      0.902      -0.004       0.004\n",
      "low_day_minus1          0.0011      0.002      0.593      0.553      -0.003       0.005\n",
      "close_day_minus1        0.0014        nan        nan        nan         nan         nan\n",
      "Volume_day_minus1    5.337e-09   3.29e-09      1.624      0.104    -1.1e-09    1.18e-08\n",
      "MOM_day_minus1         -0.0033      0.064     -0.051      0.959      -0.128       0.122\n",
      "RSI_day_minus1         -0.0153      0.022     -0.697      0.486      -0.058       0.028\n",
      "VWAP_day_minus1         0.0008      0.001      1.555      0.120      -0.000       0.002\n",
      "BB_high_day_minus1     -0.0089      0.007     -1.248      0.212      -0.023       0.005\n",
      "BB_low_day_minus1      -0.0038      0.007     -0.539      0.590      -0.018       0.010\n",
      "EMA_day_minus1         -0.0155        nan        nan        nan         nan         nan\n",
      "CCI_day_minus1          0.0007      0.001      0.687      0.492      -0.001       0.003\n",
      "MACD_day_minus1        -0.0049      0.045     -0.108      0.914      -0.093       0.083\n",
      "=======================================================================================\n"
     ]
    },
    {
     "name": "stderr",
     "output_type": "stream",
     "text": [
      "/Users/noemielevy/comparators/venv/lib/python3.7/site-packages/statsmodels/base/model.py:606: ConvergenceWarning: Maximum Likelihood optimization failed to converge. Check mle_retvals\n",
      "  ConvergenceWarning)\n"
     ]
    }
   ],
   "source": [
    "## remove Volume_day_minus10:\n",
    "removed.append('Volume_day_minus10')\n",
    "str_formula = 'Signal1 ~ '\n",
    "for feat in features:\n",
    "    if feat not in removed: str_formula += feat + ' + '\n",
    "str_formula = str_formula[:-3]\n",
    "\n",
    "reg1 = smf.logit(formula  = str_formula, data = train).fit()\n",
    "\n",
    "print(reg1.summary())"
   ]
  },
  {
   "cell_type": "code",
   "execution_count": 1035,
   "metadata": {},
   "outputs": [
    {
     "ename": "KeyboardInterrupt",
     "evalue": "",
     "output_type": "error",
     "traceback": [
      "\u001b[0;31m---------------------------------------------------------------------------\u001b[0m",
      "\u001b[0;31mKeyboardInterrupt\u001b[0m                         Traceback (most recent call last)",
      "\u001b[0;32m<ipython-input-1035-c0723d4d32fa>\u001b[0m in \u001b[0;36m<module>\u001b[0;34m()\u001b[0m\n\u001b[1;32m      6\u001b[0m \u001b[0mstr_formula\u001b[0m \u001b[0;34m=\u001b[0m \u001b[0mstr_formula\u001b[0m\u001b[0;34m[\u001b[0m\u001b[0;34m:\u001b[0m\u001b[0;34m-\u001b[0m\u001b[0;36m3\u001b[0m\u001b[0;34m]\u001b[0m\u001b[0;34m\u001b[0m\u001b[0;34m\u001b[0m\u001b[0m\n\u001b[1;32m      7\u001b[0m \u001b[0;34m\u001b[0m\u001b[0m\n\u001b[0;32m----> 8\u001b[0;31m \u001b[0mreg1\u001b[0m \u001b[0;34m=\u001b[0m \u001b[0msmf\u001b[0m\u001b[0;34m.\u001b[0m\u001b[0mlogit\u001b[0m\u001b[0;34m(\u001b[0m\u001b[0mformula\u001b[0m  \u001b[0;34m=\u001b[0m \u001b[0mstr_formula\u001b[0m\u001b[0;34m,\u001b[0m \u001b[0mdata\u001b[0m \u001b[0;34m=\u001b[0m \u001b[0mtrain\u001b[0m\u001b[0;34m)\u001b[0m\u001b[0;34m.\u001b[0m\u001b[0mfit\u001b[0m\u001b[0;34m(\u001b[0m\u001b[0;34m)\u001b[0m\u001b[0;34m\u001b[0m\u001b[0;34m\u001b[0m\u001b[0m\n\u001b[0m\u001b[1;32m      9\u001b[0m \u001b[0;34m\u001b[0m\u001b[0m\n\u001b[1;32m     10\u001b[0m \u001b[0mprint\u001b[0m\u001b[0;34m(\u001b[0m\u001b[0mreg1\u001b[0m\u001b[0;34m.\u001b[0m\u001b[0msummary\u001b[0m\u001b[0;34m(\u001b[0m\u001b[0;34m)\u001b[0m\u001b[0;34m)\u001b[0m\u001b[0;34m\u001b[0m\u001b[0;34m\u001b[0m\u001b[0m\n",
      "\u001b[0;32m/Users/noemielevy/comparators/venv/lib/python3.7/site-packages/statsmodels/base/model.py\u001b[0m in \u001b[0;36mfrom_formula\u001b[0;34m(cls, formula, data, subset, drop_cols, *args, **kwargs)\u001b[0m\n\u001b[1;32m    199\u001b[0m \u001b[0;34m\u001b[0m\u001b[0m\n\u001b[1;32m    200\u001b[0m         tmp = handle_formula_data(data, None, formula, depth=eval_env,\n\u001b[0;32m--> 201\u001b[0;31m                                   missing=missing)\n\u001b[0m\u001b[1;32m    202\u001b[0m         \u001b[0;34m(\u001b[0m\u001b[0;34m(\u001b[0m\u001b[0mendog\u001b[0m\u001b[0;34m,\u001b[0m \u001b[0mexog\u001b[0m\u001b[0;34m)\u001b[0m\u001b[0;34m,\u001b[0m \u001b[0mmissing_idx\u001b[0m\u001b[0;34m,\u001b[0m \u001b[0mdesign_info\u001b[0m\u001b[0;34m)\u001b[0m \u001b[0;34m=\u001b[0m \u001b[0mtmp\u001b[0m\u001b[0;34m\u001b[0m\u001b[0;34m\u001b[0m\u001b[0m\n\u001b[1;32m    203\u001b[0m         \u001b[0mmax_endog\u001b[0m \u001b[0;34m=\u001b[0m \u001b[0mcls\u001b[0m\u001b[0;34m.\u001b[0m\u001b[0m_formula_max_endog\u001b[0m\u001b[0;34m\u001b[0m\u001b[0;34m\u001b[0m\u001b[0m\n",
      "\u001b[0;32m/Users/noemielevy/comparators/venv/lib/python3.7/site-packages/statsmodels/formula/formulatools.py\u001b[0m in \u001b[0;36mhandle_formula_data\u001b[0;34m(Y, X, formula, depth, missing)\u001b[0m\n\u001b[1;32m     62\u001b[0m         \u001b[0;32mif\u001b[0m \u001b[0mdata_util\u001b[0m\u001b[0;34m.\u001b[0m\u001b[0m_is_using_pandas\u001b[0m\u001b[0;34m(\u001b[0m\u001b[0mY\u001b[0m\u001b[0;34m,\u001b[0m \u001b[0;32mNone\u001b[0m\u001b[0;34m)\u001b[0m\u001b[0;34m:\u001b[0m\u001b[0;34m\u001b[0m\u001b[0;34m\u001b[0m\u001b[0m\n\u001b[1;32m     63\u001b[0m             result = dmatrices(formula, Y, depth, return_type='dataframe',\n\u001b[0;32m---> 64\u001b[0;31m                                NA_action=na_action)\n\u001b[0m\u001b[1;32m     65\u001b[0m         \u001b[0;32melse\u001b[0m\u001b[0;34m:\u001b[0m\u001b[0;34m\u001b[0m\u001b[0;34m\u001b[0m\u001b[0m\n\u001b[1;32m     66\u001b[0m             result = dmatrices(formula, Y, depth, return_type='dataframe',\n",
      "\u001b[0;32m/Users/noemielevy/comparators/venv/lib/python3.7/site-packages/patsy/highlevel.py\u001b[0m in \u001b[0;36mdmatrices\u001b[0;34m(formula_like, data, eval_env, NA_action, return_type)\u001b[0m\n\u001b[1;32m    308\u001b[0m     \u001b[0meval_env\u001b[0m \u001b[0;34m=\u001b[0m \u001b[0mEvalEnvironment\u001b[0m\u001b[0;34m.\u001b[0m\u001b[0mcapture\u001b[0m\u001b[0;34m(\u001b[0m\u001b[0meval_env\u001b[0m\u001b[0;34m,\u001b[0m \u001b[0mreference\u001b[0m\u001b[0;34m=\u001b[0m\u001b[0;36m1\u001b[0m\u001b[0;34m)\u001b[0m\u001b[0;34m\u001b[0m\u001b[0;34m\u001b[0m\u001b[0m\n\u001b[1;32m    309\u001b[0m     (lhs, rhs) = _do_highlevel_design(formula_like, data, eval_env,\n\u001b[0;32m--> 310\u001b[0;31m                                       NA_action, return_type)\n\u001b[0m\u001b[1;32m    311\u001b[0m     \u001b[0;32mif\u001b[0m \u001b[0mlhs\u001b[0m\u001b[0;34m.\u001b[0m\u001b[0mshape\u001b[0m\u001b[0;34m[\u001b[0m\u001b[0;36m1\u001b[0m\u001b[0;34m]\u001b[0m \u001b[0;34m==\u001b[0m \u001b[0;36m0\u001b[0m\u001b[0;34m:\u001b[0m\u001b[0;34m\u001b[0m\u001b[0;34m\u001b[0m\u001b[0m\n\u001b[1;32m    312\u001b[0m         \u001b[0;32mraise\u001b[0m \u001b[0mPatsyError\u001b[0m\u001b[0;34m(\u001b[0m\u001b[0;34m\"model is missing required outcome variables\"\u001b[0m\u001b[0;34m)\u001b[0m\u001b[0;34m\u001b[0m\u001b[0;34m\u001b[0m\u001b[0m\n",
      "\u001b[0;32m/Users/noemielevy/comparators/venv/lib/python3.7/site-packages/patsy/highlevel.py\u001b[0m in \u001b[0;36m_do_highlevel_design\u001b[0;34m(formula_like, data, eval_env, NA_action, return_type)\u001b[0m\n\u001b[1;32m    163\u001b[0m         \u001b[0;32mreturn\u001b[0m \u001b[0miter\u001b[0m\u001b[0;34m(\u001b[0m\u001b[0;34m[\u001b[0m\u001b[0mdata\u001b[0m\u001b[0;34m]\u001b[0m\u001b[0;34m)\u001b[0m\u001b[0;34m\u001b[0m\u001b[0;34m\u001b[0m\u001b[0m\n\u001b[1;32m    164\u001b[0m     design_infos = _try_incr_builders(formula_like, data_iter_maker, eval_env,\n\u001b[0;32m--> 165\u001b[0;31m                                       NA_action)\n\u001b[0m\u001b[1;32m    166\u001b[0m     \u001b[0;32mif\u001b[0m \u001b[0mdesign_infos\u001b[0m \u001b[0;32mis\u001b[0m \u001b[0;32mnot\u001b[0m \u001b[0;32mNone\u001b[0m\u001b[0;34m:\u001b[0m\u001b[0;34m\u001b[0m\u001b[0;34m\u001b[0m\u001b[0m\n\u001b[1;32m    167\u001b[0m         return build_design_matrices(design_infos, data,\n",
      "\u001b[0;32m/Users/noemielevy/comparators/venv/lib/python3.7/site-packages/patsy/highlevel.py\u001b[0m in \u001b[0;36m_try_incr_builders\u001b[0;34m(formula_like, data_iter_maker, eval_env, NA_action)\u001b[0m\n\u001b[1;32m     68\u001b[0m                                       \u001b[0mdata_iter_maker\u001b[0m\u001b[0;34m,\u001b[0m\u001b[0;34m\u001b[0m\u001b[0;34m\u001b[0m\u001b[0m\n\u001b[1;32m     69\u001b[0m                                       \u001b[0meval_env\u001b[0m\u001b[0;34m,\u001b[0m\u001b[0;34m\u001b[0m\u001b[0;34m\u001b[0m\u001b[0m\n\u001b[0;32m---> 70\u001b[0;31m                                       NA_action)\n\u001b[0m\u001b[1;32m     71\u001b[0m     \u001b[0;32melse\u001b[0m\u001b[0;34m:\u001b[0m\u001b[0;34m\u001b[0m\u001b[0;34m\u001b[0m\u001b[0m\n\u001b[1;32m     72\u001b[0m         \u001b[0;32mreturn\u001b[0m \u001b[0;32mNone\u001b[0m\u001b[0;34m\u001b[0m\u001b[0;34m\u001b[0m\u001b[0m\n",
      "\u001b[0;32m/Users/noemielevy/comparators/venv/lib/python3.7/site-packages/patsy/build.py\u001b[0m in \u001b[0;36mdesign_matrix_builders\u001b[0;34m(termlists, data_iter_maker, eval_env, NA_action)\u001b[0m\n\u001b[1;32m    687\u001b[0m         \u001b[0;32mfor\u001b[0m \u001b[0mterm\u001b[0m \u001b[0;32min\u001b[0m \u001b[0mtermlist\u001b[0m\u001b[0;34m:\u001b[0m\u001b[0;34m\u001b[0m\u001b[0;34m\u001b[0m\u001b[0m\n\u001b[1;32m    688\u001b[0m             \u001b[0mall_factors\u001b[0m\u001b[0;34m.\u001b[0m\u001b[0mupdate\u001b[0m\u001b[0;34m(\u001b[0m\u001b[0mterm\u001b[0m\u001b[0;34m.\u001b[0m\u001b[0mfactors\u001b[0m\u001b[0;34m)\u001b[0m\u001b[0;34m\u001b[0m\u001b[0;34m\u001b[0m\u001b[0m\n\u001b[0;32m--> 689\u001b[0;31m     \u001b[0mfactor_states\u001b[0m \u001b[0;34m=\u001b[0m \u001b[0m_factors_memorize\u001b[0m\u001b[0;34m(\u001b[0m\u001b[0mall_factors\u001b[0m\u001b[0;34m,\u001b[0m \u001b[0mdata_iter_maker\u001b[0m\u001b[0;34m,\u001b[0m \u001b[0meval_env\u001b[0m\u001b[0;34m)\u001b[0m\u001b[0;34m\u001b[0m\u001b[0;34m\u001b[0m\u001b[0m\n\u001b[0m\u001b[1;32m    690\u001b[0m     \u001b[0;31m# Now all the factors have working eval methods, so we can evaluate them\u001b[0m\u001b[0;34m\u001b[0m\u001b[0;34m\u001b[0m\u001b[0;34m\u001b[0m\u001b[0m\n\u001b[1;32m    691\u001b[0m     \u001b[0;31m# on some data to find out what type of data they return.\u001b[0m\u001b[0;34m\u001b[0m\u001b[0;34m\u001b[0m\u001b[0;34m\u001b[0m\u001b[0m\n",
      "\u001b[0;32m/Users/noemielevy/comparators/venv/lib/python3.7/site-packages/patsy/build.py\u001b[0m in \u001b[0;36m_factors_memorize\u001b[0;34m(factors, data_iter_maker, eval_env)\u001b[0m\n\u001b[1;32m    352\u001b[0m     \u001b[0;32mfor\u001b[0m \u001b[0mfactor\u001b[0m \u001b[0;32min\u001b[0m \u001b[0mfactors\u001b[0m\u001b[0;34m:\u001b[0m\u001b[0;34m\u001b[0m\u001b[0;34m\u001b[0m\u001b[0m\n\u001b[1;32m    353\u001b[0m         \u001b[0mstate\u001b[0m \u001b[0;34m=\u001b[0m \u001b[0;34m{\u001b[0m\u001b[0;34m}\u001b[0m\u001b[0;34m\u001b[0m\u001b[0;34m\u001b[0m\u001b[0m\n\u001b[0;32m--> 354\u001b[0;31m         \u001b[0mwhich_pass\u001b[0m \u001b[0;34m=\u001b[0m \u001b[0mfactor\u001b[0m\u001b[0;34m.\u001b[0m\u001b[0mmemorize_passes_needed\u001b[0m\u001b[0;34m(\u001b[0m\u001b[0mstate\u001b[0m\u001b[0;34m,\u001b[0m \u001b[0meval_env\u001b[0m\u001b[0;34m)\u001b[0m\u001b[0;34m\u001b[0m\u001b[0;34m\u001b[0m\u001b[0m\n\u001b[0m\u001b[1;32m    355\u001b[0m         \u001b[0mfactor_states\u001b[0m\u001b[0;34m[\u001b[0m\u001b[0mfactor\u001b[0m\u001b[0;34m]\u001b[0m \u001b[0;34m=\u001b[0m \u001b[0mstate\u001b[0m\u001b[0;34m\u001b[0m\u001b[0;34m\u001b[0m\u001b[0m\n\u001b[1;32m    356\u001b[0m         \u001b[0mpasses_needed\u001b[0m\u001b[0;34m[\u001b[0m\u001b[0mfactor\u001b[0m\u001b[0;34m]\u001b[0m \u001b[0;34m=\u001b[0m \u001b[0mwhich_pass\u001b[0m\u001b[0;34m\u001b[0m\u001b[0;34m\u001b[0m\u001b[0m\n",
      "\u001b[0;32m/Users/noemielevy/comparators/venv/lib/python3.7/site-packages/patsy/eval.py\u001b[0m in \u001b[0;36mmemorize_passes_needed\u001b[0;34m(self, state, eval_env)\u001b[0m\n\u001b[1;32m    490\u001b[0m                 \u001b[0;32mreturn\u001b[0m \u001b[0mtoken\u001b[0m\u001b[0;34m\u001b[0m\u001b[0;34m\u001b[0m\u001b[0m\n\u001b[1;32m    491\u001b[0m         \u001b[0;31m# example eval_code: == \"2 * _patsy_stobj0__center__.transform(x)\"\u001b[0m\u001b[0;34m\u001b[0m\u001b[0;34m\u001b[0m\u001b[0;34m\u001b[0m\u001b[0m\n\u001b[0;32m--> 492\u001b[0;31m         \u001b[0meval_code\u001b[0m \u001b[0;34m=\u001b[0m \u001b[0mreplace_bare_funcalls\u001b[0m\u001b[0;34m(\u001b[0m\u001b[0mself\u001b[0m\u001b[0;34m.\u001b[0m\u001b[0mcode\u001b[0m\u001b[0;34m,\u001b[0m \u001b[0mnew_name_maker\u001b[0m\u001b[0;34m)\u001b[0m\u001b[0;34m\u001b[0m\u001b[0;34m\u001b[0m\u001b[0m\n\u001b[0m\u001b[1;32m    493\u001b[0m         \u001b[0mstate\u001b[0m\u001b[0;34m[\u001b[0m\u001b[0;34m\"eval_code\"\u001b[0m\u001b[0;34m]\u001b[0m \u001b[0;34m=\u001b[0m \u001b[0meval_code\u001b[0m\u001b[0;34m\u001b[0m\u001b[0;34m\u001b[0m\u001b[0m\n\u001b[1;32m    494\u001b[0m         \u001b[0;31m# paranoia: verify that none of our new names appeared anywhere in the\u001b[0m\u001b[0;34m\u001b[0m\u001b[0;34m\u001b[0m\u001b[0;34m\u001b[0m\u001b[0m\n",
      "\u001b[0;32m/Users/noemielevy/comparators/venv/lib/python3.7/site-packages/patsy/eval.py\u001b[0m in \u001b[0;36mreplace_bare_funcalls\u001b[0;34m(code, replacer)\u001b[0m\n\u001b[1;32m    730\u001b[0m \u001b[0;32mdef\u001b[0m \u001b[0mreplace_bare_funcalls\u001b[0m\u001b[0;34m(\u001b[0m\u001b[0mcode\u001b[0m\u001b[0;34m,\u001b[0m \u001b[0mreplacer\u001b[0m\u001b[0;34m)\u001b[0m\u001b[0;34m:\u001b[0m\u001b[0;34m\u001b[0m\u001b[0;34m\u001b[0m\u001b[0m\n\u001b[1;32m    731\u001b[0m     \u001b[0mtokens\u001b[0m \u001b[0;34m=\u001b[0m \u001b[0;34m[\u001b[0m\u001b[0;34m]\u001b[0m\u001b[0;34m\u001b[0m\u001b[0;34m\u001b[0m\u001b[0m\n\u001b[0;32m--> 732\u001b[0;31m     \u001b[0;32mfor\u001b[0m \u001b[0;34m(\u001b[0m\u001b[0mtoken_type\u001b[0m\u001b[0;34m,\u001b[0m \u001b[0mtoken\u001b[0m\u001b[0;34m,\u001b[0m \u001b[0morigin\u001b[0m\u001b[0;34m,\u001b[0m \u001b[0mprops\u001b[0m\u001b[0;34m)\u001b[0m \u001b[0;32min\u001b[0m \u001b[0mannotated_tokens\u001b[0m\u001b[0;34m(\u001b[0m\u001b[0mcode\u001b[0m\u001b[0;34m)\u001b[0m\u001b[0;34m:\u001b[0m\u001b[0;34m\u001b[0m\u001b[0;34m\u001b[0m\u001b[0m\n\u001b[0m\u001b[1;32m    733\u001b[0m         \u001b[0;32mif\u001b[0m \u001b[0mprops\u001b[0m\u001b[0;34m[\u001b[0m\u001b[0;34m\"bare_ref\"\u001b[0m\u001b[0;34m]\u001b[0m \u001b[0;32mand\u001b[0m \u001b[0mprops\u001b[0m\u001b[0;34m[\u001b[0m\u001b[0;34m\"bare_funcall\"\u001b[0m\u001b[0;34m]\u001b[0m\u001b[0;34m:\u001b[0m\u001b[0;34m\u001b[0m\u001b[0;34m\u001b[0m\u001b[0m\n\u001b[1;32m    734\u001b[0m             \u001b[0mtoken\u001b[0m \u001b[0;34m=\u001b[0m \u001b[0mreplacer\u001b[0m\u001b[0;34m(\u001b[0m\u001b[0mtoken\u001b[0m\u001b[0;34m)\u001b[0m\u001b[0;34m\u001b[0m\u001b[0;34m\u001b[0m\u001b[0m\n",
      "\u001b[0;32m/Users/noemielevy/comparators/venv/lib/python3.7/site-packages/patsy/eval.py\u001b[0m in \u001b[0;36mannotated_tokens\u001b[0;34m(code)\u001b[0m\n\u001b[1;32m    695\u001b[0m     \u001b[0mprev_was_dot\u001b[0m \u001b[0;34m=\u001b[0m \u001b[0;32mFalse\u001b[0m\u001b[0;34m\u001b[0m\u001b[0;34m\u001b[0m\u001b[0m\n\u001b[1;32m    696\u001b[0m     \u001b[0mit\u001b[0m \u001b[0;34m=\u001b[0m \u001b[0mPushbackAdapter\u001b[0m\u001b[0;34m(\u001b[0m\u001b[0mpython_tokenize\u001b[0m\u001b[0;34m(\u001b[0m\u001b[0mcode\u001b[0m\u001b[0;34m)\u001b[0m\u001b[0;34m)\u001b[0m\u001b[0;34m\u001b[0m\u001b[0;34m\u001b[0m\u001b[0m\n\u001b[0;32m--> 697\u001b[0;31m     \u001b[0;32mfor\u001b[0m \u001b[0;34m(\u001b[0m\u001b[0mtoken_type\u001b[0m\u001b[0;34m,\u001b[0m \u001b[0mtoken\u001b[0m\u001b[0;34m,\u001b[0m \u001b[0morigin\u001b[0m\u001b[0;34m)\u001b[0m \u001b[0;32min\u001b[0m \u001b[0mit\u001b[0m\u001b[0;34m:\u001b[0m\u001b[0;34m\u001b[0m\u001b[0;34m\u001b[0m\u001b[0m\n\u001b[0m\u001b[1;32m    698\u001b[0m         \u001b[0mprops\u001b[0m \u001b[0;34m=\u001b[0m \u001b[0;34m{\u001b[0m\u001b[0;34m}\u001b[0m\u001b[0;34m\u001b[0m\u001b[0;34m\u001b[0m\u001b[0m\n\u001b[1;32m    699\u001b[0m         \u001b[0mprops\u001b[0m\u001b[0;34m[\u001b[0m\u001b[0;34m\"bare_ref\"\u001b[0m\u001b[0;34m]\u001b[0m \u001b[0;34m=\u001b[0m \u001b[0;34m(\u001b[0m\u001b[0;32mnot\u001b[0m \u001b[0mprev_was_dot\u001b[0m \u001b[0;32mand\u001b[0m \u001b[0mtoken_type\u001b[0m \u001b[0;34m==\u001b[0m \u001b[0mtokenize\u001b[0m\u001b[0;34m.\u001b[0m\u001b[0mNAME\u001b[0m\u001b[0;34m)\u001b[0m\u001b[0;34m\u001b[0m\u001b[0;34m\u001b[0m\u001b[0m\n",
      "\u001b[0;32m/Users/noemielevy/comparators/venv/lib/python3.7/site-packages/patsy/util.py\u001b[0m in \u001b[0;36mnext\u001b[0;34m(self)\u001b[0m\n\u001b[1;32m    347\u001b[0m         \u001b[0;32melse\u001b[0m\u001b[0;34m:\u001b[0m\u001b[0;34m\u001b[0m\u001b[0;34m\u001b[0m\u001b[0m\n\u001b[1;32m    348\u001b[0m             \u001b[0;31m# May raise StopIteration\u001b[0m\u001b[0;34m\u001b[0m\u001b[0;34m\u001b[0m\u001b[0;34m\u001b[0m\u001b[0m\n\u001b[0;32m--> 349\u001b[0;31m             \u001b[0;32mreturn\u001b[0m \u001b[0msix\u001b[0m\u001b[0;34m.\u001b[0m\u001b[0madvance_iterator\u001b[0m\u001b[0;34m(\u001b[0m\u001b[0mself\u001b[0m\u001b[0;34m.\u001b[0m\u001b[0m_it\u001b[0m\u001b[0;34m)\u001b[0m\u001b[0;34m\u001b[0m\u001b[0;34m\u001b[0m\u001b[0m\n\u001b[0m\u001b[1;32m    350\u001b[0m     \u001b[0m__next__\u001b[0m \u001b[0;34m=\u001b[0m \u001b[0mnext\u001b[0m\u001b[0;34m\u001b[0m\u001b[0;34m\u001b[0m\u001b[0m\n\u001b[1;32m    351\u001b[0m \u001b[0;34m\u001b[0m\u001b[0m\n",
      "\u001b[0;32m/Users/noemielevy/comparators/venv/lib/python3.7/site-packages/patsy/tokens.py\u001b[0m in \u001b[0;36mpython_tokenize\u001b[0;34m(code)\u001b[0m\n\u001b[1;32m     30\u001b[0m     \u001b[0;32mtry\u001b[0m\u001b[0;34m:\u001b[0m\u001b[0;34m\u001b[0m\u001b[0;34m\u001b[0m\u001b[0m\n\u001b[1;32m     31\u001b[0m         \u001b[0;32mfor\u001b[0m \u001b[0;34m(\u001b[0m\u001b[0mpytype\u001b[0m\u001b[0;34m,\u001b[0m \u001b[0mstring\u001b[0m\u001b[0;34m,\u001b[0m \u001b[0;34m(\u001b[0m\u001b[0m_\u001b[0m\u001b[0;34m,\u001b[0m \u001b[0mstart\u001b[0m\u001b[0;34m)\u001b[0m\u001b[0;34m,\u001b[0m \u001b[0;34m(\u001b[0m\u001b[0m_\u001b[0m\u001b[0;34m,\u001b[0m \u001b[0mend\u001b[0m\u001b[0;34m)\u001b[0m\u001b[0;34m,\u001b[0m \u001b[0mcode\u001b[0m\u001b[0;34m)\u001b[0m \u001b[0;32min\u001b[0m \u001b[0mit\u001b[0m\u001b[0;34m:\u001b[0m\u001b[0;34m\u001b[0m\u001b[0;34m\u001b[0m\u001b[0m\n\u001b[0;32m---> 32\u001b[0;31m             \u001b[0;32mif\u001b[0m \u001b[0mpytype\u001b[0m \u001b[0;34m==\u001b[0m \u001b[0mtokenize\u001b[0m\u001b[0;34m.\u001b[0m\u001b[0mENDMARKER\u001b[0m\u001b[0;34m:\u001b[0m\u001b[0;34m\u001b[0m\u001b[0;34m\u001b[0m\u001b[0m\n\u001b[0m\u001b[1;32m     33\u001b[0m                 \u001b[0;32mbreak\u001b[0m\u001b[0;34m\u001b[0m\u001b[0;34m\u001b[0m\u001b[0m\n\u001b[1;32m     34\u001b[0m             \u001b[0morigin\u001b[0m \u001b[0;34m=\u001b[0m \u001b[0mOrigin\u001b[0m\u001b[0;34m(\u001b[0m\u001b[0mcode\u001b[0m\u001b[0;34m,\u001b[0m \u001b[0mstart\u001b[0m\u001b[0;34m,\u001b[0m \u001b[0mend\u001b[0m\u001b[0;34m)\u001b[0m\u001b[0;34m\u001b[0m\u001b[0;34m\u001b[0m\u001b[0m\n",
      "\u001b[0;31mKeyboardInterrupt\u001b[0m: "
     ]
    }
   ],
   "source": [
    "## remove BB_high_day_minus8:\n",
    "removed.append('BB_high_day_minus8')\n",
    "str_formula = 'Signal1 ~ '\n",
    "for feat in features:\n",
    "    if feat not in removed: str_formula += feat + ' + '\n",
    "str_formula = str_formula[:-3]\n",
    "\n",
    "reg1 = smf.logit(formula  = str_formula, data = train).fit()\n",
    "\n",
    "print(reg1.summary())"
   ]
  },
  {
   "cell_type": "code",
   "execution_count": null,
   "metadata": {},
   "outputs": [],
   "source": [
    "## remove close_day_minus9:\n",
    "removed.append('close_day_minus9')\n",
    "str_formula = 'Signal1 ~ '\n",
    "for feat in features:\n",
    "    if feat not in removed: str_formula += feat + ' + '\n",
    "str_formula = str_formula[:-3]\n",
    "\n",
    "reg1 = smf.logit(formula  = str_formula, data = train).fit()\n",
    "\n",
    "print(reg1.summary())"
   ]
  },
  {
   "cell_type": "code",
   "execution_count": null,
   "metadata": {},
   "outputs": [],
   "source": [
    "## remove RSI_day_minus9:\n",
    "removed.append('RSI_day_minus9')\n",
    "str_formula = 'Signal1 ~ '\n",
    "for feat in features:\n",
    "    if feat not in removed: str_formula += feat + ' + '\n",
    "str_formula = str_formula[:-3]\n",
    "\n",
    "reg1 = smf.logit(formula  = str_formula, data = train).fit()\n",
    "\n",
    "print(reg1.summary())"
   ]
  },
  {
   "cell_type": "code",
   "execution_count": null,
   "metadata": {},
   "outputs": [],
   "source": [
    "## remove EMA_day_minus9:\n",
    "removed.append('EMA_day_minus9')\n",
    "str_formula = 'Signal1 ~ '\n",
    "for feat in features:\n",
    "    if feat not in removed: str_formula += feat + ' + '\n",
    "str_formula = str_formula[:-3]\n",
    "\n",
    "reg1 = smf.logit(formula  = str_formula, data = train).fit()\n",
    "\n",
    "print(reg1.summary())"
   ]
  },
  {
   "cell_type": "code",
   "execution_count": null,
   "metadata": {},
   "outputs": [],
   "source": [
    "## remove all MOM_day_minus10:\n",
    "removed.append('MOM_day_minus10')\n",
    "removed.append('MOM_day_minus9')\n",
    "removed.append('MOM_day_minus8')\n",
    "removed.append('MOM_day_minus7')\n",
    "removed.append('MOM_day_minus6')\n",
    "removed.append('MOM_day_minus5')\n",
    "removed.append('MOM_day_minus4')\n",
    "removed.append('MOM_day_minus3')\n",
    "removed.append('MOM_day_minus2')\n",
    "removed.append('MOM_day_minus1')\n",
    "str_formula = 'Signal1 ~ '\n",
    "for feat in features:\n",
    "    if feat not in removed: str_formula += feat + ' + '\n",
    "str_formula = str_formula[:-3]\n",
    "\n",
    "reg1 = smf.logit(formula  = str_formula, data = train).fit()\n",
    "\n",
    "print(reg1.summary())"
   ]
  },
  {
   "cell_type": "code",
   "execution_count": null,
   "metadata": {},
   "outputs": [],
   "source": [
    "## remove EMA_day_minus8:\n",
    "removed.append('EMA_day_minus8')\n",
    "str_formula = 'Signal1 ~ '\n",
    "for feat in features:\n",
    "    if feat not in removed: str_formula += feat + ' + '\n",
    "str_formula = str_formula[:-3]\n",
    "\n",
    "reg1 = smf.logit(formula  = str_formula, data = train).fit()\n",
    "\n",
    "print(reg1.summary())"
   ]
  },
  {
   "cell_type": "code",
   "execution_count": null,
   "metadata": {},
   "outputs": [],
   "source": [
    "## remove EMA_day_minus1:\n",
    "removed.append('EMA_day_minus1')\n",
    "str_formula = 'Signal1 ~ '\n",
    "for feat in features:\n",
    "    if feat not in removed: str_formula += feat + ' + '\n",
    "str_formula = str_formula[:-3]\n",
    "\n",
    "reg1 = smf.logit(formula  = str_formula, data = train).fit()\n",
    "\n",
    "print(reg1.summary())"
   ]
  },
  {
   "cell_type": "code",
   "execution_count": null,
   "metadata": {},
   "outputs": [],
   "source": [
    "## remove MACD_day_minus9:\n",
    "removed.append('MACD_day_minus9')\n",
    "str_formula = 'Signal1 ~ '\n",
    "for feat in features:\n",
    "    if feat not in removed: str_formula += feat + ' + '\n",
    "str_formula = str_formula[:-3]\n",
    "\n",
    "reg1 = smf.logit(formula  = str_formula, data = train).fit()\n",
    "\n",
    "print(reg1.summary())"
   ]
  },
  {
   "cell_type": "code",
   "execution_count": null,
   "metadata": {},
   "outputs": [],
   "source": [
    "## remove EMA_day_minus6:\n",
    "removed.append('EMA_day_minus6')\n",
    "str_formula = 'Signal1 ~ '\n",
    "for feat in features:\n",
    "    if feat not in removed: str_formula += feat + ' + '\n",
    "str_formula = str_formula[:-3]\n",
    "\n",
    "reg1 = smf.logit(formula  = str_formula, data = train).fit()\n",
    "\n",
    "print(reg1.summary())"
   ]
  },
  {
   "cell_type": "code",
   "execution_count": null,
   "metadata": {},
   "outputs": [],
   "source": [
    "## remove EMA_day_minus5:\n",
    "removed.append('EMA_day_minus5')\n",
    "str_formula = 'Signal1 ~ '\n",
    "for feat in features:\n",
    "    if feat not in removed: str_formula += feat + ' + '\n",
    "str_formula = str_formula[:-3]\n",
    "\n",
    "reg1 = smf.logit(formula  = str_formula, data = train).fit()\n",
    "\n",
    "print(reg1.summary())"
   ]
  },
  {
   "cell_type": "code",
   "execution_count": null,
   "metadata": {},
   "outputs": [],
   "source": [
    "## remove EMA_day_minus2:\n",
    "removed.append('EMA_day_minus2')\n",
    "str_formula = 'Signal1 ~ '\n",
    "for feat in features:\n",
    "    if feat not in removed: str_formula += feat + ' + '\n",
    "str_formula = str_formula[:-3]\n",
    "\n",
    "reg1 = smf.logit(formula  = str_formula, data = train).fit()\n",
    "\n",
    "print(reg1.summary())"
   ]
  },
  {
   "cell_type": "code",
   "execution_count": null,
   "metadata": {},
   "outputs": [],
   "source": [
    "## remove BB_high_day_minus2:\n",
    "removed.append('BB_high_day_minus2')\n",
    "str_formula = 'Signal1 ~ '\n",
    "for feat in features:\n",
    "    if feat not in removed: str_formula += feat + ' + '\n",
    "str_formula = str_formula[:-3]\n",
    "\n",
    "reg1 = smf.logit(formula  = str_formula, data = train).fit()\n",
    "\n",
    "print(reg1.summary())"
   ]
  },
  {
   "cell_type": "code",
   "execution_count": null,
   "metadata": {},
   "outputs": [],
   "source": [
    "## remove EMA_day_minus7:\n",
    "removed.append('EMA_day_minus7')\n",
    "str_formula = 'Signal1 ~ '\n",
    "for feat in features:\n",
    "    if feat not in removed: str_formula += feat + ' + '\n",
    "str_formula = str_formula[:-3]\n",
    "\n",
    "reg1 = smf.logit(formula  = str_formula, data = train).fit()\n",
    "\n",
    "print(reg1.summary())"
   ]
  },
  {
   "cell_type": "code",
   "execution_count": null,
   "metadata": {},
   "outputs": [],
   "source": [
    "## remove EMA_day_minus8:\n",
    "removed.append('EMA_day_minus8')\n",
    "str_formula = 'Signal1 ~ '\n",
    "for feat in features:\n",
    "    if feat not in removed: str_formula += feat + ' + '\n",
    "str_formula = str_formula[:-3]\n",
    "\n",
    "reg1 = smf.logit(formula  = str_formula, data = train).fit()\n",
    "\n",
    "print(reg1.summary())"
   ]
  },
  {
   "cell_type": "code",
   "execution_count": null,
   "metadata": {},
   "outputs": [],
   "source": [
    "y_prob = reg.predict(test)\n",
    "\n",
    "p75 = y_prob.mean() + y_prob.std()/3\n",
    "p25 = y_prob.mean() - y_prob.std()/3\n",
    "def classifier(x):\n",
    "    ''' Use the distribution of y_prob to define the classifier'''\n",
    "    if x < p25: return -1\n",
    "    if x > p75: return 1\n",
    "    return 0\n",
    "y_pred = [classifier(x) for x in y_prob]\n",
    "freq = {'1': len([x for x in y_pred if x == 1]), \n",
    "        '-1': len([x for x in y_pred if x == -1]), \n",
    "        '0': len([x for x in y_pred if x == 0])}\n",
    "print(freq)"
   ]
  },
  {
   "cell_type": "markdown",
   "metadata": {},
   "source": [
    "### 3. Test prediction model"
   ]
  },
  {
   "cell_type": "code",
   "execution_count": null,
   "metadata": {},
   "outputs": [],
   "source": [
    "TPR, FPR = 0, 0#get_TPR_FPR(y_test, y_pred)\n",
    "F1 = 0#get_F1(y_test, y_pred)\n",
    "ACC = get_ACC(y_test, y_pred)\n",
    "WACC = 0#get_WACC(y_test, y_pred, test_data.close)"
   ]
  },
  {
   "cell_type": "code",
   "execution_count": null,
   "metadata": {},
   "outputs": [],
   "source": [
    "models = ['Baseline']\n",
    "metrics = ['TPR', 'FPR', 'ACC', 'F1', 'WACC']\n",
    "metric_data = [[TPR, FPR, ACC, F1, WACC]]\n",
    "\n",
    "pd.DataFrame(metric_data, index=models, columns=metrics)"
   ]
  },
  {
   "cell_type": "markdown",
   "metadata": {},
   "source": [
    "### III. Strategy"
   ]
  },
  {
   "cell_type": "markdown",
   "metadata": {},
   "source": [
    "### 1. Get data ready for backtesting"
   ]
  },
  {
   "cell_type": "code",
   "execution_count": null,
   "metadata": {},
   "outputs": [],
   "source": [
    "signal = pd.Series(y_pred)\n",
    "close = test_data.close\n",
    "signal.describe()"
   ]
  },
  {
   "cell_type": "code",
   "execution_count": null,
   "metadata": {},
   "outputs": [],
   "source": [
    "# Crop for better visualization\n",
    "nb_days = 1\n",
    "\n",
    "signal_crop = crop_window(signal, nb_days)\n",
    "close_crop = crop_window(close, nb_days)"
   ]
  },
  {
   "cell_type": "markdown",
   "metadata": {},
   "source": [
    "### 2. Backtesting"
   ]
  },
  {
   "cell_type": "code",
   "execution_count": null,
   "metadata": {},
   "outputs": [],
   "source": [
    "strat = Strategy(cash=500, fees=0.001)"
   ]
  },
  {
   "cell_type": "code",
   "execution_count": null,
   "metadata": {},
   "outputs": [],
   "source": [
    "strat.run(signal_crop, close_crop, verbose=False)"
   ]
  },
  {
   "cell_type": "code",
   "execution_count": null,
   "metadata": {},
   "outputs": [],
   "source": [
    "wallet = np.array(strat.wallet)\n",
    "profit_list = [0]\n",
    "for i in range(1, len(wallet)):\n",
    "    profit_list.append(wallet[i]-wallet[i-1])\n",
    "    \n",
    "profit = np.array(profit_list)"
   ]
  },
  {
   "cell_type": "code",
   "execution_count": null,
   "metadata": {},
   "outputs": [],
   "source": [
    "strat.visualize()"
   ]
  },
  {
   "cell_type": "markdown",
   "metadata": {},
   "source": [
    "### 3. Test performance startegy"
   ]
  },
  {
   "cell_type": "code",
   "execution_count": null,
   "metadata": {},
   "outputs": [],
   "source": [
    "l_SharpeRatio = SharpeRatio(profit)\n",
    "l_MaxDrawback = MaxDrawback(profit)\n",
    "l_WinLossRatio = WinLossRatio(profit)\n",
    "l_CumulativeProfit = CumulativeProfit(profit)\n",
    "l_MeanProfit = MeanProfit(profit)"
   ]
  },
  {
   "cell_type": "code",
   "execution_count": null,
   "metadata": {},
   "outputs": [],
   "source": [
    "models = ['Baseline']\n",
    "metrics = ['SharpeRatio', 'MaxDrawback', 'WinLossRatio', 'CumulativeProfit', 'MeanProfit']\n",
    "metric_data = [[l_SharpeRatio, l_MaxDrawback, l_WinLossRatio, l_CumulativeProfit, l_MeanProfit]]\n",
    "\n",
    "pd.DataFrame(metric_data, index=models, columns=metrics)"
   ]
  },
  {
   "cell_type": "code",
   "execution_count": null,
   "metadata": {},
   "outputs": [],
   "source": []
  }
 ],
 "metadata": {
  "kernelspec": {
   "display_name": "Python 3",
   "language": "python",
   "name": "python3"
  },
  "language_info": {
   "codemirror_mode": {
    "name": "ipython",
    "version": 3
   },
   "file_extension": ".py",
   "mimetype": "text/x-python",
   "name": "python",
   "nbconvert_exporter": "python",
   "pygments_lexer": "ipython3",
   "version": "3.7.9"
  }
 },
 "nbformat": 4,
 "nbformat_minor": 2
}
