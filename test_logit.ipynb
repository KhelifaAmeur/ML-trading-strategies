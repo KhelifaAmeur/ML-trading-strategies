{
 "cells": [
  {
   "cell_type": "markdown",
   "metadata": {},
   "source": [
    "# Project 242"
   ]
  },
  {
   "cell_type": "markdown",
   "metadata": {},
   "source": [
    "## Import"
   ]
  },
  {
   "cell_type": "code",
   "execution_count": 351,
   "metadata": {},
   "outputs": [],
   "source": [
    "from backtester.backtesting import Strategy\n",
    "from modules.data_preprocessing import *\n",
    "from modules.add_features import *\n",
    "from modules.metrics_prediction import *\n",
    "from modules.metrics_performance import *\n",
    "from modules.models import *\n",
    "from modules.utils import *"
   ]
  },
  {
   "cell_type": "code",
   "execution_count": 352,
   "metadata": {},
   "outputs": [],
   "source": [
    "import numpy as np\n",
    "import matplotlib.pyplot as plt\n",
    "import pandas as pd\n",
    "import random as rd"
   ]
  },
  {
   "cell_type": "markdown",
   "metadata": {},
   "source": [
    "## I. Data"
   ]
  },
  {
   "cell_type": "markdown",
   "metadata": {},
   "source": [
    "### 1. Load data"
   ]
  },
  {
   "cell_type": "code",
   "execution_count": 353,
   "metadata": {},
   "outputs": [],
   "source": [
    "data = pd.read_csv('data/Binance_BTCUSDT_1h.csv')"
   ]
  },
  {
   "cell_type": "code",
   "execution_count": 354,
   "metadata": {},
   "outputs": [
    {
     "data": {
      "text/html": [
       "<div>\n",
       "<style scoped>\n",
       "    .dataframe tbody tr th:only-of-type {\n",
       "        vertical-align: middle;\n",
       "    }\n",
       "\n",
       "    .dataframe tbody tr th {\n",
       "        vertical-align: top;\n",
       "    }\n",
       "\n",
       "    .dataframe thead th {\n",
       "        text-align: right;\n",
       "    }\n",
       "</style>\n",
       "<table border=\"1\" class=\"dataframe\">\n",
       "  <thead>\n",
       "    <tr style=\"text-align: right;\">\n",
       "      <th></th>\n",
       "      <th>unix</th>\n",
       "      <th>date</th>\n",
       "      <th>symbol</th>\n",
       "      <th>open</th>\n",
       "      <th>high</th>\n",
       "      <th>low</th>\n",
       "      <th>close</th>\n",
       "      <th>Volume BTC</th>\n",
       "      <th>Volume USDT</th>\n",
       "      <th>tradecount</th>\n",
       "    </tr>\n",
       "  </thead>\n",
       "  <tbody>\n",
       "    <tr>\n",
       "      <th>0</th>\n",
       "      <td>1.637280e+12</td>\n",
       "      <td>2021-11-19 00:00:00</td>\n",
       "      <td>BTC/USDT</td>\n",
       "      <td>56891.62</td>\n",
       "      <td>57247.58</td>\n",
       "      <td>56674.00</td>\n",
       "      <td>57144.98</td>\n",
       "      <td>719.65701</td>\n",
       "      <td>4.099574e+07</td>\n",
       "      <td>19977.0</td>\n",
       "    </tr>\n",
       "    <tr>\n",
       "      <th>1</th>\n",
       "      <td>1.637276e+12</td>\n",
       "      <td>2021-11-18 23:00:00</td>\n",
       "      <td>BTC/USDT</td>\n",
       "      <td>56613.30</td>\n",
       "      <td>56987.57</td>\n",
       "      <td>56474.26</td>\n",
       "      <td>56891.62</td>\n",
       "      <td>2553.36240</td>\n",
       "      <td>1.447890e+08</td>\n",
       "      <td>76763.0</td>\n",
       "    </tr>\n",
       "  </tbody>\n",
       "</table>\n",
       "</div>"
      ],
      "text/plain": [
       "           unix                 date    symbol      open      high       low  \\\n",
       "0  1.637280e+12  2021-11-19 00:00:00  BTC/USDT  56891.62  57247.58  56674.00   \n",
       "1  1.637276e+12  2021-11-18 23:00:00  BTC/USDT  56613.30  56987.57  56474.26   \n",
       "\n",
       "      close  Volume BTC   Volume USDT  tradecount  \n",
       "0  57144.98   719.65701  4.099574e+07     19977.0  \n",
       "1  56891.62  2553.36240  1.447890e+08     76763.0  "
      ]
     },
     "execution_count": 354,
     "metadata": {},
     "output_type": "execute_result"
    },
    {
     "data": {
      "image/png": "[encoded data removed]",
      "text/plain": [
       "<Figure size 432x288 with 1 Axes>"
      ]
     },
     "metadata": {
      "needs_background": "light"
     },
     "output_type": "display_data"
    }
   ],
   "source": [
    "plt.plot(data[::-1].reset_index().close)\n",
    "data.head(2)"
   ]
  },
  {
   "cell_type": "markdown",
   "metadata": {},
   "source": [
    "### 2. Preprocess data\n",
    "\n",
    "- clean data\n",
    "- add features"
   ]
  },
  {
   "cell_type": "code",
   "execution_count": 355,
   "metadata": {},
   "outputs": [],
   "source": [
    "# Clean data\n",
    "data = clean_data(data)\n",
    "data = data.rename(columns = {'Volume USDT': 'Volume'})"
   ]
  },
  {
   "cell_type": "markdown",
   "metadata": {},
   "source": [
    "Here, we can decide to add features ..."
   ]
  },
  {
   "cell_type": "code",
   "execution_count": 356,
   "metadata": {},
   "outputs": [],
   "source": [
    "# Add features\n",
    "data = add_technical_indicators(data, lookback_period=30)[30:]"
   ]
  },
  {
   "cell_type": "code",
   "execution_count": 357,
   "metadata": {},
   "outputs": [],
   "source": [
    "data.loc[data['VWAP'].isna(), 'VWAP'] = 0"
   ]
  },
  {
   "cell_type": "code",
   "execution_count": 358,
   "metadata": {},
   "outputs": [],
   "source": [
    "# Split data\n",
    "train_data, test_data = split_data(data, split=0.25)\n"
   ]
  },
  {
   "cell_type": "code",
   "execution_count": 359,
   "metadata": {},
   "outputs": [],
   "source": [
    "# Add Return\n",
    "train_data = add_return(train_data)\n",
    "test_data = add_return(test_data)"
   ]
  },
  {
   "cell_type": "code",
   "execution_count": 360,
   "metadata": {},
   "outputs": [],
   "source": [
    "# Add Signal\n",
    "train_data = add_signal(train_data, 0.001)\n",
    "test_data = add_signal(test_data, 0.001)"
   ]
  },
  {
   "cell_type": "code",
   "execution_count": 361,
   "metadata": {},
   "outputs": [
    {
     "name": "stderr",
     "output_type": "stream",
     "text": [
      "/Users/noemielevy/INDENG-242-project/modules/data_preprocessing.py:59: VisibleDeprecationWarning: Creating an ndarray from ragged nested sequences (which is a list-or-tuple of lists-or-tuples-or ndarrays with different lengths or shapes) is deprecated. If you meant to do this, you must specify 'dtype=object' when creating the ndarray\n",
      "  return np.array(X), S, R\n"
     ]
    }
   ],
   "source": [
    "train = prepare_data_2D_format(train_data, lookback_period = 1, undersample = False)\n",
    "test = prepare_data_2D_format(test_data, lookback_period = 1, undersample = False)\n",
    "test = test[:-2]"
   ]
  },
  {
   "cell_type": "markdown",
   "metadata": {},
   "source": [
    "## II. Model"
   ]
  },
  {
   "cell_type": "code",
   "execution_count": 362,
   "metadata": {},
   "outputs": [
    {
     "data": {
      "text/html": [
       "<div>\n",
       "<style scoped>\n",
       "    .dataframe tbody tr th:only-of-type {\n",
       "        vertical-align: middle;\n",
       "    }\n",
       "\n",
       "    .dataframe tbody tr th {\n",
       "        vertical-align: top;\n",
       "    }\n",
       "\n",
       "    .dataframe thead th {\n",
       "        text-align: right;\n",
       "    }\n",
       "</style>\n",
       "<table border=\"1\" class=\"dataframe\">\n",
       "  <thead>\n",
       "    <tr style=\"text-align: right;\">\n",
       "      <th></th>\n",
       "      <th>open_day_minus1</th>\n",
       "      <th>high_day_minus1</th>\n",
       "      <th>low_day_minus1</th>\n",
       "      <th>close_day_minus1</th>\n",
       "      <th>Volume_day_minus1</th>\n",
       "      <th>MOM_day_minus1</th>\n",
       "      <th>RSI_day_minus1</th>\n",
       "      <th>VWAP_day_minus1</th>\n",
       "      <th>BB_high_day_minus1</th>\n",
       "      <th>BB_low_day_minus1</th>\n",
       "      <th>EMA_day_minus1</th>\n",
       "      <th>CCI_day_minus1</th>\n",
       "      <th>MACD_day_minus1</th>\n",
       "      <th>Signal</th>\n",
       "    </tr>\n",
       "  </thead>\n",
       "  <tbody>\n",
       "    <tr>\n",
       "      <th>open_day_minus1</th>\n",
       "      <td>1.000000</td>\n",
       "      <td>0.999664</td>\n",
       "      <td>0.999516</td>\n",
       "      <td>0.999478</td>\n",
       "      <td>0.333702</td>\n",
       "      <td>0.067537</td>\n",
       "      <td>0.089772</td>\n",
       "      <td>0.996745</td>\n",
       "      <td>0.992840</td>\n",
       "      <td>0.993181</td>\n",
       "      <td>0.997577</td>\n",
       "      <td>0.039179</td>\n",
       "      <td>0.067537</td>\n",
       "      <td>-0.011448</td>\n",
       "    </tr>\n",
       "    <tr>\n",
       "      <th>high_day_minus1</th>\n",
       "      <td>0.999664</td>\n",
       "      <td>1.000000</td>\n",
       "      <td>0.999180</td>\n",
       "      <td>0.999672</td>\n",
       "      <td>0.337692</td>\n",
       "      <td>0.064985</td>\n",
       "      <td>0.091426</td>\n",
       "      <td>0.996700</td>\n",
       "      <td>0.993870</td>\n",
       "      <td>0.992132</td>\n",
       "      <td>0.997606</td>\n",
       "      <td>0.041996</td>\n",
       "      <td>0.064985</td>\n",
       "      <td>-0.011340</td>\n",
       "    </tr>\n",
       "    <tr>\n",
       "      <th>low_day_minus1</th>\n",
       "      <td>0.999516</td>\n",
       "      <td>0.999180</td>\n",
       "      <td>1.000000</td>\n",
       "      <td>0.999644</td>\n",
       "      <td>0.326508</td>\n",
       "      <td>0.072379</td>\n",
       "      <td>0.095880</td>\n",
       "      <td>0.996095</td>\n",
       "      <td>0.990935</td>\n",
       "      <td>0.993623</td>\n",
       "      <td>0.996859</td>\n",
       "      <td>0.046476</td>\n",
       "      <td>0.072379</td>\n",
       "      <td>-0.011412</td>\n",
       "    </tr>\n",
       "    <tr>\n",
       "      <th>close_day_minus1</th>\n",
       "      <td>0.999478</td>\n",
       "      <td>0.999672</td>\n",
       "      <td>0.999644</td>\n",
       "      <td>1.000000</td>\n",
       "      <td>0.332104</td>\n",
       "      <td>0.068637</td>\n",
       "      <td>0.096031</td>\n",
       "      <td>0.996383</td>\n",
       "      <td>0.992456</td>\n",
       "      <td>0.992795</td>\n",
       "      <td>0.997233</td>\n",
       "      <td>0.046205</td>\n",
       "      <td>0.068637</td>\n",
       "      <td>-0.011368</td>\n",
       "    </tr>\n",
       "    <tr>\n",
       "      <th>Volume_day_minus1</th>\n",
       "      <td>0.333702</td>\n",
       "      <td>0.337692</td>\n",
       "      <td>0.326508</td>\n",
       "      <td>0.332104</td>\n",
       "      <td>1.000000</td>\n",
       "      <td>-0.021973</td>\n",
       "      <td>0.026602</td>\n",
       "      <td>0.336993</td>\n",
       "      <td>0.339229</td>\n",
       "      <td>0.330390</td>\n",
       "      <td>0.336132</td>\n",
       "      <td>0.001178</td>\n",
       "      <td>-0.021973</td>\n",
       "      <td>-0.009107</td>\n",
       "    </tr>\n",
       "    <tr>\n",
       "      <th>MOM_day_minus1</th>\n",
       "      <td>0.067537</td>\n",
       "      <td>0.064985</td>\n",
       "      <td>0.072379</td>\n",
       "      <td>0.068637</td>\n",
       "      <td>-0.021973</td>\n",
       "      <td>1.000000</td>\n",
       "      <td>0.619733</td>\n",
       "      <td>-0.000259</td>\n",
       "      <td>-0.016491</td>\n",
       "      <td>-0.004125</td>\n",
       "      <td>0.004150</td>\n",
       "      <td>0.556981</td>\n",
       "      <td>1.000000</td>\n",
       "      <td>0.010050</td>\n",
       "    </tr>\n",
       "    <tr>\n",
       "      <th>RSI_day_minus1</th>\n",
       "      <td>0.089772</td>\n",
       "      <td>0.091426</td>\n",
       "      <td>0.095880</td>\n",
       "      <td>0.096031</td>\n",
       "      <td>0.026602</td>\n",
       "      <td>0.619733</td>\n",
       "      <td>1.000000</td>\n",
       "      <td>0.046999</td>\n",
       "      <td>0.034676</td>\n",
       "      <td>0.043601</td>\n",
       "      <td>0.045001</td>\n",
       "      <td>0.759072</td>\n",
       "      <td>0.619733</td>\n",
       "      <td>0.016244</td>\n",
       "    </tr>\n",
       "    <tr>\n",
       "      <th>VWAP_day_minus1</th>\n",
       "      <td>0.996745</td>\n",
       "      <td>0.996700</td>\n",
       "      <td>0.996095</td>\n",
       "      <td>0.996383</td>\n",
       "      <td>0.336993</td>\n",
       "      <td>-0.000259</td>\n",
       "      <td>0.046999</td>\n",
       "      <td>1.000000</td>\n",
       "      <td>0.995660</td>\n",
       "      <td>0.995812</td>\n",
       "      <td>0.999264</td>\n",
       "      <td>-0.004444</td>\n",
       "      <td>-0.000259</td>\n",
       "      <td>-0.011723</td>\n",
       "    </tr>\n",
       "    <tr>\n",
       "      <th>BB_high_day_minus1</th>\n",
       "      <td>0.992840</td>\n",
       "      <td>0.993870</td>\n",
       "      <td>0.990935</td>\n",
       "      <td>0.992456</td>\n",
       "      <td>0.339229</td>\n",
       "      <td>-0.016491</td>\n",
       "      <td>0.034676</td>\n",
       "      <td>0.995660</td>\n",
       "      <td>1.000000</td>\n",
       "      <td>0.985614</td>\n",
       "      <td>0.996507</td>\n",
       "      <td>-0.012875</td>\n",
       "      <td>-0.016491</td>\n",
       "      <td>-0.011651</td>\n",
       "    </tr>\n",
       "    <tr>\n",
       "      <th>BB_low_day_minus1</th>\n",
       "      <td>0.993181</td>\n",
       "      <td>0.992132</td>\n",
       "      <td>0.993623</td>\n",
       "      <td>0.992795</td>\n",
       "      <td>0.330390</td>\n",
       "      <td>-0.004125</td>\n",
       "      <td>0.043601</td>\n",
       "      <td>0.995812</td>\n",
       "      <td>0.985614</td>\n",
       "      <td>1.000000</td>\n",
       "      <td>0.995907</td>\n",
       "      <td>-0.007366</td>\n",
       "      <td>-0.004125</td>\n",
       "      <td>-0.012335</td>\n",
       "    </tr>\n",
       "    <tr>\n",
       "      <th>EMA_day_minus1</th>\n",
       "      <td>0.997577</td>\n",
       "      <td>0.997606</td>\n",
       "      <td>0.996859</td>\n",
       "      <td>0.997233</td>\n",
       "      <td>0.336132</td>\n",
       "      <td>0.004150</td>\n",
       "      <td>0.045001</td>\n",
       "      <td>0.999264</td>\n",
       "      <td>0.996507</td>\n",
       "      <td>0.995907</td>\n",
       "      <td>1.000000</td>\n",
       "      <td>-0.001809</td>\n",
       "      <td>0.004150</td>\n",
       "      <td>-0.012115</td>\n",
       "    </tr>\n",
       "    <tr>\n",
       "      <th>CCI_day_minus1</th>\n",
       "      <td>0.039179</td>\n",
       "      <td>0.041996</td>\n",
       "      <td>0.046476</td>\n",
       "      <td>0.046205</td>\n",
       "      <td>0.001178</td>\n",
       "      <td>0.556981</td>\n",
       "      <td>0.759072</td>\n",
       "      <td>-0.004444</td>\n",
       "      <td>-0.012875</td>\n",
       "      <td>-0.007366</td>\n",
       "      <td>-0.001809</td>\n",
       "      <td>1.000000</td>\n",
       "      <td>0.556981</td>\n",
       "      <td>0.008247</td>\n",
       "    </tr>\n",
       "    <tr>\n",
       "      <th>MACD_day_minus1</th>\n",
       "      <td>0.067537</td>\n",
       "      <td>0.064985</td>\n",
       "      <td>0.072379</td>\n",
       "      <td>0.068637</td>\n",
       "      <td>-0.021973</td>\n",
       "      <td>1.000000</td>\n",
       "      <td>0.619733</td>\n",
       "      <td>-0.000259</td>\n",
       "      <td>-0.016491</td>\n",
       "      <td>-0.004125</td>\n",
       "      <td>0.004150</td>\n",
       "      <td>0.556981</td>\n",
       "      <td>1.000000</td>\n",
       "      <td>0.010050</td>\n",
       "    </tr>\n",
       "    <tr>\n",
       "      <th>Signal</th>\n",
       "      <td>-0.011448</td>\n",
       "      <td>-0.011340</td>\n",
       "      <td>-0.011412</td>\n",
       "      <td>-0.011368</td>\n",
       "      <td>-0.009107</td>\n",
       "      <td>0.010050</td>\n",
       "      <td>0.016244</td>\n",
       "      <td>-0.011723</td>\n",
       "      <td>-0.011651</td>\n",
       "      <td>-0.012335</td>\n",
       "      <td>-0.012115</td>\n",
       "      <td>0.008247</td>\n",
       "      <td>0.010050</td>\n",
       "      <td>1.000000</td>\n",
       "    </tr>\n",
       "  </tbody>\n",
       "</table>\n",
       "</div>"
      ],
      "text/plain": [
       "                    open_day_minus1  high_day_minus1  low_day_minus1  \\\n",
       "open_day_minus1            1.000000         0.999664        0.999516   \n",
       "high_day_minus1            0.999664         1.000000        0.999180   \n",
       "low_day_minus1             0.999516         0.999180        1.000000   \n",
       "close_day_minus1           0.999478         0.999672        0.999644   \n",
       "Volume_day_minus1          0.333702         0.337692        0.326508   \n",
       "MOM_day_minus1             0.067537         0.064985        0.072379   \n",
       "RSI_day_minus1             0.089772         0.091426        0.095880   \n",
       "VWAP_day_minus1            0.996745         0.996700        0.996095   \n",
       "BB_high_day_minus1         0.992840         0.993870        0.990935   \n",
       "BB_low_day_minus1          0.993181         0.992132        0.993623   \n",
       "EMA_day_minus1             0.997577         0.997606        0.996859   \n",
       "CCI_day_minus1             0.039179         0.041996        0.046476   \n",
       "MACD_day_minus1            0.067537         0.064985        0.072379   \n",
       "Signal                    -0.011448        -0.011340       -0.011412   \n",
       "\n",
       "                    close_day_minus1  Volume_day_minus1  MOM_day_minus1  \\\n",
       "open_day_minus1             0.999478           0.333702        0.067537   \n",
       "high_day_minus1             0.999672           0.337692        0.064985   \n",
       "low_day_minus1              0.999644           0.326508        0.072379   \n",
       "close_day_minus1            1.000000           0.332104        0.068637   \n",
       "Volume_day_minus1           0.332104           1.000000       -0.021973   \n",
       "MOM_day_minus1              0.068637          -0.021973        1.000000   \n",
       "RSI_day_minus1              0.096031           0.026602        0.619733   \n",
       "VWAP_day_minus1             0.996383           0.336993       -0.000259   \n",
       "BB_high_day_minus1          0.992456           0.339229       -0.016491   \n",
       "BB_low_day_minus1           0.992795           0.330390       -0.004125   \n",
       "EMA_day_minus1              0.997233           0.336132        0.004150   \n",
       "CCI_day_minus1              0.046205           0.001178        0.556981   \n",
       "MACD_day_minus1             0.068637          -0.021973        1.000000   \n",
       "Signal                     -0.011368          -0.009107        0.010050   \n",
       "\n",
       "                    RSI_day_minus1  VWAP_day_minus1  BB_high_day_minus1  \\\n",
       "open_day_minus1           0.089772         0.996745            0.992840   \n",
       "high_day_minus1           0.091426         0.996700            0.993870   \n",
       "low_day_minus1            0.095880         0.996095            0.990935   \n",
       "close_day_minus1          0.096031         0.996383            0.992456   \n",
       "Volume_day_minus1         0.026602         0.336993            0.339229   \n",
       "MOM_day_minus1            0.619733        -0.000259           -0.016491   \n",
       "RSI_day_minus1            1.000000         0.046999            0.034676   \n",
       "VWAP_day_minus1           0.046999         1.000000            0.995660   \n",
       "BB_high_day_minus1        0.034676         0.995660            1.000000   \n",
       "BB_low_day_minus1         0.043601         0.995812            0.985614   \n",
       "EMA_day_minus1            0.045001         0.999264            0.996507   \n",
       "CCI_day_minus1            0.759072        -0.004444           -0.012875   \n",
       "MACD_day_minus1           0.619733        -0.000259           -0.016491   \n",
       "Signal                    0.016244        -0.011723           -0.011651   \n",
       "\n",
       "                    BB_low_day_minus1  EMA_day_minus1  CCI_day_minus1  \\\n",
       "open_day_minus1              0.993181        0.997577        0.039179   \n",
       "high_day_minus1              0.992132        0.997606        0.041996   \n",
       "low_day_minus1               0.993623        0.996859        0.046476   \n",
       "close_day_minus1             0.992795        0.997233        0.046205   \n",
       "Volume_day_minus1            0.330390        0.336132        0.001178   \n",
       "MOM_day_minus1              -0.004125        0.004150        0.556981   \n",
       "RSI_day_minus1               0.043601        0.045001        0.759072   \n",
       "VWAP_day_minus1              0.995812        0.999264       -0.004444   \n",
       "BB_high_day_minus1           0.985614        0.996507       -0.012875   \n",
       "BB_low_day_minus1            1.000000        0.995907       -0.007366   \n",
       "EMA_day_minus1               0.995907        1.000000       -0.001809   \n",
       "CCI_day_minus1              -0.007366       -0.001809        1.000000   \n",
       "MACD_day_minus1             -0.004125        0.004150        0.556981   \n",
       "Signal                      -0.012335       -0.012115        0.008247   \n",
       "\n",
       "                    MACD_day_minus1    Signal  \n",
       "open_day_minus1            0.067537 -0.011448  \n",
       "high_day_minus1            0.064985 -0.011340  \n",
       "low_day_minus1             0.072379 -0.011412  \n",
       "close_day_minus1           0.068637 -0.011368  \n",
       "Volume_day_minus1         -0.021973 -0.009107  \n",
       "MOM_day_minus1             1.000000  0.010050  \n",
       "RSI_day_minus1             0.619733  0.016244  \n",
       "VWAP_day_minus1           -0.000259 -0.011723  \n",
       "BB_high_day_minus1        -0.016491 -0.011651  \n",
       "BB_low_day_minus1         -0.004125 -0.012335  \n",
       "EMA_day_minus1             0.004150 -0.012115  \n",
       "CCI_day_minus1             0.556981  0.008247  \n",
       "MACD_day_minus1            1.000000  0.010050  \n",
       "Signal                     0.010050  1.000000  "
      ]
     },
     "execution_count": 362,
     "metadata": {},
     "output_type": "execute_result"
    }
   ],
   "source": [
    "train.corr()"
   ]
  },
  {
   "cell_type": "markdown",
   "metadata": {},
   "source": [
    "Many features are highly correlated. It does not seem necessary to keep the open, high and low prices in a day."
   ]
  },
  {
   "cell_type": "code",
   "execution_count": 379,
   "metadata": {},
   "outputs": [
    {
     "data": {
      "text/plain": [
       "array([1, 1, 1, ..., 1, 1, 1])"
      ]
     },
     "execution_count": 379,
     "metadata": {},
     "output_type": "execute_result"
    }
   ],
   "source": [
    "from sklearn.linear_model import LogisticRegression\n",
    "# Create MLR model\n",
    "logistic_regression = LogisticRegression(multi_class=\"multinomial\")\n",
    "\n",
    "# Train\n",
    "log = logistic_regression.fit(train.drop(['Signal'], axis = 1), train['Signal'])\n",
    "\n",
    "# Check score\n",
    "y_pred = log.predict(test.drop(['Signal'], axis = 1))"
   ]
  },
  {
   "cell_type": "markdown",
   "metadata": {},
   "source": [
    "### A. Predicting if a signal will be non-negative"
   ]
  },
  {
   "cell_type": "code",
   "execution_count": 363,
   "metadata": {},
   "outputs": [],
   "source": [
    "train['Signal1'] = (train['Signal']>=0).apply(int)\n",
    "test['Signal1'] = (test['Signal']>=0).apply(int)\n",
    "\n",
    "rus = RandomUnderSampler(random_state=42)\n",
    "X_res, y_res = rus.fit_resample(train.drop(['Signal1'], axis=1), train['Signal1'])\n",
    "train1 = X_res\n",
    "train1['Signal1'] = y_res"
   ]
  },
  {
   "cell_type": "code",
   "execution_count": 364,
   "metadata": {},
   "outputs": [],
   "source": [
    "removed = ['Signal', 'Return', 'Signal1', 'Signal2']\n",
    "str_formula = 'Signal1 ~ '\n",
    "for feat in train.columns:\n",
    "    if feat not in removed: str_formula += feat + ' + '\n",
    "str_formula = str_formula[:-3]"
   ]
  },
  {
   "cell_type": "code",
   "execution_count": 365,
   "metadata": {},
   "outputs": [
    {
     "data": {
      "text/plain": [
       "'Signal1 ~ open_day_minus1 + high_day_minus1 + low_day_minus1 + close_day_minus1 + Volume_day_minus1 + MOM_day_minus1 + RSI_day_minus1 + VWAP_day_minus1 + BB_high_day_minus1 + BB_low_day_minus1 + EMA_day_minus1 + CCI_day_minus1 + MACD_day_minus1'"
      ]
     },
     "execution_count": 365,
     "metadata": {},
     "output_type": "execute_result"
    }
   ],
   "source": [
    "str_formula"
   ]
  },
  {
   "cell_type": "code",
   "execution_count": 366,
   "metadata": {},
   "outputs": [
    {
     "name": "stdout",
     "output_type": "stream",
     "text": [
      "Optimization terminated successfully.\n",
      "         Current function value: 0.686579\n",
      "         Iterations 5\n",
      "                           Logit Regression Results                           \n",
      "==============================================================================\n",
      "Dep. Variable:                Signal1   No. Observations:                21452\n",
      "Model:                          Logit   Df Residuals:                    21438\n",
      "Method:                           MLE   Df Model:                           13\n",
      "Date:                Mon, 06 Dec 2021   Pseudo R-squ.:                0.009476\n",
      "Time:                        23:26:01   Log-Likelihood:                -14728.\n",
      "converged:                       True   LL-Null:                       -14869.\n",
      "Covariance Type:            nonrobust   LLR p-value:                 1.521e-52\n",
      "======================================================================================\n",
      "                         coef    std err          z      P>|z|      [0.025      0.975]\n",
      "--------------------------------------------------------------------------------------\n",
      "Intercept             -0.4962      0.146     -3.398      0.001      -0.782      -0.210\n",
      "open_day_minus1       -0.0002      0.000     -0.581      0.561      -0.001       0.000\n",
      "high_day_minus1       -0.0005      0.000     -1.323      0.186      -0.001       0.000\n",
      "low_day_minus1         0.0007      0.000      2.219      0.026    8.56e-05       0.001\n",
      "close_day_minus1      -0.0003      0.000     -0.809      0.418      -0.001       0.000\n",
      "Volume_day_minus1   2.628e-09   9.69e-10      2.711      0.007    7.28e-10    4.53e-09\n",
      "MOM_day_minus1      5.231e-05        nan        nan        nan         nan         nan\n",
      "RSI_day_minus1         0.0044      0.003      1.579      0.114      -0.001       0.010\n",
      "VWAP_day_minus1     7.749e-05      0.000      0.617      0.537      -0.000       0.000\n",
      "BB_high_day_minus1    -0.0004      0.000     -1.604      0.109      -0.001     9.4e-05\n",
      "BB_low_day_minus1      0.0003      0.000      1.281      0.200      -0.000       0.001\n",
      "EMA_day_minus1         0.0003      0.000      0.750      0.453      -0.001       0.001\n",
      "CCI_day_minus1      -5.83e-05      0.000     -0.287      0.774      -0.000       0.000\n",
      "MACD_day_minus1     5.417e-05        nan        nan        nan         nan         nan\n",
      "======================================================================================\n"
     ]
    }
   ],
   "source": [
    "import statsmodels.formula.api as smf\n",
    "import numpy as np\n",
    "\n",
    "# at first I will use all features\n",
    "# fitting data to the model\n",
    "reg1 = smf.logit(formula  = str_formula, data = train1).fit()\n",
    "\n",
    "print(reg1.summary())"
   ]
  },
  {
   "cell_type": "code",
   "execution_count": 367,
   "metadata": {},
   "outputs": [
    {
     "name": "stdout",
     "output_type": "stream",
     "text": [
      "Optimization terminated successfully.\n",
      "         Current function value: 0.686581\n",
      "         Iterations 5\n",
      "                           Logit Regression Results                           \n",
      "==============================================================================\n",
      "Dep. Variable:                Signal1   No. Observations:                21452\n",
      "Model:                          Logit   Df Residuals:                    21439\n",
      "Method:                           MLE   Df Model:                           12\n",
      "Date:                Mon, 06 Dec 2021   Pseudo R-squ.:                0.009473\n",
      "Time:                        23:26:01   Log-Likelihood:                -14729.\n",
      "converged:                       True   LL-Null:                       -14869.\n",
      "Covariance Type:            nonrobust   LLR p-value:                 3.188e-53\n",
      "======================================================================================\n",
      "                         coef    std err          z      P>|z|      [0.025      0.975]\n",
      "--------------------------------------------------------------------------------------\n",
      "Intercept             -0.4712      0.117     -4.020      0.000      -0.701      -0.241\n",
      "open_day_minus1       -0.0002      0.000     -0.569      0.569      -0.001       0.000\n",
      "high_day_minus1       -0.0005      0.000     -1.381      0.167      -0.001       0.000\n",
      "low_day_minus1         0.0007      0.000      2.202      0.028    7.91e-05       0.001\n",
      "close_day_minus1      -0.0003      0.000     -0.794      0.427      -0.001       0.000\n",
      "Volume_day_minus1   2.629e-09   9.69e-10      2.712      0.007    7.29e-10    4.53e-09\n",
      "MOM_day_minus1      6.734e-05   5062.337   1.33e-08      1.000   -9921.997    9921.998\n",
      "RSI_day_minus1         0.0039      0.002      1.803      0.071      -0.000       0.008\n",
      "VWAP_day_minus1     7.851e-05      0.000      0.625      0.532      -0.000       0.000\n",
      "BB_high_day_minus1    -0.0004      0.000     -1.609      0.108      -0.001    8.61e-05\n",
      "BB_low_day_minus1      0.0004      0.000      1.488      0.137      -0.000       0.001\n",
      "EMA_day_minus1         0.0003      0.000      0.698      0.485      -0.001       0.001\n",
      "MACD_day_minus1     6.121e-05   5062.337   1.21e-08      1.000   -9921.997    9921.998\n",
      "======================================================================================\n"
     ]
    }
   ],
   "source": [
    "# feature CCI_day_minus1 has a large P-value, I remove it.\n",
    "removed.append('CCI_day_minus1')\n",
    "str_formula = 'Signal1 ~ '\n",
    "for feat in train.columns:\n",
    "    if feat not in removed: str_formula += feat + ' + '\n",
    "str_formula = str_formula[:-3]\n",
    "reg1 = smf.logit(formula  = str_formula, data = train1).fit()\n",
    "\n",
    "print(reg1.summary())"
   ]
  },
  {
   "cell_type": "code",
   "execution_count": 368,
   "metadata": {},
   "outputs": [
    {
     "name": "stdout",
     "output_type": "stream",
     "text": [
      "Optimization terminated successfully.\n",
      "         Current function value: 0.686581\n",
      "         Iterations 5\n",
      "                           Logit Regression Results                           \n",
      "==============================================================================\n",
      "Dep. Variable:                Signal1   No. Observations:                21452\n",
      "Model:                          Logit   Df Residuals:                    21440\n",
      "Method:                           MLE   Df Model:                           11\n",
      "Date:                Mon, 06 Dec 2021   Pseudo R-squ.:                0.009473\n",
      "Time:                        23:26:02   Log-Likelihood:                -14729.\n",
      "converged:                       True   LL-Null:                       -14869.\n",
      "Covariance Type:            nonrobust   LLR p-value:                 6.135e-54\n",
      "======================================================================================\n",
      "                         coef    std err          z      P>|z|      [0.025      0.975]\n",
      "--------------------------------------------------------------------------------------\n",
      "Intercept             -0.4712      0.117     -4.020      0.000      -0.701      -0.241\n",
      "open_day_minus1       -0.0002      0.000     -0.569      0.569      -0.001       0.000\n",
      "high_day_minus1       -0.0005      0.000     -1.381      0.167      -0.001       0.000\n",
      "low_day_minus1         0.0007      0.000      2.202      0.028    7.91e-05       0.001\n",
      "close_day_minus1      -0.0003      0.000     -0.794      0.427      -0.001       0.000\n",
      "Volume_day_minus1   2.629e-09   9.69e-10      2.712      0.007    7.29e-10    4.53e-09\n",
      "RSI_day_minus1         0.0039      0.002      1.803      0.071      -0.000       0.008\n",
      "VWAP_day_minus1     7.851e-05      0.000      0.625      0.532      -0.000       0.000\n",
      "BB_high_day_minus1    -0.0004      0.000     -1.609      0.108      -0.001    8.61e-05\n",
      "BB_low_day_minus1      0.0004      0.000      1.488      0.137      -0.000       0.001\n",
      "EMA_day_minus1         0.0003      0.000      0.698      0.485      -0.001       0.001\n",
      "MACD_day_minus1        0.0001      0.000      0.545      0.585      -0.000       0.001\n",
      "======================================================================================\n"
     ]
    }
   ],
   "source": [
    "# feature MOM_day_minus1 has a large P-value, I remove it.\n",
    "removed.append('MOM_day_minus1')\n",
    "str_formula = 'Signal1 ~ '\n",
    "for feat in train.columns:\n",
    "    if feat not in removed: str_formula += feat + ' + '\n",
    "str_formula = str_formula[:-3]\n",
    "reg1 = smf.logit(formula  = str_formula, data = train1).fit()\n",
    "\n",
    "print(reg1.summary())"
   ]
  },
  {
   "cell_type": "code",
   "execution_count": 369,
   "metadata": {},
   "outputs": [
    {
     "name": "stdout",
     "output_type": "stream",
     "text": [
      "Optimization terminated successfully.\n",
      "         Current function value: 0.686588\n",
      "         Iterations 5\n",
      "                           Logit Regression Results                           \n",
      "==============================================================================\n",
      "Dep. Variable:                Signal1   No. Observations:                21452\n",
      "Model:                          Logit   Df Residuals:                    21441\n",
      "Method:                           MLE   Df Model:                           10\n",
      "Date:                Mon, 06 Dec 2021   Pseudo R-squ.:                0.009463\n",
      "Time:                        23:26:02   Log-Likelihood:                -14729.\n",
      "converged:                       True   LL-Null:                       -14869.\n",
      "Covariance Type:            nonrobust   LLR p-value:                 1.298e-54\n",
      "======================================================================================\n",
      "                         coef    std err          z      P>|z|      [0.025      0.975]\n",
      "--------------------------------------------------------------------------------------\n",
      "Intercept             -0.4834      0.115     -4.202      0.000      -0.709      -0.258\n",
      "open_day_minus1       -0.0001      0.000     -0.389      0.697      -0.001       0.000\n",
      "high_day_minus1       -0.0005      0.000     -1.355      0.176      -0.001       0.000\n",
      "low_day_minus1         0.0007      0.000      2.195      0.028    7.67e-05       0.001\n",
      "close_day_minus1      -0.0003      0.000     -0.771      0.440      -0.001       0.000\n",
      "Volume_day_minus1   2.614e-09   9.69e-10      2.697      0.007    7.14e-10    4.51e-09\n",
      "RSI_day_minus1         0.0041      0.002      1.942      0.052   -3.72e-05       0.008\n",
      "VWAP_day_minus1     8.293e-05      0.000      0.659      0.510      -0.000       0.000\n",
      "BB_high_day_minus1    -0.0005      0.000     -2.643      0.008      -0.001      -0.000\n",
      "BB_low_day_minus1      0.0003      0.000      1.493      0.135   -8.53e-05       0.001\n",
      "EMA_day_minus1         0.0004      0.000      0.937      0.349      -0.000       0.001\n",
      "======================================================================================\n"
     ]
    }
   ],
   "source": [
    "# feature MACD_day_minus1 has a large P-value, I remove it.\n",
    "removed.append('MACD_day_minus1')\n",
    "str_formula = 'Signal1 ~ '\n",
    "for feat in train.columns:\n",
    "    if feat not in removed: str_formula += feat + ' + '\n",
    "str_formula = str_formula[:-3]\n",
    "reg1 = smf.logit(formula  = str_formula, data = train1).fit()\n",
    "\n",
    "print(reg1.summary())"
   ]
  },
  {
   "cell_type": "code",
   "execution_count": 370,
   "metadata": {},
   "outputs": [
    {
     "name": "stdout",
     "output_type": "stream",
     "text": [
      "Optimization terminated successfully.\n",
      "         Current function value: 0.686591\n",
      "         Iterations 5\n",
      "                           Logit Regression Results                           \n",
      "==============================================================================\n",
      "Dep. Variable:                Signal1   No. Observations:                21452\n",
      "Model:                          Logit   Df Residuals:                    21442\n",
      "Method:                           MLE   Df Model:                            9\n",
      "Date:                Mon, 06 Dec 2021   Pseudo R-squ.:                0.009458\n",
      "Time:                        23:26:02   Log-Likelihood:                -14729.\n",
      "converged:                       True   LL-Null:                       -14869.\n",
      "Covariance Type:            nonrobust   LLR p-value:                 2.422e-55\n",
      "======================================================================================\n",
      "                         coef    std err          z      P>|z|      [0.025      0.975]\n",
      "--------------------------------------------------------------------------------------\n",
      "Intercept             -0.4813      0.115     -4.189      0.000      -0.707      -0.256\n",
      "high_day_minus1       -0.0006      0.000     -2.459      0.014      -0.001      -0.000\n",
      "low_day_minus1         0.0006      0.000      2.625      0.009       0.000       0.001\n",
      "close_day_minus1      -0.0002      0.000     -0.668      0.504      -0.001       0.000\n",
      "Volume_day_minus1   2.605e-09   9.69e-10      2.690      0.007    7.07e-10     4.5e-09\n",
      "RSI_day_minus1         0.0041      0.002      1.929      0.054   -6.48e-05       0.008\n",
      "VWAP_day_minus1     8.153e-05      0.000      0.649      0.516      -0.000       0.000\n",
      "BB_high_day_minus1    -0.0005      0.000     -2.617      0.009      -0.001      -0.000\n",
      "BB_low_day_minus1      0.0003      0.000      1.525      0.127   -7.93e-05       0.001\n",
      "EMA_day_minus1         0.0004      0.000      0.896      0.370      -0.000       0.001\n",
      "======================================================================================\n"
     ]
    }
   ],
   "source": [
    "# feature open_day_minus1 has a large P-value, I remove it.\n",
    "removed.append('open_day_minus1')\n",
    "str_formula = 'Signal1 ~ '\n",
    "for feat in train.columns:\n",
    "    if feat not in removed: str_formula += feat + ' + '\n",
    "str_formula = str_formula[:-3]\n",
    "reg1 = smf.logit(formula  = str_formula, data = train1).fit()\n",
    "\n",
    "print(reg1.summary())"
   ]
  },
  {
   "cell_type": "code",
   "execution_count": 371,
   "metadata": {},
   "outputs": [
    {
     "name": "stdout",
     "output_type": "stream",
     "text": [
      "Optimization terminated successfully.\n",
      "         Current function value: 0.686601\n",
      "         Iterations 5\n",
      "                           Logit Regression Results                           \n",
      "==============================================================================\n",
      "Dep. Variable:                Signal1   No. Observations:                21452\n",
      "Model:                          Logit   Df Residuals:                    21443\n",
      "Method:                           MLE   Df Model:                            8\n",
      "Date:                Mon, 06 Dec 2021   Pseudo R-squ.:                0.009444\n",
      "Time:                        23:26:02   Log-Likelihood:                -14729.\n",
      "converged:                       True   LL-Null:                       -14869.\n",
      "Covariance Type:            nonrobust   LLR p-value:                 4.877e-56\n",
      "======================================================================================\n",
      "                         coef    std err          z      P>|z|      [0.025      0.975]\n",
      "--------------------------------------------------------------------------------------\n",
      "Intercept             -0.4831      0.115     -4.206      0.000      -0.708      -0.258\n",
      "high_day_minus1       -0.0006      0.000     -2.449      0.014      -0.001      -0.000\n",
      "low_day_minus1         0.0006      0.000      2.670      0.008       0.000       0.001\n",
      "close_day_minus1      -0.0002      0.000     -0.680      0.496      -0.001       0.000\n",
      "Volume_day_minus1   2.637e-09   9.67e-10      2.726      0.006    7.41e-10    4.53e-09\n",
      "RSI_day_minus1         0.0042      0.002      1.957      0.050   -5.64e-06       0.008\n",
      "BB_high_day_minus1    -0.0004      0.000     -2.544      0.011      -0.001      -0.000\n",
      "BB_low_day_minus1      0.0003      0.000      1.857      0.063   -1.76e-05       0.001\n",
      "EMA_day_minus1         0.0004      0.000      0.882      0.378      -0.000       0.001\n",
      "======================================================================================\n"
     ]
    }
   ],
   "source": [
    "# feature VWAP_day_minus1 has a large P-value, I remove it.\n",
    "removed.append('VWAP_day_minus1')\n",
    "str_formula = 'Signal1 ~ '\n",
    "for feat in train.columns:\n",
    "    if feat not in removed: str_formula += feat + ' + '\n",
    "str_formula = str_formula[:-3]\n",
    "reg1 = smf.logit(formula  = str_formula, data = train1).fit()\n",
    "\n",
    "print(reg1.summary())"
   ]
  },
  {
   "cell_type": "markdown",
   "metadata": {},
   "source": [
    "### B. Predicting if a signal will be non-positive"
   ]
  },
  {
   "cell_type": "code",
   "execution_count": 372,
   "metadata": {},
   "outputs": [],
   "source": [
    "train['Signal2'] = (train['Signal']<=0).apply(int)\n",
    "test['Signal2'] = (test['Signal']<=0).apply(int)\n",
    "\n",
    "rus = RandomUnderSampler(random_state=42)\n",
    "X_res, y_res = rus.fit_resample(train.drop(['Signal2'], axis=1), train['Signal2'])\n",
    "train2 = X_res\n",
    "train2['Signal2'] = y_res"
   ]
  },
  {
   "cell_type": "code",
   "execution_count": 373,
   "metadata": {},
   "outputs": [],
   "source": [
    "removed = ['Signal', 'Return', 'Signal1', 'Signal2']\n",
    "str_formula = 'Signal2 ~ '\n",
    "for feat in train.columns:\n",
    "    if feat not in removed: str_formula += feat + ' + '\n",
    "str_formula = str_formula[:-3]"
   ]
  },
  {
   "cell_type": "code",
   "execution_count": 374,
   "metadata": {},
   "outputs": [
    {
     "data": {
      "text/plain": [
       "'Signal2 ~ open_day_minus1 + high_day_minus1 + low_day_minus1 + close_day_minus1 + Volume_day_minus1 + MOM_day_minus1 + RSI_day_minus1 + VWAP_day_minus1 + BB_high_day_minus1 + BB_low_day_minus1 + EMA_day_minus1 + CCI_day_minus1 + MACD_day_minus1'"
      ]
     },
     "execution_count": 374,
     "metadata": {},
     "output_type": "execute_result"
    }
   ],
   "source": [
    "str_formula"
   ]
  },
  {
   "cell_type": "code",
   "execution_count": 375,
   "metadata": {},
   "outputs": [
    {
     "name": "stdout",
     "output_type": "stream",
     "text": [
      "Optimization terminated successfully.\n",
      "         Current function value: 0.684322\n",
      "         Iterations 4\n"
     ]
    },
    {
     "ename": "LinAlgError",
     "evalue": "Singular matrix",
     "output_type": "error",
     "traceback": [
      "\u001b[0;31m---------------------------------------------------------------------------\u001b[0m",
      "\u001b[0;31mLinAlgError\u001b[0m                               Traceback (most recent call last)",
      "\u001b[0;32m<ipython-input-375-8c23bc57c352>\u001b[0m in \u001b[0;36m<module>\u001b[0;34m()\u001b[0m\n\u001b[1;32m      1\u001b[0m \u001b[0;31m# at first I will use all features\u001b[0m\u001b[0;34m\u001b[0m\u001b[0;34m\u001b[0m\u001b[0;34m\u001b[0m\u001b[0m\n\u001b[1;32m      2\u001b[0m \u001b[0;31m# fitting data to the model\u001b[0m\u001b[0;34m\u001b[0m\u001b[0;34m\u001b[0m\u001b[0;34m\u001b[0m\u001b[0m\n\u001b[0;32m----> 3\u001b[0;31m \u001b[0mreg2\u001b[0m \u001b[0;34m=\u001b[0m \u001b[0msmf\u001b[0m\u001b[0;34m.\u001b[0m\u001b[0mlogit\u001b[0m\u001b[0;34m(\u001b[0m\u001b[0mformula\u001b[0m  \u001b[0;34m=\u001b[0m \u001b[0mstr_formula\u001b[0m\u001b[0;34m,\u001b[0m \u001b[0mdata\u001b[0m \u001b[0;34m=\u001b[0m \u001b[0mtrain2\u001b[0m\u001b[0;34m)\u001b[0m\u001b[0;34m.\u001b[0m\u001b[0mfit\u001b[0m\u001b[0;34m(\u001b[0m\u001b[0;34m)\u001b[0m\u001b[0;34m\u001b[0m\u001b[0;34m\u001b[0m\u001b[0m\n\u001b[0m\u001b[1;32m      4\u001b[0m \u001b[0;34m\u001b[0m\u001b[0m\n\u001b[1;32m      5\u001b[0m \u001b[0mprint\u001b[0m\u001b[0;34m(\u001b[0m\u001b[0mreg2\u001b[0m\u001b[0;34m.\u001b[0m\u001b[0msummary\u001b[0m\u001b[0;34m(\u001b[0m\u001b[0;34m)\u001b[0m\u001b[0;34m)\u001b[0m\u001b[0;34m\u001b[0m\u001b[0;34m\u001b[0m\u001b[0m\n",
      "\u001b[0;32m/Users/noemielevy/comparators/venv/lib/python3.7/site-packages/statsmodels/discrete/discrete_model.py\u001b[0m in \u001b[0;36mfit\u001b[0;34m(self, start_params, method, maxiter, full_output, disp, callback, **kwargs)\u001b[0m\n\u001b[1;32m   1987\u001b[0m                               \u001b[0mdisp\u001b[0m\u001b[0;34m=\u001b[0m\u001b[0mdisp\u001b[0m\u001b[0;34m,\u001b[0m\u001b[0;34m\u001b[0m\u001b[0;34m\u001b[0m\u001b[0m\n\u001b[1;32m   1988\u001b[0m                               \u001b[0mcallback\u001b[0m\u001b[0;34m=\u001b[0m\u001b[0mcallback\u001b[0m\u001b[0;34m,\u001b[0m\u001b[0;34m\u001b[0m\u001b[0;34m\u001b[0m\u001b[0m\n\u001b[0;32m-> 1989\u001b[0;31m                               **kwargs)\n\u001b[0m\u001b[1;32m   1990\u001b[0m \u001b[0;34m\u001b[0m\u001b[0m\n\u001b[1;32m   1991\u001b[0m         \u001b[0mdiscretefit\u001b[0m \u001b[0;34m=\u001b[0m \u001b[0mLogitResults\u001b[0m\u001b[0;34m(\u001b[0m\u001b[0mself\u001b[0m\u001b[0;34m,\u001b[0m \u001b[0mbnryfit\u001b[0m\u001b[0;34m)\u001b[0m\u001b[0;34m\u001b[0m\u001b[0;34m\u001b[0m\u001b[0m\n",
      "\u001b[0;32m/Users/noemielevy/comparators/venv/lib/python3.7/site-packages/statsmodels/discrete/discrete_model.py\u001b[0m in \u001b[0;36mfit\u001b[0;34m(self, start_params, method, maxiter, full_output, disp, callback, **kwargs)\u001b[0m\n\u001b[1;32m    234\u001b[0m                              \u001b[0mdisp\u001b[0m\u001b[0;34m=\u001b[0m\u001b[0mdisp\u001b[0m\u001b[0;34m,\u001b[0m\u001b[0;34m\u001b[0m\u001b[0;34m\u001b[0m\u001b[0m\n\u001b[1;32m    235\u001b[0m                              \u001b[0mcallback\u001b[0m\u001b[0;34m=\u001b[0m\u001b[0mcallback\u001b[0m\u001b[0;34m,\u001b[0m\u001b[0;34m\u001b[0m\u001b[0;34m\u001b[0m\u001b[0m\n\u001b[0;32m--> 236\u001b[0;31m                              **kwargs)\n\u001b[0m\u001b[1;32m    237\u001b[0m \u001b[0;34m\u001b[0m\u001b[0m\n\u001b[1;32m    238\u001b[0m         \u001b[0;32mreturn\u001b[0m \u001b[0mmlefit\u001b[0m  \u001b[0;31m# It is up to subclasses to wrap results\u001b[0m\u001b[0;34m\u001b[0m\u001b[0;34m\u001b[0m\u001b[0m\n",
      "\u001b[0;32m/Users/noemielevy/comparators/venv/lib/python3.7/site-packages/statsmodels/base/model.py\u001b[0m in \u001b[0;36mfit\u001b[0;34m(self, start_params, method, maxiter, full_output, disp, fargs, callback, retall, skip_hessian, **kwargs)\u001b[0m\n\u001b[1;32m    577\u001b[0m             \u001b[0mHinv\u001b[0m \u001b[0;34m=\u001b[0m \u001b[0mcov_params_func\u001b[0m\u001b[0;34m(\u001b[0m\u001b[0mself\u001b[0m\u001b[0;34m,\u001b[0m \u001b[0mxopt\u001b[0m\u001b[0;34m,\u001b[0m \u001b[0mretvals\u001b[0m\u001b[0;34m)\u001b[0m\u001b[0;34m\u001b[0m\u001b[0;34m\u001b[0m\u001b[0m\n\u001b[1;32m    578\u001b[0m         \u001b[0;32melif\u001b[0m \u001b[0mmethod\u001b[0m \u001b[0;34m==\u001b[0m \u001b[0;34m'newton'\u001b[0m \u001b[0;32mand\u001b[0m \u001b[0mfull_output\u001b[0m\u001b[0;34m:\u001b[0m\u001b[0;34m\u001b[0m\u001b[0;34m\u001b[0m\u001b[0m\n\u001b[0;32m--> 579\u001b[0;31m             \u001b[0mHinv\u001b[0m \u001b[0;34m=\u001b[0m \u001b[0mnp\u001b[0m\u001b[0;34m.\u001b[0m\u001b[0mlinalg\u001b[0m\u001b[0;34m.\u001b[0m\u001b[0minv\u001b[0m\u001b[0;34m(\u001b[0m\u001b[0;34m-\u001b[0m\u001b[0mretvals\u001b[0m\u001b[0;34m[\u001b[0m\u001b[0;34m'Hessian'\u001b[0m\u001b[0;34m]\u001b[0m\u001b[0;34m)\u001b[0m \u001b[0;34m/\u001b[0m \u001b[0mnobs\u001b[0m\u001b[0;34m\u001b[0m\u001b[0;34m\u001b[0m\u001b[0m\n\u001b[0m\u001b[1;32m    580\u001b[0m         \u001b[0;32melif\u001b[0m \u001b[0;32mnot\u001b[0m \u001b[0mskip_hessian\u001b[0m\u001b[0;34m:\u001b[0m\u001b[0;34m\u001b[0m\u001b[0;34m\u001b[0m\u001b[0m\n\u001b[1;32m    581\u001b[0m             \u001b[0mH\u001b[0m \u001b[0;34m=\u001b[0m \u001b[0;34m-\u001b[0m\u001b[0;36m1\u001b[0m \u001b[0;34m*\u001b[0m \u001b[0mself\u001b[0m\u001b[0;34m.\u001b[0m\u001b[0mhessian\u001b[0m\u001b[0;34m(\u001b[0m\u001b[0mxopt\u001b[0m\u001b[0;34m)\u001b[0m\u001b[0;34m\u001b[0m\u001b[0;34m\u001b[0m\u001b[0m\n",
      "\u001b[0;32m<__array_function__ internals>\u001b[0m in \u001b[0;36minv\u001b[0;34m(*args, **kwargs)\u001b[0m\n",
      "\u001b[0;32m/Users/noemielevy/comparators/venv/lib/python3.7/site-packages/numpy/linalg/linalg.py\u001b[0m in \u001b[0;36minv\u001b[0;34m(a)\u001b[0m\n\u001b[1;32m    544\u001b[0m     \u001b[0msignature\u001b[0m \u001b[0;34m=\u001b[0m \u001b[0;34m'D->D'\u001b[0m \u001b[0;32mif\u001b[0m \u001b[0misComplexType\u001b[0m\u001b[0;34m(\u001b[0m\u001b[0mt\u001b[0m\u001b[0;34m)\u001b[0m \u001b[0;32melse\u001b[0m \u001b[0;34m'd->d'\u001b[0m\u001b[0;34m\u001b[0m\u001b[0;34m\u001b[0m\u001b[0m\n\u001b[1;32m    545\u001b[0m     \u001b[0mextobj\u001b[0m \u001b[0;34m=\u001b[0m \u001b[0mget_linalg_error_extobj\u001b[0m\u001b[0;34m(\u001b[0m\u001b[0m_raise_linalgerror_singular\u001b[0m\u001b[0;34m)\u001b[0m\u001b[0;34m\u001b[0m\u001b[0;34m\u001b[0m\u001b[0m\n\u001b[0;32m--> 546\u001b[0;31m     \u001b[0mainv\u001b[0m \u001b[0;34m=\u001b[0m \u001b[0m_umath_linalg\u001b[0m\u001b[0;34m.\u001b[0m\u001b[0minv\u001b[0m\u001b[0;34m(\u001b[0m\u001b[0ma\u001b[0m\u001b[0;34m,\u001b[0m \u001b[0msignature\u001b[0m\u001b[0;34m=\u001b[0m\u001b[0msignature\u001b[0m\u001b[0;34m,\u001b[0m \u001b[0mextobj\u001b[0m\u001b[0;34m=\u001b[0m\u001b[0mextobj\u001b[0m\u001b[0;34m)\u001b[0m\u001b[0;34m\u001b[0m\u001b[0;34m\u001b[0m\u001b[0m\n\u001b[0m\u001b[1;32m    547\u001b[0m     \u001b[0;32mreturn\u001b[0m \u001b[0mwrap\u001b[0m\u001b[0;34m(\u001b[0m\u001b[0mainv\u001b[0m\u001b[0;34m.\u001b[0m\u001b[0mastype\u001b[0m\u001b[0;34m(\u001b[0m\u001b[0mresult_t\u001b[0m\u001b[0;34m,\u001b[0m \u001b[0mcopy\u001b[0m\u001b[0;34m=\u001b[0m\u001b[0;32mFalse\u001b[0m\u001b[0;34m)\u001b[0m\u001b[0;34m)\u001b[0m\u001b[0;34m\u001b[0m\u001b[0;34m\u001b[0m\u001b[0m\n\u001b[1;32m    548\u001b[0m \u001b[0;34m\u001b[0m\u001b[0m\n",
      "\u001b[0;32m/Users/noemielevy/comparators/venv/lib/python3.7/site-packages/numpy/linalg/linalg.py\u001b[0m in \u001b[0;36m_raise_linalgerror_singular\u001b[0;34m(err, flag)\u001b[0m\n\u001b[1;32m     86\u001b[0m \u001b[0;34m\u001b[0m\u001b[0m\n\u001b[1;32m     87\u001b[0m \u001b[0;32mdef\u001b[0m \u001b[0m_raise_linalgerror_singular\u001b[0m\u001b[0;34m(\u001b[0m\u001b[0merr\u001b[0m\u001b[0;34m,\u001b[0m \u001b[0mflag\u001b[0m\u001b[0;34m)\u001b[0m\u001b[0;34m:\u001b[0m\u001b[0;34m\u001b[0m\u001b[0;34m\u001b[0m\u001b[0m\n\u001b[0;32m---> 88\u001b[0;31m     \u001b[0;32mraise\u001b[0m \u001b[0mLinAlgError\u001b[0m\u001b[0;34m(\u001b[0m\u001b[0;34m\"Singular matrix\"\u001b[0m\u001b[0;34m)\u001b[0m\u001b[0;34m\u001b[0m\u001b[0;34m\u001b[0m\u001b[0m\n\u001b[0m\u001b[1;32m     89\u001b[0m \u001b[0;34m\u001b[0m\u001b[0m\n\u001b[1;32m     90\u001b[0m \u001b[0;32mdef\u001b[0m \u001b[0m_raise_linalgerror_nonposdef\u001b[0m\u001b[0;34m(\u001b[0m\u001b[0merr\u001b[0m\u001b[0;34m,\u001b[0m \u001b[0mflag\u001b[0m\u001b[0;34m)\u001b[0m\u001b[0;34m:\u001b[0m\u001b[0;34m\u001b[0m\u001b[0;34m\u001b[0m\u001b[0m\n",
      "\u001b[0;31mLinAlgError\u001b[0m: Singular matrix"
     ]
    }
   ],
   "source": [
    "# at first I will use all features\n",
    "# fitting data to the model\n",
    "reg2 = smf.logit(formula  = str_formula, data = train2).fit()\n",
    "\n",
    "print(reg2.summary())"
   ]
  },
  {
   "cell_type": "markdown",
   "metadata": {},
   "source": [
    "### C. Prediction"
   ]
  },
  {
   "cell_type": "code",
   "execution_count": null,
   "metadata": {},
   "outputs": [],
   "source": [
    "y_prob1 = reg1.predict(test)\n",
    "y_prob2 = reg2.predict(test)\n",
    "\n",
    "def MultiClassifier(a,b):\n",
    "    if a > 0.5 and b > 0.5: return 0\n",
    "    if a > b: return 1\n",
    "    return -1\n",
    "\n",
    "\n",
    "y_pred = [MultiClassifier(y_prob1[i],y_prob2[i]) for i in range(len(y_prob1))]\n",
    "y_test = test['Signal']"
   ]
  },
  {
   "cell_type": "code",
   "execution_count": null,
   "metadata": {},
   "outputs": [],
   "source": [
    "{0: len([0 for x in y_pred if x==0]), \n",
    " 1: len([0 for x in y_pred if x==1]),\n",
    " -1: len([0 for x in y_pred if x==-1])}"
   ]
  },
  {
   "cell_type": "markdown",
   "metadata": {},
   "source": [
    "### 3. Test prediction model"
   ]
  },
  {
   "cell_type": "code",
   "execution_count": null,
   "metadata": {},
   "outputs": [],
   "source": [
    "TPR, FPR = 0, 0#get_TPR_FPR(y_test, y_pred)\n",
    "F1 = 0#get_F1(y_test, y_pred)\n",
    "ACC = get_ACC(y_test, y_pred)\n",
    "WACC = 0#get_WACC(y_test, y_pred, test_data.close)"
   ]
  },
  {
   "cell_type": "code",
   "execution_count": null,
   "metadata": {},
   "outputs": [],
   "source": [
    "models = ['Baseline']\n",
    "metrics = ['TPR', 'FPR', 'ACC', 'F1', 'WACC']\n",
    "metric_data = [[TPR, FPR, ACC, F1, WACC]]\n",
    "\n",
    "pd.DataFrame(metric_data, index=models, columns=metrics)"
   ]
  },
  {
   "cell_type": "markdown",
   "metadata": {},
   "source": [
    "### III. Strategy"
   ]
  },
  {
   "cell_type": "markdown",
   "metadata": {},
   "source": [
    "### 1. Get data ready for backtesting"
   ]
  },
  {
   "cell_type": "code",
   "execution_count": null,
   "metadata": {},
   "outputs": [],
   "source": [
    "signal = pd.Series(y_pred)\n",
    "close = test_data.close\n",
    "signal.describe()"
   ]
  },
  {
   "cell_type": "code",
   "execution_count": null,
   "metadata": {},
   "outputs": [],
   "source": [
    "# Crop for better visualization\n",
    "nb_days = 1\n",
    "\n",
    "signal_crop = crop_window(signal, nb_days)\n",
    "close_crop = crop_window(close, nb_days)"
   ]
  },
  {
   "cell_type": "markdown",
   "metadata": {},
   "source": [
    "### 2. Backtesting"
   ]
  },
  {
   "cell_type": "code",
   "execution_count": null,
   "metadata": {},
   "outputs": [],
   "source": [
    "strat = Strategy(cash=500, fees=0.001)"
   ]
  },
  {
   "cell_type": "code",
   "execution_count": null,
   "metadata": {},
   "outputs": [],
   "source": [
    "strat.run(signal_crop, close_crop, verbose=False)"
   ]
  },
  {
   "cell_type": "code",
   "execution_count": null,
   "metadata": {},
   "outputs": [],
   "source": [
    "wallet = np.array(strat.wallet)\n",
    "profit_list = [0]\n",
    "for i in range(1, len(wallet)):\n",
    "    profit_list.append(wallet[i]-wallet[i-1])\n",
    "    \n",
    "profit = np.array(profit_list)"
   ]
  },
  {
   "cell_type": "code",
   "execution_count": null,
   "metadata": {},
   "outputs": [],
   "source": [
    "strat.visualize()"
   ]
  },
  {
   "cell_type": "markdown",
   "metadata": {},
   "source": [
    "### 3. Test performance startegy"
   ]
  },
  {
   "cell_type": "code",
   "execution_count": null,
   "metadata": {},
   "outputs": [],
   "source": [
    "l_SharpeRatio = SharpeRatio(profit)\n",
    "l_MaxDrawback = MaxDrawback(profit)\n",
    "l_WinLossRatio = WinLossRatio(profit)\n",
    "l_CumulativeProfit = CumulativeProfit(profit)\n",
    "l_MeanProfit = MeanProfit(profit)"
   ]
  },
  {
   "cell_type": "code",
   "execution_count": null,
   "metadata": {},
   "outputs": [],
   "source": [
    "models = ['Baseline']\n",
    "metrics = ['SharpeRatio', 'MaxDrawback', 'WinLossRatio', 'CumulativeProfit', 'MeanProfit']\n",
    "metric_data = [[l_SharpeRatio, l_MaxDrawback, l_WinLossRatio, l_CumulativeProfit, l_MeanProfit]]\n",
    "\n",
    "pd.DataFrame(metric_data, index=models, columns=metrics)"
   ]
  },
  {
   "cell_type": "code",
   "execution_count": null,
   "metadata": {},
   "outputs": [],
   "source": []
  }
 ],
 "metadata": {
  "kernelspec": {
   "display_name": "Python 3",
   "language": "python",
   "name": "python3"
  },
  "language_info": {
   "codemirror_mode": {
    "name": "ipython",
    "version": 3
   },
   "file_extension": ".py",
   "mimetype": "text/x-python",
   "name": "python",
   "nbconvert_exporter": "python",
   "pygments_lexer": "ipython3",
   "version": "3.7.9"
  }
 },
 "nbformat": 4,
 "nbformat_minor": 2
}
