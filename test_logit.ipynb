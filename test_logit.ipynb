{
 "cells": [
  {
   "cell_type": "markdown",
   "metadata": {},
   "source": [
    "# Project 242"
   ]
  },
  {
   "cell_type": "markdown",
   "metadata": {},
   "source": [
    "## Import"
   ]
  },
  {
   "cell_type": "code",
   "execution_count": 391,
   "metadata": {},
   "outputs": [],
   "source": [
    "from backtester.backtesting import Strategy\n",
    "from modules.data_preprocessing import *\n",
    "from modules.add_features import *\n",
    "from modules.metrics_prediction import *\n",
    "from modules.metrics_performance import *\n",
    "from modules.models import *\n",
    "from modules.utils import *"
   ]
  },
  {
   "cell_type": "code",
   "execution_count": 392,
   "metadata": {},
   "outputs": [],
   "source": [
    "import numpy as np\n",
    "import matplotlib.pyplot as plt\n",
    "import pandas as pd\n",
    "import random as rd"
   ]
  },
  {
   "cell_type": "markdown",
   "metadata": {},
   "source": [
    "## I. Data"
   ]
  },
  {
   "cell_type": "markdown",
   "metadata": {},
   "source": [
    "### 1. Load data"
   ]
  },
  {
   "cell_type": "code",
   "execution_count": 393,
   "metadata": {},
   "outputs": [],
   "source": [
    "data = pd.read_csv('data/Binance_BTCUSDT_1h.csv')"
   ]
  },
  {
   "cell_type": "code",
   "execution_count": 394,
   "metadata": {},
   "outputs": [
    {
     "data": {
      "text/html": [
       "<div>\n",
       "<style scoped>\n",
       "    .dataframe tbody tr th:only-of-type {\n",
       "        vertical-align: middle;\n",
       "    }\n",
       "\n",
       "    .dataframe tbody tr th {\n",
       "        vertical-align: top;\n",
       "    }\n",
       "\n",
       "    .dataframe thead th {\n",
       "        text-align: right;\n",
       "    }\n",
       "</style>\n",
       "<table border=\"1\" class=\"dataframe\">\n",
       "  <thead>\n",
       "    <tr style=\"text-align: right;\">\n",
       "      <th></th>\n",
       "      <th>unix</th>\n",
       "      <th>date</th>\n",
       "      <th>symbol</th>\n",
       "      <th>open</th>\n",
       "      <th>high</th>\n",
       "      <th>low</th>\n",
       "      <th>close</th>\n",
       "      <th>Volume BTC</th>\n",
       "      <th>Volume USDT</th>\n",
       "      <th>tradecount</th>\n",
       "    </tr>\n",
       "  </thead>\n",
       "  <tbody>\n",
       "    <tr>\n",
       "      <th>0</th>\n",
       "      <td>1.637280e+12</td>\n",
       "      <td>2021-11-19 00:00:00</td>\n",
       "      <td>BTC/USDT</td>\n",
       "      <td>56891.62</td>\n",
       "      <td>57247.58</td>\n",
       "      <td>56674.00</td>\n",
       "      <td>57144.98</td>\n",
       "      <td>719.65701</td>\n",
       "      <td>4.099574e+07</td>\n",
       "      <td>19977.0</td>\n",
       "    </tr>\n",
       "    <tr>\n",
       "      <th>1</th>\n",
       "      <td>1.637276e+12</td>\n",
       "      <td>2021-11-18 23:00:00</td>\n",
       "      <td>BTC/USDT</td>\n",
       "      <td>56613.30</td>\n",
       "      <td>56987.57</td>\n",
       "      <td>56474.26</td>\n",
       "      <td>56891.62</td>\n",
       "      <td>2553.36240</td>\n",
       "      <td>1.447890e+08</td>\n",
       "      <td>76763.0</td>\n",
       "    </tr>\n",
       "  </tbody>\n",
       "</table>\n",
       "</div>"
      ],
      "text/plain": [
       "           unix                 date    symbol      open      high       low  \\\n",
       "0  1.637280e+12  2021-11-19 00:00:00  BTC/USDT  56891.62  57247.58  56674.00   \n",
       "1  1.637276e+12  2021-11-18 23:00:00  BTC/USDT  56613.30  56987.57  56474.26   \n",
       "\n",
       "      close  Volume BTC   Volume USDT  tradecount  \n",
       "0  57144.98   719.65701  4.099574e+07     19977.0  \n",
       "1  56891.62  2553.36240  1.447890e+08     76763.0  "
      ]
     },
     "execution_count": 394,
     "metadata": {},
     "output_type": "execute_result"
    },
    {
     "data": {
      "image/png": "[encoded data removed]",
      "text/plain": [
       "<Figure size 432x288 with 1 Axes>"
      ]
     },
     "metadata": {
      "needs_background": "light"
     },
     "output_type": "display_data"
    }
   ],
   "source": [
    "plt.plot(data[::-1].reset_index().close)\n",
    "data.head(2)"
   ]
  },
  {
   "cell_type": "markdown",
   "metadata": {},
   "source": [
    "### 2. Preprocess data\n",
    "\n",
    "- clean data\n",
    "- add features"
   ]
  },
  {
   "cell_type": "code",
   "execution_count": 395,
   "metadata": {},
   "outputs": [],
   "source": [
    "# Clean data\n",
    "data = clean_data(data)\n",
    "data = data.rename(columns = {'Volume USDT': 'Volume'})"
   ]
  },
  {
   "cell_type": "markdown",
   "metadata": {},
   "source": [
    "Here, we can decide to add features ..."
   ]
  },
  {
   "cell_type": "code",
   "execution_count": 396,
   "metadata": {},
   "outputs": [],
   "source": [
    "# Add features\n",
    "data = add_technical_indicators(data, lookback_period=30)[30:]"
   ]
  },
  {
   "cell_type": "code",
   "execution_count": 397,
   "metadata": {},
   "outputs": [],
   "source": [
    "data.loc[data['VWAP'].isna(), 'VWAP'] = 0"
   ]
  },
  {
   "cell_type": "code",
   "execution_count": 398,
   "metadata": {},
   "outputs": [],
   "source": [
    "# Split data\n",
    "train_data, test_data = split_data(data, split=0.25)\n"
   ]
  },
  {
   "cell_type": "code",
   "execution_count": 399,
   "metadata": {},
   "outputs": [],
   "source": [
    "# Add Return\n",
    "train_data = add_return(train_data)\n",
    "test_data = add_return(test_data)"
   ]
  },
  {
   "cell_type": "code",
   "execution_count": 400,
   "metadata": {},
   "outputs": [],
   "source": [
    "# Add Signal\n",
    "train_data = add_signal(train_data, 0.001)\n",
    "test_data = add_signal(test_data, 0.001)"
   ]
  },
  {
   "cell_type": "code",
   "execution_count": 401,
   "metadata": {},
   "outputs": [
    {
     "name": "stderr",
     "output_type": "stream",
     "text": [
      "/Users/noemielevy/INDENG-242-project/modules/data_preprocessing.py:59: VisibleDeprecationWarning: Creating an ndarray from ragged nested sequences (which is a list-or-tuple of lists-or-tuples-or ndarrays with different lengths or shapes) is deprecated. If you meant to do this, you must specify 'dtype=object' when creating the ndarray\n",
      "  return np.array(X), S, R\n"
     ]
    }
   ],
   "source": [
    "train = prepare_data_2D_format(train_data, lookback_period = 1, undersample = False)\n",
    "test = prepare_data_2D_format(test_data, lookback_period = 1, undersample = False)\n",
    "test = test[:-2]"
   ]
  },
  {
   "cell_type": "markdown",
   "metadata": {},
   "source": [
    "## II. Model"
   ]
  },
  {
   "cell_type": "code",
   "execution_count": 402,
   "metadata": {},
   "outputs": [
    {
     "data": {
      "text/html": [
       "<div>\n",
       "<style scoped>\n",
       "    .dataframe tbody tr th:only-of-type {\n",
       "        vertical-align: middle;\n",
       "    }\n",
       "\n",
       "    .dataframe tbody tr th {\n",
       "        vertical-align: top;\n",
       "    }\n",
       "\n",
       "    .dataframe thead th {\n",
       "        text-align: right;\n",
       "    }\n",
       "</style>\n",
       "<table border=\"1\" class=\"dataframe\">\n",
       "  <thead>\n",
       "    <tr style=\"text-align: right;\">\n",
       "      <th></th>\n",
       "      <th>open_day_minus1</th>\n",
       "      <th>high_day_minus1</th>\n",
       "      <th>low_day_minus1</th>\n",
       "      <th>close_day_minus1</th>\n",
       "      <th>Volume_day_minus1</th>\n",
       "      <th>MOM_day_minus1</th>\n",
       "      <th>RSI_day_minus1</th>\n",
       "      <th>VWAP_day_minus1</th>\n",
       "      <th>BB_high_day_minus1</th>\n",
       "      <th>BB_low_day_minus1</th>\n",
       "      <th>EMA_day_minus1</th>\n",
       "      <th>CCI_day_minus1</th>\n",
       "      <th>MACD_day_minus1</th>\n",
       "      <th>Signal</th>\n",
       "    </tr>\n",
       "  </thead>\n",
       "  <tbody>\n",
       "    <tr>\n",
       "      <th>open_day_minus1</th>\n",
       "      <td>1.000000</td>\n",
       "      <td>0.999664</td>\n",
       "      <td>0.999516</td>\n",
       "      <td>0.999478</td>\n",
       "      <td>0.333702</td>\n",
       "      <td>0.067537</td>\n",
       "      <td>0.089772</td>\n",
       "      <td>0.996745</td>\n",
       "      <td>0.992840</td>\n",
       "      <td>0.993181</td>\n",
       "      <td>0.997577</td>\n",
       "      <td>0.039179</td>\n",
       "      <td>0.067537</td>\n",
       "      <td>-0.011448</td>\n",
       "    </tr>\n",
       "    <tr>\n",
       "      <th>high_day_minus1</th>\n",
       "      <td>0.999664</td>\n",
       "      <td>1.000000</td>\n",
       "      <td>0.999180</td>\n",
       "      <td>0.999672</td>\n",
       "      <td>0.337692</td>\n",
       "      <td>0.064985</td>\n",
       "      <td>0.091426</td>\n",
       "      <td>0.996700</td>\n",
       "      <td>0.993870</td>\n",
       "      <td>0.992132</td>\n",
       "      <td>0.997606</td>\n",
       "      <td>0.041996</td>\n",
       "      <td>0.064985</td>\n",
       "      <td>-0.011340</td>\n",
       "    </tr>\n",
       "    <tr>\n",
       "      <th>low_day_minus1</th>\n",
       "      <td>0.999516</td>\n",
       "      <td>0.999180</td>\n",
       "      <td>1.000000</td>\n",
       "      <td>0.999644</td>\n",
       "      <td>0.326508</td>\n",
       "      <td>0.072379</td>\n",
       "      <td>0.095880</td>\n",
       "      <td>0.996095</td>\n",
       "      <td>0.990935</td>\n",
       "      <td>0.993623</td>\n",
       "      <td>0.996859</td>\n",
       "      <td>0.046476</td>\n",
       "      <td>0.072379</td>\n",
       "      <td>-0.011412</td>\n",
       "    </tr>\n",
       "    <tr>\n",
       "      <th>close_day_minus1</th>\n",
       "      <td>0.999478</td>\n",
       "      <td>0.999672</td>\n",
       "      <td>0.999644</td>\n",
       "      <td>1.000000</td>\n",
       "      <td>0.332104</td>\n",
       "      <td>0.068637</td>\n",
       "      <td>0.096031</td>\n",
       "      <td>0.996383</td>\n",
       "      <td>0.992456</td>\n",
       "      <td>0.992795</td>\n",
       "      <td>0.997233</td>\n",
       "      <td>0.046205</td>\n",
       "      <td>0.068637</td>\n",
       "      <td>-0.011368</td>\n",
       "    </tr>\n",
       "    <tr>\n",
       "      <th>Volume_day_minus1</th>\n",
       "      <td>0.333702</td>\n",
       "      <td>0.337692</td>\n",
       "      <td>0.326508</td>\n",
       "      <td>0.332104</td>\n",
       "      <td>1.000000</td>\n",
       "      <td>-0.021973</td>\n",
       "      <td>0.026602</td>\n",
       "      <td>0.336993</td>\n",
       "      <td>0.339229</td>\n",
       "      <td>0.330390</td>\n",
       "      <td>0.336132</td>\n",
       "      <td>0.001178</td>\n",
       "      <td>-0.021973</td>\n",
       "      <td>-0.009107</td>\n",
       "    </tr>\n",
       "    <tr>\n",
       "      <th>MOM_day_minus1</th>\n",
       "      <td>0.067537</td>\n",
       "      <td>0.064985</td>\n",
       "      <td>0.072379</td>\n",
       "      <td>0.068637</td>\n",
       "      <td>-0.021973</td>\n",
       "      <td>1.000000</td>\n",
       "      <td>0.619733</td>\n",
       "      <td>-0.000259</td>\n",
       "      <td>-0.016491</td>\n",
       "      <td>-0.004125</td>\n",
       "      <td>0.004150</td>\n",
       "      <td>0.556981</td>\n",
       "      <td>1.000000</td>\n",
       "      <td>0.010050</td>\n",
       "    </tr>\n",
       "    <tr>\n",
       "      <th>RSI_day_minus1</th>\n",
       "      <td>0.089772</td>\n",
       "      <td>0.091426</td>\n",
       "      <td>0.095880</td>\n",
       "      <td>0.096031</td>\n",
       "      <td>0.026602</td>\n",
       "      <td>0.619733</td>\n",
       "      <td>1.000000</td>\n",
       "      <td>0.046999</td>\n",
       "      <td>0.034676</td>\n",
       "      <td>0.043601</td>\n",
       "      <td>0.045001</td>\n",
       "      <td>0.759072</td>\n",
       "      <td>0.619733</td>\n",
       "      <td>0.016244</td>\n",
       "    </tr>\n",
       "    <tr>\n",
       "      <th>VWAP_day_minus1</th>\n",
       "      <td>0.996745</td>\n",
       "      <td>0.996700</td>\n",
       "      <td>0.996095</td>\n",
       "      <td>0.996383</td>\n",
       "      <td>0.336993</td>\n",
       "      <td>-0.000259</td>\n",
       "      <td>0.046999</td>\n",
       "      <td>1.000000</td>\n",
       "      <td>0.995660</td>\n",
       "      <td>0.995812</td>\n",
       "      <td>0.999264</td>\n",
       "      <td>-0.004444</td>\n",
       "      <td>-0.000259</td>\n",
       "      <td>-0.011723</td>\n",
       "    </tr>\n",
       "    <tr>\n",
       "      <th>BB_high_day_minus1</th>\n",
       "      <td>0.992840</td>\n",
       "      <td>0.993870</td>\n",
       "      <td>0.990935</td>\n",
       "      <td>0.992456</td>\n",
       "      <td>0.339229</td>\n",
       "      <td>-0.016491</td>\n",
       "      <td>0.034676</td>\n",
       "      <td>0.995660</td>\n",
       "      <td>1.000000</td>\n",
       "      <td>0.985614</td>\n",
       "      <td>0.996507</td>\n",
       "      <td>-0.012875</td>\n",
       "      <td>-0.016491</td>\n",
       "      <td>-0.011651</td>\n",
       "    </tr>\n",
       "    <tr>\n",
       "      <th>BB_low_day_minus1</th>\n",
       "      <td>0.993181</td>\n",
       "      <td>0.992132</td>\n",
       "      <td>0.993623</td>\n",
       "      <td>0.992795</td>\n",
       "      <td>0.330390</td>\n",
       "      <td>-0.004125</td>\n",
       "      <td>0.043601</td>\n",
       "      <td>0.995812</td>\n",
       "      <td>0.985614</td>\n",
       "      <td>1.000000</td>\n",
       "      <td>0.995907</td>\n",
       "      <td>-0.007366</td>\n",
       "      <td>-0.004125</td>\n",
       "      <td>-0.012335</td>\n",
       "    </tr>\n",
       "    <tr>\n",
       "      <th>EMA_day_minus1</th>\n",
       "      <td>0.997577</td>\n",
       "      <td>0.997606</td>\n",
       "      <td>0.996859</td>\n",
       "      <td>0.997233</td>\n",
       "      <td>0.336132</td>\n",
       "      <td>0.004150</td>\n",
       "      <td>0.045001</td>\n",
       "      <td>0.999264</td>\n",
       "      <td>0.996507</td>\n",
       "      <td>0.995907</td>\n",
       "      <td>1.000000</td>\n",
       "      <td>-0.001809</td>\n",
       "      <td>0.004150</td>\n",
       "      <td>-0.012115</td>\n",
       "    </tr>\n",
       "    <tr>\n",
       "      <th>CCI_day_minus1</th>\n",
       "      <td>0.039179</td>\n",
       "      <td>0.041996</td>\n",
       "      <td>0.046476</td>\n",
       "      <td>0.046205</td>\n",
       "      <td>0.001178</td>\n",
       "      <td>0.556981</td>\n",
       "      <td>0.759072</td>\n",
       "      <td>-0.004444</td>\n",
       "      <td>-0.012875</td>\n",
       "      <td>-0.007366</td>\n",
       "      <td>-0.001809</td>\n",
       "      <td>1.000000</td>\n",
       "      <td>0.556981</td>\n",
       "      <td>0.008247</td>\n",
       "    </tr>\n",
       "    <tr>\n",
       "      <th>MACD_day_minus1</th>\n",
       "      <td>0.067537</td>\n",
       "      <td>0.064985</td>\n",
       "      <td>0.072379</td>\n",
       "      <td>0.068637</td>\n",
       "      <td>-0.021973</td>\n",
       "      <td>1.000000</td>\n",
       "      <td>0.619733</td>\n",
       "      <td>-0.000259</td>\n",
       "      <td>-0.016491</td>\n",
       "      <td>-0.004125</td>\n",
       "      <td>0.004150</td>\n",
       "      <td>0.556981</td>\n",
       "      <td>1.000000</td>\n",
       "      <td>0.010050</td>\n",
       "    </tr>\n",
       "    <tr>\n",
       "      <th>Signal</th>\n",
       "      <td>-0.011448</td>\n",
       "      <td>-0.011340</td>\n",
       "      <td>-0.011412</td>\n",
       "      <td>-0.011368</td>\n",
       "      <td>-0.009107</td>\n",
       "      <td>0.010050</td>\n",
       "      <td>0.016244</td>\n",
       "      <td>-0.011723</td>\n",
       "      <td>-0.011651</td>\n",
       "      <td>-0.012335</td>\n",
       "      <td>-0.012115</td>\n",
       "      <td>0.008247</td>\n",
       "      <td>0.010050</td>\n",
       "      <td>1.000000</td>\n",
       "    </tr>\n",
       "  </tbody>\n",
       "</table>\n",
       "</div>"
      ],
      "text/plain": [
       "                    open_day_minus1  high_day_minus1  low_day_minus1  \\\n",
       "open_day_minus1            1.000000         0.999664        0.999516   \n",
       "high_day_minus1            0.999664         1.000000        0.999180   \n",
       "low_day_minus1             0.999516         0.999180        1.000000   \n",
       "close_day_minus1           0.999478         0.999672        0.999644   \n",
       "Volume_day_minus1          0.333702         0.337692        0.326508   \n",
       "MOM_day_minus1             0.067537         0.064985        0.072379   \n",
       "RSI_day_minus1             0.089772         0.091426        0.095880   \n",
       "VWAP_day_minus1            0.996745         0.996700        0.996095   \n",
       "BB_high_day_minus1         0.992840         0.993870        0.990935   \n",
       "BB_low_day_minus1          0.993181         0.992132        0.993623   \n",
       "EMA_day_minus1             0.997577         0.997606        0.996859   \n",
       "CCI_day_minus1             0.039179         0.041996        0.046476   \n",
       "MACD_day_minus1            0.067537         0.064985        0.072379   \n",
       "Signal                    -0.011448        -0.011340       -0.011412   \n",
       "\n",
       "                    close_day_minus1  Volume_day_minus1  MOM_day_minus1  \\\n",
       "open_day_minus1             0.999478           0.333702        0.067537   \n",
       "high_day_minus1             0.999672           0.337692        0.064985   \n",
       "low_day_minus1              0.999644           0.326508        0.072379   \n",
       "close_day_minus1            1.000000           0.332104        0.068637   \n",
       "Volume_day_minus1           0.332104           1.000000       -0.021973   \n",
       "MOM_day_minus1              0.068637          -0.021973        1.000000   \n",
       "RSI_day_minus1              0.096031           0.026602        0.619733   \n",
       "VWAP_day_minus1             0.996383           0.336993       -0.000259   \n",
       "BB_high_day_minus1          0.992456           0.339229       -0.016491   \n",
       "BB_low_day_minus1           0.992795           0.330390       -0.004125   \n",
       "EMA_day_minus1              0.997233           0.336132        0.004150   \n",
       "CCI_day_minus1              0.046205           0.001178        0.556981   \n",
       "MACD_day_minus1             0.068637          -0.021973        1.000000   \n",
       "Signal                     -0.011368          -0.009107        0.010050   \n",
       "\n",
       "                    RSI_day_minus1  VWAP_day_minus1  BB_high_day_minus1  \\\n",
       "open_day_minus1           0.089772         0.996745            0.992840   \n",
       "high_day_minus1           0.091426         0.996700            0.993870   \n",
       "low_day_minus1            0.095880         0.996095            0.990935   \n",
       "close_day_minus1          0.096031         0.996383            0.992456   \n",
       "Volume_day_minus1         0.026602         0.336993            0.339229   \n",
       "MOM_day_minus1            0.619733        -0.000259           -0.016491   \n",
       "RSI_day_minus1            1.000000         0.046999            0.034676   \n",
       "VWAP_day_minus1           0.046999         1.000000            0.995660   \n",
       "BB_high_day_minus1        0.034676         0.995660            1.000000   \n",
       "BB_low_day_minus1         0.043601         0.995812            0.985614   \n",
       "EMA_day_minus1            0.045001         0.999264            0.996507   \n",
       "CCI_day_minus1            0.759072        -0.004444           -0.012875   \n",
       "MACD_day_minus1           0.619733        -0.000259           -0.016491   \n",
       "Signal                    0.016244        -0.011723           -0.011651   \n",
       "\n",
       "                    BB_low_day_minus1  EMA_day_minus1  CCI_day_minus1  \\\n",
       "open_day_minus1              0.993181        0.997577        0.039179   \n",
       "high_day_minus1              0.992132        0.997606        0.041996   \n",
       "low_day_minus1               0.993623        0.996859        0.046476   \n",
       "close_day_minus1             0.992795        0.997233        0.046205   \n",
       "Volume_day_minus1            0.330390        0.336132        0.001178   \n",
       "MOM_day_minus1              -0.004125        0.004150        0.556981   \n",
       "RSI_day_minus1               0.043601        0.045001        0.759072   \n",
       "VWAP_day_minus1              0.995812        0.999264       -0.004444   \n",
       "BB_high_day_minus1           0.985614        0.996507       -0.012875   \n",
       "BB_low_day_minus1            1.000000        0.995907       -0.007366   \n",
       "EMA_day_minus1               0.995907        1.000000       -0.001809   \n",
       "CCI_day_minus1              -0.007366       -0.001809        1.000000   \n",
       "MACD_day_minus1             -0.004125        0.004150        0.556981   \n",
       "Signal                      -0.012335       -0.012115        0.008247   \n",
       "\n",
       "                    MACD_day_minus1    Signal  \n",
       "open_day_minus1            0.067537 -0.011448  \n",
       "high_day_minus1            0.064985 -0.011340  \n",
       "low_day_minus1             0.072379 -0.011412  \n",
       "close_day_minus1           0.068637 -0.011368  \n",
       "Volume_day_minus1         -0.021973 -0.009107  \n",
       "MOM_day_minus1             1.000000  0.010050  \n",
       "RSI_day_minus1             0.619733  0.016244  \n",
       "VWAP_day_minus1           -0.000259 -0.011723  \n",
       "BB_high_day_minus1        -0.016491 -0.011651  \n",
       "BB_low_day_minus1         -0.004125 -0.012335  \n",
       "EMA_day_minus1             0.004150 -0.012115  \n",
       "CCI_day_minus1             0.556981  0.008247  \n",
       "MACD_day_minus1            1.000000  0.010050  \n",
       "Signal                     0.010050  1.000000  "
      ]
     },
     "execution_count": 402,
     "metadata": {},
     "output_type": "execute_result"
    }
   ],
   "source": [
    "train.corr()"
   ]
  },
  {
   "cell_type": "markdown",
   "metadata": {},
   "source": [
    "Many features are highly correlated. It does not seem necessary to keep the open, high and low prices in a day."
   ]
  },
  {
   "cell_type": "code",
   "execution_count": 403,
   "metadata": {},
   "outputs": [],
   "source": [
    "from sklearn.linear_model import LogisticRegression\n",
    "# Create MLR model\n",
    "logistic_regression = LogisticRegression(multi_class=\"multinomial\")\n",
    "\n",
    "# Train\n",
    "log = logistic_regression.fit(train.drop(['Signal'], axis = 1), train['Signal'])\n",
    "\n",
    "# Check score\n",
    "y_pred = log.predict(test.drop(['Signal'], axis = 1))\n",
    "y_test = test['Signal']"
   ]
  },
  {
   "cell_type": "markdown",
   "metadata": {},
   "source": [
    "### 3. Test prediction model"
   ]
  },
  {
   "cell_type": "code",
   "execution_count": 404,
   "metadata": {},
   "outputs": [],
   "source": [
    "TPR, FPR = 0, 0#get_TPR_FPR(y_test, y_pred)\n",
    "F1 = 0#get_F1(y_test, y_pred)\n",
    "ACC = get_ACC(y_test, y_pred)\n",
    "WACC = 0#get_WACC(y_test, y_pred, test_data.close)"
   ]
  },
  {
   "cell_type": "code",
   "execution_count": 405,
   "metadata": {},
   "outputs": [
    {
     "data": {
      "text/html": [
       "<div>\n",
       "<style scoped>\n",
       "    .dataframe tbody tr th:only-of-type {\n",
       "        vertical-align: middle;\n",
       "    }\n",
       "\n",
       "    .dataframe tbody tr th {\n",
       "        vertical-align: top;\n",
       "    }\n",
       "\n",
       "    .dataframe thead th {\n",
       "        text-align: right;\n",
       "    }\n",
       "</style>\n",
       "<table border=\"1\" class=\"dataframe\">\n",
       "  <thead>\n",
       "    <tr style=\"text-align: right;\">\n",
       "      <th></th>\n",
       "      <th>TPR</th>\n",
       "      <th>FPR</th>\n",
       "      <th>ACC</th>\n",
       "      <th>F1</th>\n",
       "      <th>WACC</th>\n",
       "    </tr>\n",
       "  </thead>\n",
       "  <tbody>\n",
       "    <tr>\n",
       "      <th>Baseline</th>\n",
       "      <td>0</td>\n",
       "      <td>0</td>\n",
       "      <td>0.410426</td>\n",
       "      <td>0</td>\n",
       "      <td>0</td>\n",
       "    </tr>\n",
       "  </tbody>\n",
       "</table>\n",
       "</div>"
      ],
      "text/plain": [
       "          TPR  FPR       ACC  F1  WACC\n",
       "Baseline    0    0  0.410426   0     0"
      ]
     },
     "execution_count": 405,
     "metadata": {},
     "output_type": "execute_result"
    }
   ],
   "source": [
    "models = ['Baseline']\n",
    "metrics = ['TPR', 'FPR', 'ACC', 'F1', 'WACC']\n",
    "metric_data = [[TPR, FPR, ACC, F1, WACC]]\n",
    "\n",
    "pd.DataFrame(metric_data, index=models, columns=metrics)"
   ]
  },
  {
   "cell_type": "markdown",
   "metadata": {},
   "source": [
    "### III. Strategy"
   ]
  },
  {
   "cell_type": "markdown",
   "metadata": {},
   "source": [
    "### 1. Get data ready for backtesting"
   ]
  },
  {
   "cell_type": "code",
   "execution_count": 406,
   "metadata": {},
   "outputs": [
    {
     "data": {
      "text/plain": [
       "count    9975.000000\n",
       "mean        0.790977\n",
       "std         0.592987\n",
       "min        -1.000000\n",
       "25%         1.000000\n",
       "50%         1.000000\n",
       "75%         1.000000\n",
       "max         1.000000\n",
       "dtype: float64"
      ]
     },
     "execution_count": 406,
     "metadata": {},
     "output_type": "execute_result"
    }
   ],
   "source": [
    "signal = pd.Series(y_pred)\n",
    "close = test_data.close\n",
    "signal.describe()"
   ]
  },
  {
   "cell_type": "code",
   "execution_count": 407,
   "metadata": {},
   "outputs": [],
   "source": [
    "# Crop for better visualization\n",
    "nb_days = 1\n",
    "\n",
    "signal_crop = crop_window(signal, nb_days)\n",
    "close_crop = crop_window(close, nb_days)"
   ]
  },
  {
   "cell_type": "markdown",
   "metadata": {},
   "source": [
    "### 2. Backtesting"
   ]
  },
  {
   "cell_type": "code",
   "execution_count": 408,
   "metadata": {},
   "outputs": [],
   "source": [
    "strat = Strategy(cash=500, fees=0.001)"
   ]
  },
  {
   "cell_type": "code",
   "execution_count": 409,
   "metadata": {},
   "outputs": [],
   "source": [
    "strat.run(signal_crop, close_crop, verbose=False)"
   ]
  },
  {
   "cell_type": "code",
   "execution_count": 410,
   "metadata": {},
   "outputs": [],
   "source": [
    "wallet = np.array(strat.wallet)\n",
    "profit_list = [0]\n",
    "for i in range(1, len(wallet)):\n",
    "    profit_list.append(wallet[i]-wallet[i-1])\n",
    "    \n",
    "profit = np.array(profit_list)"
   ]
  },
  {
   "cell_type": "code",
   "execution_count": 411,
   "metadata": {},
   "outputs": [
    {
     "data": {
      "image/png": "[encoded data removed]",
      "text/plain": [
       "<Figure size 720x720 with 3 Axes>"
      ]
     },
     "metadata": {
      "needs_background": "light"
     },
     "output_type": "display_data"
    }
   ],
   "source": [
    "strat.visualize()"
   ]
  },
  {
   "cell_type": "markdown",
   "metadata": {},
   "source": [
    "### 3. Test performance startegy"
   ]
  },
  {
   "cell_type": "code",
   "execution_count": 412,
   "metadata": {},
   "outputs": [],
   "source": [
    "l_SharpeRatio = SharpeRatio(profit)\n",
    "l_MaxDrawback = MaxDrawback(profit)\n",
    "l_WinLossRatio = WinLossRatio(profit)\n",
    "l_CumulativeProfit = CumulativeProfit(profit)\n",
    "l_MeanProfit = MeanProfit(profit)"
   ]
  },
  {
   "cell_type": "code",
   "execution_count": 413,
   "metadata": {},
   "outputs": [
    {
     "data": {
      "text/html": [
       "<div>\n",
       "<style scoped>\n",
       "    .dataframe tbody tr th:only-of-type {\n",
       "        vertical-align: middle;\n",
       "    }\n",
       "\n",
       "    .dataframe tbody tr th {\n",
       "        vertical-align: top;\n",
       "    }\n",
       "\n",
       "    .dataframe thead th {\n",
       "        text-align: right;\n",
       "    }\n",
       "</style>\n",
       "<table border=\"1\" class=\"dataframe\">\n",
       "  <thead>\n",
       "    <tr style=\"text-align: right;\">\n",
       "      <th></th>\n",
       "      <th>SharpeRatio</th>\n",
       "      <th>MaxDrawback</th>\n",
       "      <th>WinLossRatio</th>\n",
       "      <th>CumulativeProfit</th>\n",
       "      <th>MeanProfit</th>\n",
       "    </tr>\n",
       "  </thead>\n",
       "  <tbody>\n",
       "    <tr>\n",
       "      <th>Baseline</th>\n",
       "      <td>0.169841</td>\n",
       "      <td>-4.160833</td>\n",
       "      <td>1.090909</td>\n",
       "      <td>9.939215</td>\n",
       "      <td>0.397569</td>\n",
       "    </tr>\n",
       "  </tbody>\n",
       "</table>\n",
       "</div>"
      ],
      "text/plain": [
       "          SharpeRatio  MaxDrawback  WinLossRatio  CumulativeProfit  MeanProfit\n",
       "Baseline     0.169841    -4.160833      1.090909          9.939215    0.397569"
      ]
     },
     "execution_count": 413,
     "metadata": {},
     "output_type": "execute_result"
    }
   ],
   "source": [
    "models = ['Baseline']\n",
    "metrics = ['SharpeRatio', 'MaxDrawback', 'WinLossRatio', 'CumulativeProfit', 'MeanProfit']\n",
    "metric_data = [[l_SharpeRatio, l_MaxDrawback, l_WinLossRatio, l_CumulativeProfit, l_MeanProfit]]\n",
    "\n",
    "pd.DataFrame(metric_data, index=models, columns=metrics)"
   ]
  },
  {
   "cell_type": "code",
   "execution_count": null,
   "metadata": {},
   "outputs": [],
   "source": []
  }
 ],
 "metadata": {
  "kernelspec": {
   "display_name": "Python 3",
   "language": "python",
   "name": "python3"
  },
  "language_info": {
   "codemirror_mode": {
    "name": "ipython",
    "version": 3
   },
   "file_extension": ".py",
   "mimetype": "text/x-python",
   "name": "python",
   "nbconvert_exporter": "python",
   "pygments_lexer": "ipython3",
   "version": "3.7.9"
  }
 },
 "nbformat": 4,
 "nbformat_minor": 2
}
