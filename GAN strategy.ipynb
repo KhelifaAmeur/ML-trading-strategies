{
 "cells": [
  {
   "cell_type": "markdown",
   "id": "991a3814",
   "metadata": {},
   "source": [
    "### Step 1:  Load the data & create the necessary features"
   ]
  },
  {
   "cell_type": "code",
   "execution_count": 2,
   "id": "a3abd275",
   "metadata": {},
   "outputs": [],
   "source": [
    "import os\n",
    "import numpy as np\n",
    "import csv\n",
    "import pandas as pd\n",
    "import matplotlib.pyplot as plt\n",
    "from matplotlib.dates import DateFormatter\n",
    "import math"
   ]
  },
  {
   "cell_type": "code",
   "execution_count": 3,
   "id": "d022f6fb",
   "metadata": {},
   "outputs": [],
   "source": [
    "## import data\n",
    "data=pd.read_csv('data/Binance_BTCUSDT_1h.csv')"
   ]
  },
  {
   "cell_type": "code",
   "execution_count": 4,
   "id": "01c3a848",
   "metadata": {},
   "outputs": [],
   "source": [
    "# Calculate technical indicators\n",
    "def get_technical_indicators(data):\n",
    "    # Create 7 and 21 days Moving Average\n",
    "    data['MA7'] = data.iloc[:,4].rolling(window=7).mean()\n",
    "    data['MA21'] = data.iloc[:,4].rolling(window=21).mean()\n",
    "\n",
    "    # Create MACD\n",
    "    data['MACD'] = data.iloc[:,4].ewm(span=26).mean() - data.iloc[:,1].ewm(span=12,adjust=False).mean()\n",
    "\n",
    "    # Create Bollinger Bands\n",
    "    data['20SD'] = data.iloc[:, 4].rolling(20).std()\n",
    "    data['upper_band'] = data['MA21'] + (data['20SD'] * 2)\n",
    "    data['lower_band'] = data['MA21'] - (data['20SD'] * 2)\n",
    "\n",
    "    # Create Exponential moving average\n",
    "    data['EMA'] = data.iloc[:,4].ewm(com=0.5).mean()\n",
    "\n",
    "    # Create LogMomentum\n",
    "    data['logmomentum'] = np.log(data.iloc[:,4] - 1)\n",
    "\n",
    "    return data\n",
    "T_df = get_technical_indicators(df)\n"
   ]
  },
  {
   "cell_type": "markdown",
   "id": "ec430d3f",
   "metadata": {},
   "source": [
    "### Step 2: Process the data"
   ]
  },
  {
   "cell_type": "code",
   "execution_count": 8,
   "id": "0f23b68c",
   "metadata": {},
   "outputs": [],
   "source": [
    "import statsmodels.api as sm\n",
    "from numpy import *\n",
    "from math import sqrt\n",
    "from pandas import *\n",
    "from datetime import datetime, timedelta\n",
    "from sklearn.preprocessing import MinMaxScaler\n",
    "from pickle import dump"
   ]
  },
  {
   "cell_type": "code",
   "execution_count": 9,
   "id": "859f3585",
   "metadata": {},
   "outputs": [],
   "source": [
    "#Load Data\n",
    "dataset = pd.read_csv('Final_data.csv', parse_dates=['Date'])"
   ]
  },
  {
   "cell_type": "code",
   "execution_count": 11,
   "id": "e1ca7b34",
   "metadata": {},
   "outputs": [],
   "source": [
    "# Replace 0 by NA\n",
    "dataset.replace(0, np.nan, inplace=True)\n",
    "dataset.to_csv(\"dataset.csv\", index=False)"
   ]
  },
  {
   "cell_type": "code",
   "execution_count": 12,
   "id": "5fdeeab7",
   "metadata": {},
   "outputs": [
    {
     "name": "stdout",
     "output_type": "stream",
     "text": [
      "Index(['Date', 'Open', 'High', 'Low', 'Close', 'Adj Close', 'Volume', 'ETHUSD',\n",
      "       'XRPUSD', 'LTCUSD', 'S&P 500', 'DJ', 'MA7', 'MA21', 'MACD', '20SD',\n",
      "       'upper_band', 'lower_band', 'EMA', 'logmomentum'],\n",
      "      dtype='object')\n"
     ]
    },
    {
     "data": {
      "text/plain": [
       "0"
      ]
     },
     "execution_count": 12,
     "metadata": {},
     "output_type": "execute_result"
    }
   ],
   "source": [
    "# Check NA and fill them\n",
    "dataset.isnull().sum()\n",
    "dataset.iloc[:, 1:] = pd.concat([dataset.iloc[:, 1:].ffill(), dataset.iloc[:, 1:].bfill()]).groupby(level=0).mean()\n",
    "print(dataset.columns)\n",
    "# Confirm no NA is left\n",
    "dataset.isnull().sum().sum()"
   ]
  },
  {
   "cell_type": "code",
   "execution_count": 13,
   "id": "a30fe354",
   "metadata": {},
   "outputs": [],
   "source": [
    "# Set indexes to datetime for eaiser use\n",
    "datetime_series = pd.to_datetime(dataset['Date'])\n",
    "datetime_index = pd.DatetimeIndex(datetime_series.values)\n",
    "dataset = dataset.set_index(datetime_index)\n",
    "dataset = dataset.sort_values(by='Date')\n",
    "dataset = dataset.drop(columns='Date')"
   ]
  },
  {
   "cell_type": "code",
   "execution_count": 14,
   "id": "def99c40",
   "metadata": {},
   "outputs": [],
   "source": [
    "# Get features and target (define X and y)\n",
    "X_value = pd.DataFrame(dataset.iloc[:, :])\n",
    "y_value = pd.DataFrame(dataset.iloc[:, 3])"
   ]
  },
  {
   "cell_type": "code",
   "execution_count": 15,
   "id": "36a3ea8a",
   "metadata": {},
   "outputs": [
    {
     "data": {
      "image/png": "[encoded data removed]",
      "text/plain": [
       "<Figure size 432x288 with 1 Axes>"
      ]
     },
     "metadata": {
      "needs_background": "light"
     },
     "output_type": "display_data"
    },
    {
     "data": {
      "image/png": "[encoded data removed]",
      "text/plain": [
       "<Figure size 432x288 with 1 Axes>"
      ]
     },
     "metadata": {
      "needs_background": "light"
     },
     "output_type": "display_data"
    }
   ],
   "source": [
    "# Autocorrelation & partial correlation Check (commonly used in timeseries problems)\n",
    "sm.graphics.tsa.plot_acf(y_value.squeeze(), lags=40)\n",
    "plt.show()\n",
    "sm.graphics.tsa.plot_pacf(y_value.squeeze(), lags=40)\n",
    "plt.show()\n"
   ]
  },
  {
   "cell_type": "code",
   "execution_count": 16,
   "id": "8389b442",
   "metadata": {},
   "outputs": [
    {
     "data": {
      "text/plain": [
       "MinMaxScaler(feature_range=(-1, 1))"
      ]
     },
     "execution_count": 16,
     "metadata": {},
     "output_type": "execute_result"
    }
   ],
   "source": [
    "# Normalize the data using MinMaxScaler (because we have heterogenous features)\n",
    "X_scaler = MinMaxScaler(feature_range=(-1, 1))\n",
    "y_scaler = MinMaxScaler(feature_range=(-1, 1))\n",
    "X_scaler.fit(X_value)\n",
    "y_scaler.fit(y_value)"
   ]
  },
  {
   "cell_type": "code",
   "execution_count": 17,
   "id": "73cf922e",
   "metadata": {},
   "outputs": [],
   "source": [
    "#After scaling the data, we save the scaler for later use\n",
    "X_scale_dataset = X_scaler.fit_transform(X_value)\n",
    "y_scale_dataset = y_scaler.fit_transform(y_value)\n",
    "dump(X_scaler, open('X_scaler.pkl', 'wb'))\n",
    "dump(y_scaler, open('y_scaler.pkl', 'wb'))"
   ]
  },
  {
   "cell_type": "code",
   "execution_count": 18,
   "id": "6fdc31c3",
   "metadata": {},
   "outputs": [
    {
     "name": "stdout",
     "output_type": "stream",
     "text": [
      "number of features used is: 19\n"
     ]
    }
   ],
   "source": [
    "# Define the parameters used for reshaping the data: we use the last 30 days of data to predict 3 days price\n",
    "n_steps_in = 3\n",
    "n_features = X_value.shape[1]\n",
    "n_steps_out = 1\n",
    "print('number of features used is:', n_features)"
   ]
  },
  {
   "cell_type": "code",
   "execution_count": 19,
   "id": "bb6b3e2e",
   "metadata": {},
   "outputs": [],
   "source": [
    "# Build X and y datasets\n",
    "def get_X_y(X_data, y_data):\n",
    "    X = list()\n",
    "    y = list()\n",
    "    yc = list()\n",
    "\n",
    "    length = len(X_data)\n",
    "    for i in range(0, length, 1):\n",
    "        X_value = X_data[i: i + n_steps_in][:, :]\n",
    "        y_value = y_data[i + n_steps_in: i + (n_steps_in + n_steps_out)][:, 0]\n",
    "        yc_value = y_data[i: i + n_steps_in][:, :]\n",
    "        if len(X_value) == 3 and len(y_value) == 1:\n",
    "            X.append(X_value)\n",
    "            y.append(y_value)\n",
    "            yc.append(yc_value)\n",
    "\n",
    "    return np.array(X), np.array(y), np.array(yc)"
   ]
  },
  {
   "cell_type": "code",
   "execution_count": 20,
   "id": "813105f0",
   "metadata": {},
   "outputs": [],
   "source": [
    "# get the train test predict index\n",
    "def predict_index(dataset, X_train, n_steps_in, n_steps_out):\n",
    "\n",
    "    # get the predict data (remove the in_steps days)\n",
    "    train_predict_index = dataset.iloc[n_steps_in : X_train.shape[0] + n_steps_in + n_steps_out - 1, :].index\n",
    "    test_predict_index = dataset.iloc[X_train.shape[0] + n_steps_in:, :].index\n",
    "\n",
    "    return train_predict_index, test_predict_index"
   ]
  },
  {
   "cell_type": "code",
   "execution_count": 21,
   "id": "ccc020e5",
   "metadata": {},
   "outputs": [],
   "source": [
    "# Split train/test dataset (70% train, 30% test)\n",
    "def split_train_test(data):\n",
    "    train_size = round(len(X) * 0.7)\n",
    "    data_train = data[0:train_size]\n",
    "    data_test = data[train_size:]\n",
    "    return data_train, data_test"
   ]
  },
  {
   "cell_type": "code",
   "execution_count": 22,
   "id": "4fc93ba4",
   "metadata": {},
   "outputs": [],
   "source": [
    "# Get data and check shape\n",
    "X, y, yc = get_X_y(X_scale_dataset, y_scale_dataset)\n",
    "X_train, X_test, = split_train_test(X)\n",
    "y_train, y_test, = split_train_test(y)\n",
    "yc_train, yc_test, = split_train_test(yc)\n",
    "index_train, index_test, = predict_index(dataset, X_train, n_steps_in, n_steps_out)"
   ]
  },
  {
   "cell_type": "code",
   "execution_count": 23,
   "id": "cb9db897",
   "metadata": {},
   "outputs": [
    {
     "name": "stdout",
     "output_type": "stream",
     "text": [
      "X shape:  (1796, 3, 19)\n",
      "y shape:  (1796, 1)\n",
      "X_train shape:  (1257, 3, 19)\n",
      "y_train shape:  (1257, 1)\n",
      "y_c_train shape:  (1257, 3, 1)\n",
      "X_test shape:  (539, 3, 19)\n",
      "y_test shape:  (539, 1)\n",
      "y_c_test shape:  (539, 3, 1)\n",
      "index_train shape: (1257,)\n",
      "index_test shape: (539,)\n"
     ]
    }
   ],
   "source": [
    "print('X shape: ', X.shape)\n",
    "print('y shape: ', y.shape)\n",
    "print('X_train shape: ', X_train.shape)\n",
    "print('y_train shape: ', y_train.shape)\n",
    "print('y_c_train shape: ', yc_train.shape)\n",
    "print('X_test shape: ', X_test.shape)\n",
    "print('y_test shape: ', y_test.shape)\n",
    "print('y_c_test shape: ', yc_test.shape)\n",
    "print('index_train shape:', index_train.shape)\n",
    "print('index_test shape:', index_test.shape)"
   ]
  },
  {
   "cell_type": "markdown",
   "id": "03e1e6ff",
   "metadata": {},
   "source": [
    "### Step 3: Building the Model"
   ]
  },
  {
   "cell_type": "code",
   "execution_count": 24,
   "id": "a076f184",
   "metadata": {},
   "outputs": [],
   "source": [
    "import time\n",
    "import os\n",
    "import tensorflow as tf\n",
    "from tensorflow.keras.layers import GRU, LSTM, Bidirectional, Dense, Flatten, Conv1D, BatchNormalization, LeakyReLU, Dropout\n",
    "from tensorflow.keras import Sequential\n",
    "from pickle import load\n",
    "from sklearn.metrics import mean_squared_error"
   ]
  },
  {
   "cell_type": "code",
   "execution_count": 25,
   "id": "867e46e3",
   "metadata": {},
   "outputs": [],
   "source": [
    "#The generator is a GRU model\n",
    "def make_generator_model(input_dim, output_dim, feature_size) -> tf.keras.models.Model:\n",
    "\n",
    "    model = Sequential()\n",
    "    model.add(GRU(units=1024, return_sequences = True, input_shape=(input_dim, feature_size),\n",
    "                  recurrent_dropout=0.2))\n",
    "    model.add(GRU(units=512, return_sequences = True, recurrent_dropout=0.2)) # 256, return_sequences = True\n",
    "    model.add(GRU(units=256, recurrent_dropout=0.2)) #, recurrent_dropout=0.1\n",
    "    # , recurrent_dropout = 0.2\n",
    "    model.add(Dense(128))\n",
    "    # model.add(Dense(128))\n",
    "    model.add(Dense(64))\n",
    "    #model.add(Dense(16))\n",
    "    model.add(Dense(units=output_dim))\n",
    "    return model"
   ]
  },
  {
   "cell_type": "code",
   "execution_count": 26,
   "id": "524f3545",
   "metadata": {},
   "outputs": [],
   "source": [
    "#The discriminator is a CNN model\n",
    "def make_discriminator_model():\n",
    "\n",
    "    cnn_net = tf.keras.Sequential()\n",
    "    cnn_net.add(Conv1D(32, input_shape=(4, 1), kernel_size=3, strides=2, padding='same', activation=LeakyReLU(alpha=0.01)))\n",
    "    cnn_net.add(Conv1D(64, kernel_size=5, strides=2, padding='same', activation=LeakyReLU(alpha=0.01)))\n",
    "    cnn_net.add(Conv1D(128, kernel_size=5, strides=2, padding='same', activation=LeakyReLU(alpha=0.01)))\n",
    "    cnn_net.add(Flatten())\n",
    "    cnn_net.add(Dense(220, use_bias=False))\n",
    "    cnn_net.add(LeakyReLU())\n",
    "    cnn_net.add(Dense(220, use_bias=False, activation='relu'))\n",
    "    cnn_net.add(Dense(1, activation='sigmoid'))\n",
    "    return cnn_net"
   ]
  },
  {
   "cell_type": "code",
   "execution_count": 27,
   "id": "12740e22",
   "metadata": {},
   "outputs": [
    {
     "name": "stdout",
     "output_type": "stream",
     "text": [
      "Model: \"sequential\"\n",
      "_________________________________________________________________\n",
      "Layer (type)                 Output Shape              Param #   \n",
      "=================================================================\n",
      "conv1d (Conv1D)              (None, 2, 32)             128       \n",
      "_________________________________________________________________\n",
      "conv1d_1 (Conv1D)            (None, 1, 64)             10304     \n",
      "_________________________________________________________________\n",
      "conv1d_2 (Conv1D)            (None, 1, 128)            41088     \n",
      "_________________________________________________________________\n",
      "flatten (Flatten)            (None, 128)               0         \n",
      "_________________________________________________________________\n",
      "dense (Dense)                (None, 220)               28160     \n",
      "_________________________________________________________________\n",
      "leaky_re_lu_3 (LeakyReLU)    (None, 220)               0         \n",
      "_________________________________________________________________\n",
      "dense_1 (Dense)              (None, 220)               48400     \n",
      "_________________________________________________________________\n",
      "dense_2 (Dense)              (None, 1)                 221       \n",
      "=================================================================\n",
      "Total params: 128,301\n",
      "Trainable params: 128,301\n",
      "Non-trainable params: 0\n",
      "_________________________________________________________________\n",
      "None\n"
     ]
    }
   ],
   "source": [
    "model = make_discriminator_model()\n",
    "print(model.summary())\n"
   ]
  },
  {
   "cell_type": "code",
   "execution_count": 28,
   "id": "e031e327",
   "metadata": {},
   "outputs": [],
   "source": [
    "# Defining the GAN Model as an object\n",
    "class GAN:\n",
    "    def __init__(self, generator, discriminator, opt):\n",
    "        self.opt = opt\n",
    "        self.lr = opt[\"lr\"]\n",
    "        self.generator = generator\n",
    "        self.discriminator = discriminator\n",
    "        self.cross_entropy = tf.keras.losses.BinaryCrossentropy(from_logits=True)\n",
    "        self.generator_optimizer = tf.keras.optimizers.Adam(lr=self.lr)\n",
    "        self.discriminator_optimizer = tf.keras.optimizers.Adam(lr=self.lr)\n",
    "        self.batch_size = self.opt['bs']\n",
    "        self.checkpoint_dir = '../training_checkpoints'\n",
    "        self.checkpoint_prefix = os.path.join(self.checkpoint_dir, \"ckpt\")\n",
    "        self.checkpoint = tf.train.Checkpoint(generator_optimizer=self.generator_optimizer,\n",
    "                                              discriminator_optimizer=self.discriminator_optimizer,\n",
    "                                              generator=self.generator,\n",
    "                                              discriminator=self.discriminator)\n",
    "    def discriminator_loss(self, real_output, fake_output):\n",
    "        real_loss = self.cross_entropy(tf.ones_like(real_output), real_output)\n",
    "        fake_loss = self.cross_entropy(tf.zeros_like(fake_output), fake_output)\n",
    "        total_loss = real_loss + fake_loss\n",
    "        return total_loss\n",
    "\n",
    "    def generator_loss(self, fake_output):\n",
    "        return self.cross_entropy(tf.ones_like(fake_output), fake_output)\n",
    "\n",
    "    @tf.function\n",
    "    @tf.autograph.experimental.do_not_convert\n",
    "    def train_step(self, real_x, real_y, yc):\n",
    "        with tf.GradientTape() as gen_tape, tf.GradientTape() as disc_tape:\n",
    "            generated_data = self.generator(real_x, training=True)\n",
    "            generated_data_reshape = tf.reshape(generated_data, [generated_data.shape[0], generated_data.shape[1], 1])\n",
    "            d_fake_input = tf.concat([tf.cast(generated_data_reshape, tf.float64), yc], axis=1)\n",
    "            real_y_reshape = tf.reshape(real_y, [real_y.shape[0], real_y.shape[1], 1])\n",
    "            d_real_input = tf.concat([real_y_reshape, yc], axis=1)\n",
    "\n",
    "            real_output = self.discriminator(d_real_input, training=True)\n",
    "            fake_output = self.discriminator(d_fake_input, training=True)\n",
    "\n",
    "            gen_loss = self.generator_loss(fake_output)\n",
    "            disc_loss = self.discriminator_loss(real_output, fake_output)\n",
    "\n",
    "        gradients_of_generator = gen_tape.gradient(gen_loss, self.generator.trainable_variables)\n",
    "        gradients_of_discriminator = disc_tape.gradient(disc_loss, self.discriminator.trainable_variables)\n",
    "\n",
    "        self.generator_optimizer.apply_gradients(zip(gradients_of_generator, self.generator.trainable_variables))\n",
    "        self.discriminator_optimizer.apply_gradients(\n",
    "            zip(gradients_of_discriminator, self.discriminator.trainable_variables))\n",
    "        return real_y, generated_data, {'d_loss': disc_loss, 'g_loss': gen_loss}\n",
    "\n",
    "    def train(self, real_x, real_y, yc, opt):\n",
    "        train_hist = {}\n",
    "        train_hist['D_losses'] = []\n",
    "        train_hist['G_losses'] = []\n",
    "        train_hist['per_epoch_times'] = []\n",
    "        train_hist['total_ptime'] = []\n",
    "\n",
    "        epochs = opt[\"epoch\"]\n",
    "        for epoch in range(epochs):\n",
    "            start = time.time()\n",
    "\n",
    "            real_price, fake_price, loss = self.train_step(real_x, real_y, yc)\n",
    "\n",
    "            G_losses = []\n",
    "            D_losses = []\n",
    "\n",
    "            Real_price = []\n",
    "            Predicted_price = []\n",
    "\n",
    "            D_losses.append(loss['d_loss'].numpy())\n",
    "            G_losses.append(loss['g_loss'].numpy())\n",
    "\n",
    "            Predicted_price.append(fake_price.numpy())\n",
    "            Real_price.append(real_price.numpy())\n",
    "\n",
    "            # Save the model every 15 epochs\n",
    "            if (epoch + 1) % 15 == 0:\n",
    "                tf.keras.models.save_model(generator, 'model_%d.h5' % epoch)\n",
    "                self.checkpoint.save(file_prefix=self.checkpoint_prefix + f'-{epoch}')\n",
    "                print('epoch', epoch + 1, 'd_loss', loss['d_loss'].numpy(), 'g_loss', loss['g_loss'].numpy())\n",
    "            # For printing loss\n",
    "            epoch_end_time = time.time()\n",
    "            per_epoch_ptime = epoch_end_time - start\n",
    "            train_hist['D_losses'].append(D_losses)\n",
    "            train_hist['G_losses'].append(G_losses)\n",
    "            train_hist['per_epoch_times'].append(per_epoch_ptime)\n",
    "            \n",
    "        # Reshape the predicted result & real\n",
    "        Predicted_price = np.array(Predicted_price)\n",
    "        Predicted_price = Predicted_price.reshape(Predicted_price.shape[1], Predicted_price.shape[2])\n",
    "        Real_price = np.array(Real_price)\n",
    "        Real_price = Real_price.reshape(Real_price.shape[1], Real_price.shape[2])\n",
    "\n",
    "        plt.plot(train_hist['D_losses'], label='D_loss')\n",
    "        plt.plot(train_hist['G_losses'], label='G_loss')\n",
    "        plt.xlabel('Epoch')\n",
    "        plt.ylabel('Loss')\n",
    "        plt.legend()\n",
    "        plt.show()\n",
    "        \n",
    "        return Predicted_price, Real_price, np.sqrt(mean_squared_error(Real_price, Predicted_price)) / np.mean(\n",
    "            Real_price)\n"
   ]
  },
  {
   "cell_type": "code",
   "execution_count": 29,
   "id": "a0f5c706",
   "metadata": {},
   "outputs": [
    {
     "name": "stdout",
     "output_type": "stream",
     "text": [
      "epoch 15 d_loss 1.4452844 g_loss 0.47804162\n",
      "epoch 30 d_loss 1.4419532 g_loss 0.48397323\n",
      "epoch 45 d_loss 1.4343473 g_loss 0.4942921\n",
      "epoch 60 d_loss 1.422845 g_loss 0.5190992\n",
      "epoch 75 d_loss 1.403895 g_loss 0.5695061\n",
      "epoch 90 d_loss 1.3909249 g_loss 0.62868637\n",
      "epoch 105 d_loss 1.3872018 g_loss 0.66006184\n",
      "epoch 120 d_loss 1.3869894 g_loss 0.6708386\n",
      "epoch 135 d_loss 1.386641 g_loss 0.676591\n",
      "epoch 150 d_loss 1.3865058 g_loss 0.6797019\n",
      "epoch 165 d_loss 1.3864534 g_loss 0.68158466\n"
     ]
    },
    {
     "data": {
      "image/png": "[encoded data removed]",
      "text/plain": [
       "<Figure size 432x288 with 1 Axes>"
      ]
     },
     "metadata": {
      "needs_background": "light"
     },
     "output_type": "display_data"
    }
   ],
   "source": [
    "input_dim = X_train.shape[1]\n",
    "feature_size = X_train.shape[2]\n",
    "output_dim = y_train.shape[1]\n",
    "\n",
    "## For Bayesian\n",
    "opt = {\"lr\": 0.00016, \"epoch\": 165, 'bs': 128}\n",
    "\n",
    "generator = make_generator_model(X_train.shape[1], output_dim, X_train.shape[2])\n",
    "discriminator = make_discriminator_model()\n",
    "gan = GAN(generator, discriminator, opt)\n",
    "Predicted_price, Real_price, RMSPE = gan.train(X_train, y_train, yc_train, opt)"
   ]
  },
  {
   "cell_type": "code",
   "execution_count": 30,
   "id": "f70be8bf",
   "metadata": {},
   "outputs": [],
   "source": [
    "# Rescale back the real dataset\n",
    "X_scaler = load(open('X_scaler.pkl', 'rb'))\n",
    "y_scaler = load(open('y_scaler.pkl', 'rb'))\n",
    "train_predict_index = index_train\n",
    "test_predict_index = index_test"
   ]
  },
  {
   "cell_type": "code",
   "execution_count": 31,
   "id": "cda94e7b",
   "metadata": {},
   "outputs": [
    {
     "name": "stdout",
     "output_type": "stream",
     "text": [
      "----- predicted price ----- [[-1.0202231]\n",
      " [-1.0216081]\n",
      " [-1.0151763]\n",
      " ...\n",
      " [-0.7606404]\n",
      " [-0.7598379]\n",
      " [-0.7483534]]\n",
      "----- rescaled predicted price ----- [[  72.1458  ]\n",
      " [  26.953552]\n",
      " [ 236.82635 ]\n",
      " ...\n",
      " [8542.436   ]\n",
      " [8568.62    ]\n",
      " [8943.364   ]]\n",
      "----- SHAPE rescaled predicted price ----- (1257, 1)\n"
     ]
    }
   ],
   "source": [
    "print(\"----- predicted price -----\", Predicted_price)\n",
    "rescaled_Real_price = y_scaler.inverse_transform(Real_price)\n",
    "rescaled_Predicted_price = y_scaler.inverse_transform(Predicted_price)\n",
    "\n",
    "print(\"----- rescaled predicted price -----\", rescaled_Predicted_price)\n",
    "print(\"----- SHAPE rescaled predicted price -----\", rescaled_Predicted_price.shape)"
   ]
  },
  {
   "cell_type": "code",
   "execution_count": 32,
   "id": "608e2f3b",
   "metadata": {},
   "outputs": [],
   "source": [
    "predict_result = pd.DataFrame()\n",
    "for i in range(rescaled_Predicted_price.shape[0]):\n",
    "    y_predict = pd.DataFrame(rescaled_Predicted_price[i], columns=[\"predicted_price\"], index=train_predict_index[i:i+output_dim])\n",
    "    predict_result = pd.concat([predict_result, y_predict], axis=1, sort=False)\n",
    "\n",
    "real_price = pd.DataFrame()\n",
    "for i in range(rescaled_Real_price.shape[0]):\n",
    "    y_train = pd.DataFrame(rescaled_Real_price[i], columns=[\"real_price\"], index=train_predict_index[i:i+output_dim])\n",
    "    real_price = pd.concat([real_price, y_train], axis=1, sort=False)\n",
    "\n",
    "predict_result['predicted_mean'] = predict_result.mean(axis=1)\n",
    "real_price['real_mean'] = real_price.mean(axis=1)"
   ]
  },
  {
   "cell_type": "code",
   "execution_count": 33,
   "id": "472e5cc7",
   "metadata": {},
   "outputs": [
    {
     "data": {
      "image/png": "[encoded data removed]",
      "text/plain": [
       "<Figure size 1152x576 with 1 Axes>"
      ]
     },
     "metadata": {
      "needs_background": "light"
     },
     "output_type": "display_data"
    },
    {
     "name": "stdout",
     "output_type": "stream",
     "text": [
      "-- Train RMSE --  802.8348452506423\n"
     ]
    }
   ],
   "source": [
    "# Plot the predicted result\n",
    "plt.figure(figsize=(16, 8))\n",
    "plt.plot(real_price[\"real_mean\"])\n",
    "plt.plot(predict_result[\"predicted_mean\"], color = 'r')\n",
    "plt.xlabel(\"Date\")\n",
    "plt.ylabel(\"Stock price\")\n",
    "plt.legend((\"Real price\", \"Predicted price\"), loc=\"upper left\", fontsize=16)\n",
    "plt.title(\"The result of Training\", fontsize=20)\n",
    "plt.show()\n",
    "\n",
    "# Calculate RMSE\n",
    "predicted = predict_result[\"predicted_mean\"]\n",
    "real = real_price[\"real_mean\"]\n",
    "For_MSE = pd.concat([predicted, real], axis = 1)\n",
    "RMSE = np.sqrt(mean_squared_error(predicted, real))\n",
    "print('-- Train RMSE -- ', RMSE)"
   ]
  },
  {
   "cell_type": "code",
   "execution_count": 34,
   "id": "233c4f3b",
   "metadata": {},
   "outputs": [
    {
     "data": {
      "text/plain": [
       "2016-11-30      72.145798\n",
       "2016-12-01      26.953552\n",
       "2016-12-02     236.826355\n",
       "2016-12-03      82.274956\n",
       "2016-12-04     159.142227\n",
       "                 ...     \n",
       "2020-05-05    8418.757812\n",
       "2020-05-06    8426.807617\n",
       "2020-05-07    8542.435547\n",
       "2020-05-08    8568.620117\n",
       "2020-05-09    8943.364258\n",
       "Freq: D, Name: predicted_mean, Length: 1257, dtype: float32"
      ]
     },
     "execution_count": 34,
     "metadata": {},
     "output_type": "execute_result"
    }
   ],
   "source": [
    "predicted"
   ]
  },
  {
   "cell_type": "code",
   "execution_count": 35,
   "id": "96ccda19",
   "metadata": {},
   "outputs": [
    {
     "name": "stdout",
     "output_type": "stream",
     "text": [
      "WARNING:tensorflow:No training configuration found in the save file, so the model was *not* compiled. Compile it manually.\n"
     ]
    },
    {
     "data": {
      "image/png": "[encoded data removed]",
      "text/plain": [
       "<Figure size 1152x576 with 1 Axes>"
      ]
     },
     "metadata": {
      "needs_background": "light"
     },
     "output_type": "display_data"
    },
    {
     "name": "stdout",
     "output_type": "stream",
     "text": [
      "-- RMSE --  6896.990146518451\n"
     ]
    },
    {
     "data": {
      "text/plain": [
       "<Figure size 432x288 with 0 Axes>"
      ]
     },
     "metadata": {},
     "output_type": "display_data"
    }
   ],
   "source": [
    "# Load test dataset/ model\n",
    "G_model = tf.keras.models.load_model('model_164.h5')\n",
    "\n",
    "def get_test_plot(X_test, y_test):\n",
    "    # Set output steps\n",
    "    output_dim = y_test.shape[1]\n",
    "\n",
    "    # Get predicted data\n",
    "    y_predicted = G_model(X_test)\n",
    "    rescaled_real_y = y_scaler.inverse_transform(y_test)\n",
    "    rescaled_predicted_y = y_scaler.inverse_transform(y_predicted)\n",
    "\n",
    "    ## Predicted price\n",
    "    predict_result = pd.DataFrame()\n",
    "    for i in range(rescaled_predicted_y.shape[0]):\n",
    "        y_predict = pd.DataFrame(rescaled_predicted_y[i], columns=[\"predicted_price\"],\n",
    "                                 index=test_predict_index[i:i + output_dim])\n",
    "        predict_result = pd.concat([predict_result, y_predict], axis=1, sort=False)\n",
    "\n",
    "    ## Real price\n",
    "    real_price = pd.DataFrame()\n",
    "    for i in range(rescaled_real_y.shape[0]):\n",
    "        y_train = pd.DataFrame(rescaled_real_y[i], columns=[\"real_price\"], index=test_predict_index[i:i + output_dim])\n",
    "        real_price = pd.concat([real_price, y_train], axis=1, sort=False)\n",
    "\n",
    "    predict_result['predicted_mean'] = predict_result.mean(axis=1)\n",
    "    real_price['real_mean'] = real_price.mean(axis=1)\n",
    "\n",
    "    \n",
    "    # Plot the predicted result\n",
    "    plt.figure(figsize=(16, 8))\n",
    "    plt.plot(real_price[\"real_mean\"])\n",
    "    plt.plot(predict_result[\"predicted_mean\"], color='r')\n",
    "    plt.xlabel(\"Date\")\n",
    "    plt.ylabel(\"Stock price\")\n",
    "    plt.legend((\"Real price\", \"Predicted price\"), loc=\"upper left\", fontsize=16)\n",
    "    plt.title(\"The result of test\", fontsize=20)\n",
    "    plt.show()\n",
    "    plt.savefig('test_plot.png')\n",
    "    # Calculate RMSE\n",
    "    predicted = predict_result[\"predicted_mean\"]\n",
    "    real = real_price[\"real_mean\"]\n",
    "    For_MSE = pd.concat([predicted, real], axis=1)\n",
    "    RMSE = np.sqrt(mean_squared_error(predicted, real))\n",
    "    print('-- RMSE -- ', RMSE)\n",
    "\n",
    "    return predict_result, RMSE,real_price\n",
    "\n",
    "\n",
    "test_predicted, test_RMSE, test_real = get_test_plot(X_test, y_test)\n",
    "test_predicted.to_csv(\"test_predicted.csv\")\n"
   ]
  },
  {
   "cell_type": "code",
   "execution_count": 36,
   "id": "0db96c83",
   "metadata": {},
   "outputs": [],
   "source": [
    "from sklearn.metrics import accuracy_score"
   ]
  },
  {
   "cell_type": "code",
   "execution_count": 37,
   "id": "69b03685",
   "metadata": {},
   "outputs": [
    {
     "data": {
      "text/plain": [
       "(2020-05-10     9147.975383\n",
       " 2020-05-11     9152.571237\n",
       " 2020-05-12     8954.027619\n",
       " 2020-05-13     8723.097135\n",
       " 2020-05-14     8630.979727\n",
       "                   ...     \n",
       " 2021-10-26    49983.284305\n",
       " 2021-10-27    49955.748079\n",
       " 2021-10-28    49699.780596\n",
       " 2021-10-29    49143.380791\n",
       " 2021-10-30    48919.803091\n",
       " Freq: D, Name: predicted_mean, Length: 539, dtype: float64,\n",
       " 2020-05-10     8756.430664\n",
       " 2020-05-11     8601.795898\n",
       " 2020-05-12     8804.477539\n",
       " 2020-05-13     9269.987305\n",
       " 2020-05-14     9733.721680\n",
       "                   ...     \n",
       " 2021-10-26    60363.792970\n",
       " 2021-10-27    58482.386720\n",
       " 2021-10-28    60622.136720\n",
       " 2021-10-29    62227.964840\n",
       " 2021-10-30    61888.832030\n",
       " Freq: D, Name: real_mean, Length: 539, dtype: float64)"
      ]
     },
     "execution_count": 37,
     "metadata": {},
     "output_type": "execute_result"
    }
   ],
   "source": [
    "test_predicted['predicted_mean'], test_real[\"real_mean\"]"
   ]
  },
  {
   "cell_type": "code",
   "execution_count": 38,
   "id": "e4a6973a",
   "metadata": {},
   "outputs": [
    {
     "data": {
      "text/plain": [
       "[8756.430664,\n",
       " 8601.795897999998,\n",
       " 8804.477539,\n",
       " 9269.987305,\n",
       " 9733.72168,\n",
       " 9328.197265999997,\n",
       " 9377.013672,\n",
       " 9670.739258,\n",
       " 9726.575195,\n",
       " 9729.038086,\n",
       " 9522.981445000001,\n",
       " 9081.761719,\n",
       " 9182.577148,\n",
       " 9209.287108999999,\n",
       " 8790.368164,\n",
       " 8906.934569999998,\n",
       " 8835.052734000003,\n",
       " 9181.017578000003,\n",
       " 9525.750976999998,\n",
       " 9439.124023000002,\n",
       " 9700.414063,\n",
       " 9461.058594,\n",
       " 10167.26856,\n",
       " 9529.803711,\n",
       " 9656.717773,\n",
       " 9800.636719,\n",
       " 9665.533202999999,\n",
       " 9653.679688,\n",
       " 9758.852538999998,\n",
       " 9771.489257999998,\n",
       " 9795.700194999998,\n",
       " 9870.094727000002,\n",
       " 9321.78125,\n",
       " 9480.843750000002,\n",
       " 9475.277344,\n",
       " 9386.788086,\n",
       " 9450.702148000002,\n",
       " 9538.024414000001,\n",
       " 9480.254883,\n",
       " 9411.84082,\n",
       " 9288.018555,\n",
       " 9332.340820000001,\n",
       " 9303.629883,\n",
       " 9648.717773000002,\n",
       " 9629.658203,\n",
       " 9313.610352000002,\n",
       " 9264.813477000002,\n",
       " 9162.917969,\n",
       " 9045.390625000002,\n",
       " 9143.582030999998,\n",
       " 9190.854492,\n",
       " 9137.993164000001,\n",
       " 9228.325195000001,\n",
       " 9123.410156000002,\n",
       " 9087.303711,\n",
       " 9132.488281,\n",
       " 9073.942383000001,\n",
       " 9375.474609000003,\n",
       " 9252.277344,\n",
       " 9428.333008,\n",
       " 9277.967773,\n",
       " 9278.807616999999,\n",
       " 9240.34668,\n",
       " 9276.499999999998,\n",
       " 9243.614258000001,\n",
       " 9243.213867000002,\n",
       " 9192.836914,\n",
       " 9132.227539,\n",
       " 9151.392578,\n",
       " 9159.040039000001,\n",
       " 9185.817382999998,\n",
       " 9164.231445000001,\n",
       " 9374.887695,\n",
       " 9525.363280999998,\n",
       " 9581.072265999997,\n",
       " 9536.892578,\n",
       " 9677.113280999998,\n",
       " 9905.166992000002,\n",
       " 10990.87305,\n",
       " 10912.82324,\n",
       " 11100.467770000001,\n",
       " 11111.213869999998,\n",
       " 11323.4668,\n",
       " 11759.59277,\n",
       " 11053.61426,\n",
       " 11246.348630000002,\n",
       " 11205.892580000002,\n",
       " 11747.02246,\n",
       " 11779.773439999999,\n",
       " 11601.472660000001,\n",
       " 11754.045900000001,\n",
       " 11675.739260000002,\n",
       " 11878.111329999998,\n",
       " 11410.525390000003,\n",
       " 11584.93457,\n",
       " 11784.137699999997,\n",
       " 11768.87109,\n",
       " 11865.69824,\n",
       " 11892.803710000002,\n",
       " 12254.40234,\n",
       " 11991.233399999997,\n",
       " 11758.283199999998,\n",
       " 11878.372070000001,\n",
       " 11592.489259999998,\n",
       " 11681.8252,\n",
       " 11664.847660000001,\n",
       " 11774.595700000002,\n",
       " 11366.134769999999,\n",
       " 11488.363279999998,\n",
       " 11323.397460000002,\n",
       " 11542.500000000002,\n",
       " 11506.86523,\n",
       " 11711.505860000001,\n",
       " 11680.820310000001,\n",
       " 11970.47852,\n",
       " 11414.034179999999,\n",
       " 10245.29688,\n",
       " 10511.81348,\n",
       " 10169.56738,\n",
       " 10280.351559999997,\n",
       " 10369.563479999999,\n",
       " 10131.5166,\n",
       " 10242.34766,\n",
       " 10363.13867,\n",
       " 10400.91504,\n",
       " 10442.170899999997,\n",
       " 10323.75586,\n",
       " 10680.83789,\n",
       " 10796.95117,\n",
       " 10974.90527,\n",
       " 10948.99023,\n",
       " 10944.585939999999,\n",
       " 11094.346679999999,\n",
       " 10938.271480000001,\n",
       " 10462.259769999999,\n",
       " 10538.459960000002,\n",
       " 10225.86426,\n",
       " 10745.548829999998,\n",
       " 10702.290039999998,\n",
       " 10754.437500000002,\n",
       " 10774.42676,\n",
       " 10721.327150000001,\n",
       " 10848.83008,\n",
       " 10787.61816,\n",
       " 10623.33008,\n",
       " 10585.164060000001,\n",
       " 10565.49316,\n",
       " 10684.428709999998,\n",
       " 10804.000979999999,\n",
       " 10621.664060000001,\n",
       " 10679.13672,\n",
       " 10923.627929999999,\n",
       " 11109.994630000001,\n",
       " 11296.361330000002,\n",
       " 11384.18164,\n",
       " 11406.84424,\n",
       " 11406.84424,\n",
       " 11429.506839999998,\n",
       " 11495.34961,\n",
       " 11322.12305,\n",
       " 11358.10156,\n",
       " 11483.359380000002,\n",
       " 11742.037110000001,\n",
       " 11916.33496,\n",
       " 12823.68945,\n",
       " 12965.8916,\n",
       " 12931.539059999997,\n",
       " 13108.0625,\n",
       " 13031.17383,\n",
       " 13075.248050000002,\n",
       " 13654.21875,\n",
       " 13271.285159999998,\n",
       " 13437.882809999997,\n",
       " 13546.522460000002,\n",
       " 13780.995120000001,\n",
       " 13737.10938,\n",
       " 13550.48926,\n",
       " 13950.30078,\n",
       " 14133.707029999998,\n",
       " 15579.848629999999,\n",
       " 15565.88086,\n",
       " 14833.75391,\n",
       " 15479.567379999999,\n",
       " 15332.31543,\n",
       " 15290.902339999999,\n",
       " 15701.33984,\n",
       " 16276.34375,\n",
       " 16317.80859,\n",
       " 16068.13867,\n",
       " 15955.58789,\n",
       " 16716.11133,\n",
       " 17645.40625,\n",
       " 17804.00586,\n",
       " 17817.08984,\n",
       " 18621.31445,\n",
       " 18642.23242,\n",
       " 18370.00195,\n",
       " 18364.12109,\n",
       " 19107.46484,\n",
       " 18732.12109,\n",
       " 17150.62305,\n",
       " 17108.40234,\n",
       " 17717.41406,\n",
       " 18177.48438,\n",
       " 19625.83594,\n",
       " 18802.99805,\n",
       " 19201.0918,\n",
       " 19445.39844,\n",
       " 18699.76563,\n",
       " 19154.23047,\n",
       " 19345.12109,\n",
       " 19191.63086,\n",
       " 18321.14453,\n",
       " 18553.91602,\n",
       " 18264.99219,\n",
       " 18058.9043,\n",
       " 18803.65625,\n",
       " 19142.38281,\n",
       " 19246.64453,\n",
       " 19417.07617,\n",
       " 21310.59766,\n",
       " 22805.16211,\n",
       " 23137.96094,\n",
       " 23869.83203,\n",
       " 23477.29492,\n",
       " 22803.08203,\n",
       " 23783.0293,\n",
       " 23241.3457,\n",
       " 23735.94922,\n",
       " 24664.79102,\n",
       " 26437.03711,\n",
       " 26272.29492,\n",
       " 27084.80859,\n",
       " 27362.4375,\n",
       " 28840.95313,\n",
       " 29001.7207,\n",
       " 29374.15234,\n",
       " 32127.26758,\n",
       " 32782.02344,\n",
       " 31971.91406,\n",
       " 33992.42969,\n",
       " 36824.36328,\n",
       " 39371.04297,\n",
       " 40797.60938,\n",
       " 40254.54688,\n",
       " 38356.44141,\n",
       " 35566.65625,\n",
       " 33922.96094,\n",
       " 37316.35938,\n",
       " 39187.32813,\n",
       " 36825.36719,\n",
       " 36178.14063,\n",
       " 35791.27734,\n",
       " 36630.07422,\n",
       " 36069.80469,\n",
       " 35547.75,\n",
       " 30825.69922,\n",
       " 33005.76172,\n",
       " 32067.64258,\n",
       " 32289.37891,\n",
       " 32366.39258,\n",
       " 32569.84961,\n",
       " 30432.54688,\n",
       " 31649.60547,\n",
       " 34316.38672,\n",
       " 34269.52344,\n",
       " 33114.35938,\n",
       " 33537.17578,\n",
       " 35510.28906,\n",
       " 37472.08984,\n",
       " 36926.06641,\n",
       " 38144.30859,\n",
       " 39266.01172,\n",
       " 38903.44141,\n",
       " 46196.46484,\n",
       " 46481.10547,\n",
       " 44918.18359,\n",
       " 47909.33203,\n",
       " 47504.85156,\n",
       " 47105.51563,\n",
       " 48717.28906,\n",
       " 47945.05859,\n",
       " 49199.87109,\n",
       " 52149.00781,\n",
       " 51679.79688,\n",
       " 55888.13281,\n",
       " 56099.51953,\n",
       " 57539.94531,\n",
       " 54207.32031,\n",
       " 48824.42578,\n",
       " 49705.33203,\n",
       " 47093.85156,\n",
       " 46339.76172,\n",
       " 46188.45313,\n",
       " 45137.76953,\n",
       " 49631.24219,\n",
       " 48378.98828,\n",
       " 50538.24219,\n",
       " 48561.16797,\n",
       " 48927.30469,\n",
       " 48912.38281,\n",
       " 51206.69141,\n",
       " 52246.52344,\n",
       " 54824.11719,\n",
       " 56008.55078,\n",
       " 57805.12109,\n",
       " 57332.08984,\n",
       " 61243.08594,\n",
       " 59302.31641,\n",
       " 55907.19922,\n",
       " 56804.90234,\n",
       " 58870.89453,\n",
       " 57858.92188,\n",
       " 58346.65234,\n",
       " 58313.64453,\n",
       " 57523.42188,\n",
       " 54529.14453,\n",
       " 54738.94531,\n",
       " 52774.26563,\n",
       " 51704.16016,\n",
       " 55137.3125,\n",
       " 55973.51172,\n",
       " 55950.74609,\n",
       " 57750.19922,\n",
       " 58917.69141,\n",
       " 58918.83203,\n",
       " 59095.80859,\n",
       " 59384.3125,\n",
       " 57603.89063,\n",
       " 58758.55469,\n",
       " 59057.87891,\n",
       " 58192.35938,\n",
       " 56048.9375,\n",
       " 58323.95313,\n",
       " 58245.00391,\n",
       " 59793.23438,\n",
       " 60204.96484,\n",
       " 59893.45313,\n",
       " 63503.45703,\n",
       " 63109.69531,\n",
       " 63314.01172,\n",
       " 61572.78906,\n",
       " 60683.82031,\n",
       " 56216.18359,\n",
       " 55724.26563,\n",
       " 56473.03125,\n",
       " 53906.08984,\n",
       " 51762.27344,\n",
       " 51093.65234,\n",
       " 50050.86719,\n",
       " 49004.25391,\n",
       " 54021.75391,\n",
       " 55033.11719,\n",
       " 54824.70313,\n",
       " 53555.10938,\n",
       " 57750.17578,\n",
       " 57828.05078,\n",
       " 56631.07813,\n",
       " 57200.29297,\n",
       " 53333.53906,\n",
       " 57424.00781,\n",
       " 56396.51563,\n",
       " 57356.40234,\n",
       " 58803.77734,\n",
       " 58232.31641,\n",
       " 55859.79688,\n",
       " 56704.57422,\n",
       " 49150.53516,\n",
       " 49716.19141,\n",
       " 49880.53516,\n",
       " 46760.1875,\n",
       " 46456.05859,\n",
       " 43537.51172,\n",
       " 42909.40234,\n",
       " 37002.44141,\n",
       " 40782.73828,\n",
       " 37304.69141,\n",
       " 37536.63281,\n",
       " 34770.58203,\n",
       " 38705.98047,\n",
       " 38402.22266,\n",
       " 39294.19922,\n",
       " 38436.96875,\n",
       " 35697.60547,\n",
       " 34616.06641,\n",
       " 35678.12891,\n",
       " 37332.85547,\n",
       " 36684.92578,\n",
       " 37575.17969,\n",
       " 39208.76563,\n",
       " 36894.40625,\n",
       " 35551.95703,\n",
       " 35862.37891,\n",
       " 33560.70703,\n",
       " 33472.63281,\n",
       " 37345.12109,\n",
       " 36702.59766,\n",
       " 37334.39844,\n",
       " 35552.51563,\n",
       " 39097.85938,\n",
       " 40218.47656,\n",
       " 40406.26953,\n",
       " 38347.0625,\n",
       " 38053.50391,\n",
       " 35787.24609,\n",
       " 35615.87109,\n",
       " 35698.29688,\n",
       " 31676.69336,\n",
       " 32505.66016,\n",
       " 33723.02734,\n",
       " 34662.4375,\n",
       " 31637.7793,\n",
       " 32186.27734,\n",
       " 34649.64453,\n",
       " 34434.33594,\n",
       " 35867.77734,\n",
       " 35040.83594,\n",
       " 33572.11719,\n",
       " 33897.04688,\n",
       " 34668.54688,\n",
       " 35287.78125,\n",
       " 33746.00391,\n",
       " 34235.19531,\n",
       " 33855.32813,\n",
       " 32877.37109,\n",
       " 33798.01172,\n",
       " 33520.51953,\n",
       " 34240.1875,\n",
       " 33155.84766,\n",
       " 32702.025389999995,\n",
       " 32822.34766,\n",
       " 31780.73047,\n",
       " 31421.53906,\n",
       " 31533.06836,\n",
       " 31796.81055,\n",
       " 30817.83203,\n",
       " 29807.34766,\n",
       " 32110.69336,\n",
       " 32313.10547,\n",
       " 33581.55078,\n",
       " 34292.44531,\n",
       " 35350.1875,\n",
       " 37337.53516,\n",
       " 39406.94141,\n",
       " 39995.90625,\n",
       " 40008.42188,\n",
       " 42235.54688,\n",
       " 41626.19531,\n",
       " 39974.89453,\n",
       " 39201.94531,\n",
       " 38152.98047,\n",
       " 39747.50391,\n",
       " 40869.55469,\n",
       " 42816.5,\n",
       " 44555.80078,\n",
       " 43798.11719,\n",
       " 46365.40234,\n",
       " 45585.03125,\n",
       " 45593.63672,\n",
       " 44428.28906,\n",
       " 47793.32031,\n",
       " 47096.94531,\n",
       " 47047.00391,\n",
       " 46004.48438,\n",
       " 44695.35938,\n",
       " 44801.1875,\n",
       " 46717.57813,\n",
       " 49339.17578,\n",
       " 48905.49219,\n",
       " 49321.65234,\n",
       " 49546.14844,\n",
       " 47706.11719,\n",
       " 48960.78906,\n",
       " 46942.21875,\n",
       " 49058.66797,\n",
       " 48902.40234,\n",
       " 48829.83203,\n",
       " 47054.98438,\n",
       " 47166.6875,\n",
       " 48847.02734,\n",
       " 49327.72266,\n",
       " 50025.375,\n",
       " 49944.625,\n",
       " 51753.41016,\n",
       " 52633.53516,\n",
       " 46811.12891,\n",
       " 46091.39063,\n",
       " 46391.42188,\n",
       " 44883.91016,\n",
       " 45201.45703,\n",
       " 46063.26953,\n",
       " 44963.07422,\n",
       " 47092.49219,\n",
       " 48176.34766,\n",
       " 47783.35938,\n",
       " 47267.51953,\n",
       " 48278.36328,\n",
       " 47260.21875,\n",
       " 42843.80078,\n",
       " 40693.67578,\n",
       " 43574.50781,\n",
       " 44895.09766,\n",
       " 42839.75,\n",
       " 42716.59375,\n",
       " 43208.53906,\n",
       " 42235.73047,\n",
       " 41034.54297,\n",
       " 41564.36328,\n",
       " 43790.89453,\n",
       " 48116.94141,\n",
       " 47711.48828,\n",
       " 48199.95313,\n",
       " 49112.90234,\n",
       " 51514.8125,\n",
       " 55361.44922,\n",
       " 53805.98438,\n",
       " 53967.84766,\n",
       " 54968.22266,\n",
       " 54771.57813,\n",
       " 57484.78906,\n",
       " 56041.05859,\n",
       " 57401.09766,\n",
       " 57321.52344,\n",
       " 61593.94922,\n",
       " 60892.17969,\n",
       " 61553.61719,\n",
       " 62026.07813,\n",
       " 64261.99219,\n",
       " 65992.83594,\n",
       " 62210.17188,\n",
       " 60692.26563,\n",
       " 61393.61719,\n",
       " 60930.83594,\n",
       " 63039.82422,\n",
       " 60363.79297,\n",
       " 58482.38672,\n",
       " 60622.13672,\n",
       " 62227.96484,\n",
       " 61888.83203]"
      ]
     },
     "execution_count": 38,
     "metadata": {},
     "output_type": "execute_result"
    }
   ],
   "source": [
    "a=test_predicted['predicted_mean'].tolist()\n",
    "a\n",
    "b=test_real[\"real_mean\"].tolist()\n",
    "b"
   ]
  },
  {
   "cell_type": "code",
   "execution_count": 86,
   "id": "1b14c4d1",
   "metadata": {},
   "outputs": [],
   "source": [
    "l_real=[]\n",
    "l_predict=[]\n",
    "for i in range(len(b)-1):\n",
    "    if b[i+1]-b[i]<0:\n",
    "        l_real.append(-1)\n",
    "    elif (b[i+1]-b[i])/b[i]<0.001 and (b[i+1]-b[i])/b[i]>=0:\n",
    "        l_real.append(0)\n",
    "    elif (b[i+1]-b[i])/b[i]>0.001:\n",
    "        l_real.append(1)\n",
    "        \n",
    "for i in range(len(b)-1):\n",
    "    if a[i+1]-a[i]<0:\n",
    "        l_predict.append(-1)\n",
    "    elif (a[i+1]-a[i])/a[i]<0.001 and (a[i+1]-a[i])/a[i]>=0:\n",
    "        l_predict.append(0)\n",
    "    elif (a[i+1]-a[i])/a[i]>0.001:\n",
    "        l_predict.append(1)"
   ]
  },
  {
   "cell_type": "code",
   "execution_count": 91,
   "id": "45decb54",
   "metadata": {},
   "outputs": [
    {
     "name": "stdout",
     "output_type": "stream",
     "text": [
      "538\n",
      "538\n"
     ]
    }
   ],
   "source": [
    "print(len(l_predict))\n",
    "print(len(l_real))"
   ]
  },
  {
   "cell_type": "code",
   "execution_count": 88,
   "id": "acaeaebe",
   "metadata": {},
   "outputs": [
    {
     "name": "stdout",
     "output_type": "stream",
     "text": [
      "44.42379182156134 1.6728624535315983 53.90334572490706\n"
     ]
    }
   ],
   "source": [
    "real_11=0\n",
    "real_0=0\n",
    "real_1=0\n",
    "for i in l_real:\n",
    "    if i==1:\n",
    "        real_1+=1\n",
    "    elif i==-1:\n",
    "        real_11+=1\n",
    "    elif i==0:\n",
    "        real_0+=1\n",
    "\n",
    "p_real_11=real_11/len(l_real)*100\n",
    "p_real_0=real_0/len(l_real)*100\n",
    "p_real_1=real_1/len(l_real)*100\n",
    "print(p_real_11, p_real_0, p_real_1)"
   ]
  },
  {
   "cell_type": "code",
   "execution_count": 89,
   "id": "b35e6e75",
   "metadata": {},
   "outputs": [
    {
     "name": "stdout",
     "output_type": "stream",
     "text": [
      "41.07806691449814 4.089219330855019 54.832713754646846\n"
     ]
    }
   ],
   "source": [
    "test_11=0\n",
    "test_0=0\n",
    "test_1=0\n",
    "for i in l_predict:\n",
    "    if i==1:\n",
    "        test_1+=1\n",
    "    elif i==-1:\n",
    "        test_11+=1\n",
    "    elif i==0:\n",
    "        test_0+=1\n",
    "\n",
    "p_test_11=test_11/len(l_predict)*100\n",
    "p_test_0=test_0/len(l_predict)*100\n",
    "p_test_1=test_1/len(l_predict)*100\n",
    "print(p_test_11, p_test_0, p_test_1)"
   ]
  },
  {
   "cell_type": "code",
   "execution_count": 93,
   "id": "ef95bdab",
   "metadata": {},
   "outputs": [
    {
     "name": "stdout",
     "output_type": "stream",
     "text": [
      "0.48698884758364314\n"
     ]
    }
   ],
   "source": [
    "tr=0\n",
    "for i in range(len(l_predict)):\n",
    "    if l_predict[i]==l_real[i]:\n",
    "        tr+=1\n",
    "acc=tr/len(l_predict)\n",
    "print(acc)"
   ]
  },
  {
   "cell_type": "code",
   "execution_count": 99,
   "id": "73b24144",
   "metadata": {},
   "outputs": [
    {
     "data": {
      "image/png": "[encoded data removed]",
      "text/plain": [
       "<Figure size 1152x576 with 1 Axes>"
      ]
     },
     "metadata": {
      "needs_background": "light"
     },
     "output_type": "display_data"
    },
    {
     "name": "stdout",
     "output_type": "stream",
     "text": [
      "-- RMSE --  2889.9991560164285\n"
     ]
    },
    {
     "data": {
      "text/plain": [
       "<Figure size 432x288 with 0 Axes>"
      ]
     },
     "metadata": {},
     "output_type": "display_data"
    }
   ],
   "source": [
    "# Load test dataset/ model\n",
    "G_model = tf.keras.models.load_model('LSTM_3to1.h5')\n",
    "\n",
    "def get_test_plot(X_test, y_test):\n",
    "    # Set output steps\n",
    "    output_dim = y_test.shape[1]\n",
    "\n",
    "    # Get predicted data\n",
    "    y_predicted = G_model(X_test)\n",
    "    rescaled_real_y = y_scaler.inverse_transform(y_test)\n",
    "    rescaled_predicted_y = y_scaler.inverse_transform(y_predicted)\n",
    "\n",
    "    ## Predicted price\n",
    "    predict_result = pd.DataFrame()\n",
    "    for i in range(rescaled_predicted_y.shape[0]):\n",
    "        y_predict = pd.DataFrame(rescaled_predicted_y[i], columns=[\"predicted_price\"],\n",
    "                                 index=test_predict_index[i:i + output_dim])\n",
    "        predict_result = pd.concat([predict_result, y_predict], axis=1, sort=False)\n",
    "\n",
    "    ## Real price\n",
    "    real_price = pd.DataFrame()\n",
    "    for i in range(rescaled_real_y.shape[0]):\n",
    "        y_train = pd.DataFrame(rescaled_real_y[i], columns=[\"real_price\"], index=test_predict_index[i:i + output_dim])\n",
    "        real_price = pd.concat([real_price, y_train], axis=1, sort=False)\n",
    "\n",
    "    predict_result['predicted_mean'] = predict_result.mean(axis=1)\n",
    "    real_price['real_mean'] = real_price.mean(axis=1)\n",
    "\n",
    "    \n",
    "    # Plot the predicted result\n",
    "    plt.figure(figsize=(16, 8))\n",
    "    plt.plot(real_price[\"real_mean\"])\n",
    "    plt.plot(predict_result[\"predicted_mean\"], color='r')\n",
    "    plt.xlabel(\"Date\")\n",
    "    plt.ylabel(\"Stock price\")\n",
    "    plt.legend((\"Real price\", \"Predicted price\"), loc=\"upper left\", fontsize=16)\n",
    "    plt.title(\"The result of test\", fontsize=20)\n",
    "    plt.show()\n",
    "    plt.savefig('test_plot.png')\n",
    "    # Calculate RMSE\n",
    "    predicted = predict_result[\"predicted_mean\"]\n",
    "    real = real_price[\"real_mean\"]\n",
    "    For_MSE = pd.concat([predicted, real], axis=1)\n",
    "    RMSE = np.sqrt(mean_squared_error(predicted, real))\n",
    "    print('-- RMSE -- ', RMSE)\n",
    "\n",
    "    return predict_result, RMSE,real_price\n",
    "\n",
    "\n",
    "test_predicted, test_RMSE, test_real = get_test_plot(X_test, y_test)\n",
    "test_predicted.to_csv(\"test_predicted.csv\")\n"
   ]
  },
  {
   "cell_type": "code",
   "execution_count": null,
   "id": "2bd58d39",
   "metadata": {},
   "outputs": [],
   "source": []
  }
 ],
 "metadata": {
  "kernelspec": {
   "display_name": "Python 3",
   "language": "python",
   "name": "python3"
  },
  "language_info": {
   "codemirror_mode": {
    "name": "ipython",
    "version": 3
   },
   "file_extension": ".py",
   "mimetype": "text/x-python",
   "name": "python",
   "nbconvert_exporter": "python",
   "pygments_lexer": "ipython3",
   "version": "3.8.8"
  }
 },
 "nbformat": 4,
 "nbformat_minor": 5
}
