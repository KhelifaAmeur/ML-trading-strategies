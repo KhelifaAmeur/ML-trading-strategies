{
 "cells": [
  {
   "cell_type": "markdown",
   "metadata": {},
   "source": [
    "# Project 242"
   ]
  },
  {
   "cell_type": "markdown",
   "metadata": {},
   "source": [
    "## Import"
   ]
  },
  {
   "cell_type": "code",
   "execution_count": 2,
   "metadata": {},
   "outputs": [],
   "source": [
    "from backtester.backtesting import Strategy\n",
    "from modules.data_preprocessing import *\n",
    "from modules.add_features import *\n",
    "from modules.metrics_prediction import *\n",
    "from modules.metrics_performance import *\n",
    "from modules.models import *\n",
    "from modules.utils import *"
   ]
  },
  {
   "cell_type": "code",
   "execution_count": 3,
   "metadata": {},
   "outputs": [],
   "source": [
    "import numpy as np\n",
    "import matplotlib.pyplot as plt\n",
    "import pandas as pd\n",
    "import random as rd"
   ]
  },
  {
   "cell_type": "code",
   "execution_count": 4,
   "metadata": {},
   "outputs": [],
   "source": [
    "from tensorflow.keras import Sequential\n",
    "from tensorflow.keras.layers import Dense, LSTM, Dropout"
   ]
  },
  {
   "cell_type": "markdown",
   "metadata": {},
   "source": [
    "## I. Data"
   ]
  },
  {
   "cell_type": "markdown",
   "metadata": {},
   "source": [
    "### 1. Load data"
   ]
  },
  {
   "cell_type": "code",
   "execution_count": 5,
   "metadata": {},
   "outputs": [],
   "source": [
    "data = pd.read_csv('data/Binance_BTCUSDT_1h.csv')"
   ]
  },
  {
   "cell_type": "markdown",
   "metadata": {},
   "source": [
    "### 2. Preprocess data\n",
    "\n",
    "- clean data\n",
    "- add features"
   ]
  },
  {
   "cell_type": "code",
   "execution_count": 6,
   "metadata": {},
   "outputs": [],
   "source": [
    "# Clean data\n",
    "data = clean_data(data)"
   ]
  },
  {
   "cell_type": "markdown",
   "metadata": {},
   "source": [
    "Here, we can decide to add features ..."
   ]
  },
  {
   "cell_type": "code",
   "execution_count": 7,
   "metadata": {},
   "outputs": [],
   "source": [
    "# Add features\n",
    "#data = add_technical_indicators(data, lookback_period=30)"
   ]
  },
  {
   "cell_type": "code",
   "execution_count": 8,
   "metadata": {},
   "outputs": [
    {
     "name": "stdout",
     "output_type": "stream",
     "text": [
      "Shape X_train: (29958, 5) | X_test: (9986, 5)\n"
     ]
    }
   ],
   "source": [
    "# Split data\n",
    "train_data, test_data = split_data(data, split=0.25)\n",
    "\n",
    "train_data = array_to_df(train_data, data.columns)\n",
    "test_data = array_to_df(test_data, data.columns)\n",
    "\n",
    "print(f'Shape X_train: {train_data.shape} | X_test: {test_data.shape}')"
   ]
  },
  {
   "cell_type": "code",
   "execution_count": 9,
   "metadata": {},
   "outputs": [],
   "source": [
    "# Scale data\n",
    "#train_data, test_data = scale_data(train_data, test_data)"
   ]
  },
  {
   "cell_type": "code",
   "execution_count": 10,
   "metadata": {},
   "outputs": [],
   "source": [
    "# Add Return\n",
    "train_data = add_return(train_data)\n",
    "test_data = add_return(test_data)"
   ]
  },
  {
   "cell_type": "code",
   "execution_count": 11,
   "metadata": {},
   "outputs": [
    {
     "data": {
      "text/html": [
       "<div>\n",
       "<style scoped>\n",
       "    .dataframe tbody tr th:only-of-type {\n",
       "        vertical-align: middle;\n",
       "    }\n",
       "\n",
       "    .dataframe tbody tr th {\n",
       "        vertical-align: top;\n",
       "    }\n",
       "\n",
       "    .dataframe thead th {\n",
       "        text-align: right;\n",
       "    }\n",
       "</style>\n",
       "<table border=\"1\" class=\"dataframe\">\n",
       "  <thead>\n",
       "    <tr style=\"text-align: right;\">\n",
       "      <th></th>\n",
       "      <th>open</th>\n",
       "      <th>high</th>\n",
       "      <th>low</th>\n",
       "      <th>close</th>\n",
       "      <th>Volume USDT</th>\n",
       "      <th>Return</th>\n",
       "    </tr>\n",
       "  </thead>\n",
       "  <tbody>\n",
       "    <tr>\n",
       "      <th>0</th>\n",
       "      <td>16199.91</td>\n",
       "      <td>16199.91</td>\n",
       "      <td>4261.32</td>\n",
       "      <td>4308.83</td>\n",
       "      <td>190952.85</td>\n",
       "      <td>0.001506</td>\n",
       "    </tr>\n",
       "    <tr>\n",
       "      <th>1</th>\n",
       "      <td>4308.83</td>\n",
       "      <td>4328.69</td>\n",
       "      <td>4291.37</td>\n",
       "      <td>4315.32</td>\n",
       "      <td>100304.82</td>\n",
       "      <td>0.002093</td>\n",
       "    </tr>\n",
       "  </tbody>\n",
       "</table>\n",
       "</div>"
      ],
      "text/plain": [
       "       open      high      low    close  Volume USDT    Return\n",
       "0  16199.91  16199.91  4261.32  4308.83    190952.85  0.001506\n",
       "1   4308.83   4328.69  4291.37  4315.32    100304.82  0.002093"
      ]
     },
     "metadata": {},
     "output_type": "display_data"
    },
    {
     "data": {
      "text/html": [
       "<div>\n",
       "<style scoped>\n",
       "    .dataframe tbody tr th:only-of-type {\n",
       "        vertical-align: middle;\n",
       "    }\n",
       "\n",
       "    .dataframe tbody tr th {\n",
       "        vertical-align: top;\n",
       "    }\n",
       "\n",
       "    .dataframe thead th {\n",
       "        text-align: right;\n",
       "    }\n",
       "</style>\n",
       "<table border=\"1\" class=\"dataframe\">\n",
       "  <thead>\n",
       "    <tr style=\"text-align: right;\">\n",
       "      <th></th>\n",
       "      <th>open</th>\n",
       "      <th>high</th>\n",
       "      <th>low</th>\n",
       "      <th>close</th>\n",
       "      <th>Volume USDT</th>\n",
       "      <th>Return</th>\n",
       "    </tr>\n",
       "  </thead>\n",
       "  <tbody>\n",
       "    <tr>\n",
       "      <th>0</th>\n",
       "      <td>13126.54</td>\n",
       "      <td>13130.0</td>\n",
       "      <td>13080.00</td>\n",
       "      <td>13103.66</td>\n",
       "      <td>1.465144e+07</td>\n",
       "      <td>0.001113</td>\n",
       "    </tr>\n",
       "    <tr>\n",
       "      <th>1</th>\n",
       "      <td>13103.66</td>\n",
       "      <td>13130.0</td>\n",
       "      <td>13072.81</td>\n",
       "      <td>13118.24</td>\n",
       "      <td>1.492221e+07</td>\n",
       "      <td>0.000000</td>\n",
       "    </tr>\n",
       "  </tbody>\n",
       "</table>\n",
       "</div>"
      ],
      "text/plain": [
       "       open     high       low     close   Volume USDT    Return\n",
       "0  13126.54  13130.0  13080.00  13103.66  1.465144e+07  0.001113\n",
       "1  13103.66  13130.0  13072.81  13118.24  1.492221e+07  0.000000"
      ]
     },
     "metadata": {},
     "output_type": "display_data"
    }
   ],
   "source": [
    "display(train_data.head(2))\n",
    "display(test_data.head(2))"
   ]
  },
  {
   "cell_type": "markdown",
   "metadata": {},
   "source": [
    "## II. Model"
   ]
  },
  {
   "cell_type": "markdown",
   "metadata": {},
   "source": [
    "### 1. Get data ready for models"
   ]
  },
  {
   "cell_type": "markdown",
   "metadata": {},
   "source": [
    "In this section, the reformating of the data may depend on the model ..."
   ]
  },
  {
   "cell_type": "code",
   "execution_count": 12,
   "metadata": {},
   "outputs": [],
   "source": [
    "train_data = train_data.dropna()"
   ]
  },
  {
   "cell_type": "code",
   "execution_count": 13,
   "metadata": {},
   "outputs": [],
   "source": [
    "test_data = test_data.dropna()"
   ]
  },
  {
   "cell_type": "code",
   "execution_count": 14,
   "metadata": {},
   "outputs": [],
   "source": [
    "X_train, _, y_train = prepare_data_for_training(train_data, lookback_period=10, signal=False)\n",
    "X_test, _, y_test = prepare_data_for_training(test_data, lookback_period=10, signal=False)"
   ]
  },
  {
   "cell_type": "code",
   "execution_count": 15,
   "metadata": {},
   "outputs": [
    {
     "data": {
      "text/plain": [
       "((29947, 10, 5), (29947,))"
      ]
     },
     "execution_count": 15,
     "metadata": {},
     "output_type": "execute_result"
    }
   ],
   "source": [
    "X_train.shape, y_train.shape"
   ]
  },
  {
   "cell_type": "code",
   "execution_count": 16,
   "metadata": {},
   "outputs": [
    {
     "data": {
      "text/plain": [
       "array([[[1.61999100e+04, 1.61999100e+04, 4.26132000e+03, 4.30883000e+03,\n",
       "         1.90952850e+05],\n",
       "        [4.30883000e+03, 4.32869000e+03, 4.29137000e+03, 4.31532000e+03,\n",
       "         1.00304820e+05],\n",
       "        [4.31532000e+03, 4.34545000e+03, 4.30937000e+03, 4.32435000e+03,\n",
       "         3.12823100e+04],\n",
       "        ...,\n",
       "        [4.46000000e+03, 4.48539000e+03, 4.42730000e+03, 4.42730000e+03,\n",
       "         1.20751570e+05],\n",
       "        [4.42730000e+03, 4.44956000e+03, 4.41100000e+03, 4.41100000e+03,\n",
       "         1.02126520e+05],\n",
       "        [4.41100000e+03, 4.45900000e+03, 4.41100000e+03, 4.45900000e+03,\n",
       "         1.36515550e+05]],\n",
       "\n",
       "       [[4.30883000e+03, 4.32869000e+03, 4.29137000e+03, 4.31532000e+03,\n",
       "         1.00304820e+05],\n",
       "        [4.31532000e+03, 4.34545000e+03, 4.30937000e+03, 4.32435000e+03,\n",
       "         3.12823100e+04],\n",
       "        [4.32435000e+03, 4.34999000e+03, 4.28741000e+03, 4.34999000e+03,\n",
       "         1.92410600e+04],\n",
       "        ...,\n",
       "        [4.42730000e+03, 4.44956000e+03, 4.41100000e+03, 4.41100000e+03,\n",
       "         1.02126520e+05],\n",
       "        [4.41100000e+03, 4.45900000e+03, 4.41100000e+03, 4.45900000e+03,\n",
       "         1.36515550e+05],\n",
       "        [4.45900000e+03, 4.48539000e+03, 4.43593000e+03, 4.47082000e+03,\n",
       "         2.30871450e+05]],\n",
       "\n",
       "       [[4.31532000e+03, 4.34545000e+03, 4.30937000e+03, 4.32435000e+03,\n",
       "         3.12823100e+04],\n",
       "        [4.32435000e+03, 4.34999000e+03, 4.28741000e+03, 4.34999000e+03,\n",
       "         1.92410600e+04],\n",
       "        [4.34999000e+03, 4.37785000e+03, 4.33332000e+03, 4.36069000e+03,\n",
       "         4.13970000e+03],\n",
       "        ...,\n",
       "        [4.41100000e+03, 4.45900000e+03, 4.41100000e+03, 4.45900000e+03,\n",
       "         1.36515550e+05],\n",
       "        [4.45900000e+03, 4.48539000e+03, 4.43593000e+03, 4.47082000e+03,\n",
       "         2.30871450e+05],\n",
       "        [4.47082000e+03, 4.47082000e+03, 4.33342000e+03, 4.35234000e+03,\n",
       "         2.99224790e+05]],\n",
       "\n",
       "       ...,\n",
       "\n",
       "       [[1.29770900e+04, 1.29990000e+04, 1.29582500e+04, 1.29909000e+04,\n",
       "         1.70194997e+07],\n",
       "        [1.29909000e+04, 1.29990000e+04, 1.29668000e+04, 1.29766600e+04,\n",
       "         1.46896243e+07],\n",
       "        [1.29909000e+04, 1.29990000e+04, 1.29668000e+04, 1.29766600e+04,\n",
       "         1.46896243e+07],\n",
       "        ...,\n",
       "        [1.30670100e+04, 1.31667300e+04, 1.30670100e+04, 1.31000000e+04,\n",
       "         5.77186283e+07],\n",
       "        [1.30670100e+04, 1.31667300e+04, 1.30670100e+04, 1.31000000e+04,\n",
       "         5.77186283e+07],\n",
       "        [1.31000000e+04, 1.31243000e+04, 1.30254200e+04, 1.30769400e+04,\n",
       "         2.94964775e+07]],\n",
       "\n",
       "       [[1.29909000e+04, 1.29990000e+04, 1.29668000e+04, 1.29766600e+04,\n",
       "         1.46896243e+07],\n",
       "        [1.29909000e+04, 1.29990000e+04, 1.29668000e+04, 1.29766600e+04,\n",
       "         1.46896243e+07],\n",
       "        [1.29766600e+04, 1.29970000e+04, 1.29628300e+04, 1.29893000e+04,\n",
       "         1.54856399e+07],\n",
       "        ...,\n",
       "        [1.30670100e+04, 1.31667300e+04, 1.30670100e+04, 1.31000000e+04,\n",
       "         5.77186283e+07],\n",
       "        [1.31000000e+04, 1.31243000e+04, 1.30254200e+04, 1.30769400e+04,\n",
       "         2.94964775e+07],\n",
       "        [1.31000000e+04, 1.31243000e+04, 1.30254200e+04, 1.30769400e+04,\n",
       "         2.94964775e+07]],\n",
       "\n",
       "       [[1.29909000e+04, 1.29990000e+04, 1.29668000e+04, 1.29766600e+04,\n",
       "         1.46896243e+07],\n",
       "        [1.29766600e+04, 1.29970000e+04, 1.29628300e+04, 1.29893000e+04,\n",
       "         1.54856399e+07],\n",
       "        [1.29766700e+04, 1.29970000e+04, 1.29628300e+04, 1.29893000e+04,\n",
       "         1.54856400e+07],\n",
       "        ...,\n",
       "        [1.31000000e+04, 1.31243000e+04, 1.30254200e+04, 1.30769400e+04,\n",
       "         2.94964775e+07],\n",
       "        [1.31000000e+04, 1.31243000e+04, 1.30254200e+04, 1.30769400e+04,\n",
       "         2.94964775e+07],\n",
       "        [1.30769400e+04, 1.31445100e+04, 1.30762000e+04, 1.31265300e+04,\n",
       "         2.32938202e+07]]])"
      ]
     },
     "execution_count": 16,
     "metadata": {},
     "output_type": "execute_result"
    }
   ],
   "source": [
    "X_train"
   ]
  },
  {
   "cell_type": "code",
   "execution_count": 17,
   "metadata": {},
   "outputs": [
    {
     "data": {
      "text/plain": [
       "array([-0.02650073,  0.00042276,  0.        , ...,  0.00379217,\n",
       "        0.        , -0.00174227])"
      ]
     },
     "execution_count": 17,
     "metadata": {},
     "output_type": "execute_result"
    }
   ],
   "source": [
    "y_train"
   ]
  },
  {
   "cell_type": "code",
   "execution_count": 42,
   "metadata": {},
   "outputs": [
    {
     "data": {
      "text/plain": [
       "[<matplotlib.lines.Line2D at 0x223a8242490>]"
      ]
     },
     "execution_count": 42,
     "metadata": {},
     "output_type": "execute_result"
    },
    {
     "data": {
      "image/png": "[encoded data removed]",
      "text/plain": [
       "<Figure size 432x288 with 1 Axes>"
      ]
     },
     "metadata": {
      "needs_background": "light"
     },
     "output_type": "display_data"
    }
   ],
   "source": [
    "#plt.plot(y_test[:100])\n",
    "plt.plot(y_pred)"
   ]
  },
  {
   "cell_type": "code",
   "execution_count": null,
   "metadata": {},
   "outputs": [],
   "source": []
  },
  {
   "cell_type": "markdown",
   "metadata": {},
   "source": [
    "### 2. Build model"
   ]
  },
  {
   "cell_type": "markdown",
   "metadata": {},
   "source": [
    "The ultimate goal of this section is to build a model that builds a **prediction**.\n",
    "\n",
    "This section may require a phase of **feature selection**.\n",
    "\n",
    "..."
   ]
  },
  {
   "cell_type": "code",
   "execution_count": 19,
   "metadata": {},
   "outputs": [
    {
     "name": "stdout",
     "output_type": "stream",
     "text": [
      "Model: \"sequential\"\n",
      "_________________________________________________________________\n",
      "Layer (type)                 Output Shape              Param #   \n",
      "=================================================================\n",
      "lstm (LSTM)                  (None, 50)                11200     \n",
      "_________________________________________________________________\n",
      "dropout (Dropout)            (None, 50)                0         \n",
      "_________________________________________________________________\n",
      "dense (Dense)                (None, 1)                 51        \n",
      "=================================================================\n",
      "Total params: 11,251\n",
      "Trainable params: 11,251\n",
      "Non-trainable params: 0\n",
      "_________________________________________________________________\n"
     ]
    }
   ],
   "source": [
    "#Initialize the LSTM\n",
    "model = Sequential() \n",
    "model.add(LSTM(units = 50, activation = 'relu', input_shape = (X_train.shape[1], X_train.shape[2])))\n",
    "model.add(Dropout(0.2)) \n",
    "\n",
    "model.add(Dense(units = 1))\n",
    "\n",
    "model.compile(optimizer = 'adam', loss = 'mean_squared_error')\n",
    "model.summary()"
   ]
  },
  {
   "cell_type": "code",
   "execution_count": 20,
   "metadata": {},
   "outputs": [
    {
     "name": "stdout",
     "output_type": "stream",
     "text": [
      "Epoch 1/20\n",
      "599/599 [==============================] - 3s 3ms/step - loss: 685975404544.0000\n",
      "Epoch 2/20\n",
      "599/599 [==============================] - 2s 3ms/step - loss: 16241085440.0000\n",
      "Epoch 3/20\n",
      "599/599 [==============================] - 2s 4ms/step - loss: 7380881408.0000\n",
      "Epoch 4/20\n",
      "599/599 [==============================] - 2s 4ms/step - loss: 3798145792.0000\n",
      "Epoch 5/20\n",
      "599/599 [==============================] - 2s 4ms/step - loss: 2296536064.0000\n",
      "Epoch 6/20\n",
      "599/599 [==============================] - 2s 4ms/step - loss: 1403761408.0000\n",
      "Epoch 7/20\n",
      "599/599 [==============================] - 2s 3ms/step - loss: 629180224.0000\n",
      "Epoch 8/20\n",
      "599/599 [==============================] - 2s 3ms/step - loss: 318951712.0000\n",
      "Epoch 9/20\n",
      "599/599 [==============================] - 2s 3ms/step - loss: 278826720.0000\n",
      "Epoch 10/20\n",
      "599/599 [==============================] - 2s 3ms/step - loss: 40898412.0000\n",
      "Epoch 11/20\n",
      "599/599 [==============================] - 2s 3ms/step - loss: 16340769.0000\n",
      "Epoch 12/20\n",
      "599/599 [==============================] - 2s 4ms/step - loss: 6746906.5000\n",
      "Epoch 13/20\n",
      "599/599 [==============================] - 2s 4ms/step - loss: 3842030.7500\n",
      "Epoch 14/20\n",
      "599/599 [==============================] - 2s 3ms/step - loss: 3655808.7500\n",
      "Epoch 15/20\n",
      "599/599 [==============================] - 2s 3ms/step - loss: 3197705.5000\n",
      "Epoch 16/20\n",
      "599/599 [==============================] - 2s 3ms/step - loss: 1811546.8750\n",
      "Epoch 17/20\n",
      "599/599 [==============================] - 2s 3ms/step - loss: 1689313.5000\n",
      "Epoch 18/20\n",
      "599/599 [==============================] - 2s 3ms/step - loss: 1793428.6250\n",
      "Epoch 19/20\n",
      "599/599 [==============================] - 2s 3ms/step - loss: 1488160.3750\n",
      "Epoch 20/20\n",
      "599/599 [==============================] - 2s 4ms/step - loss: 1258922.6250\n"
     ]
    }
   ],
   "source": [
    "history = model.fit(X_train, y_train, epochs = 20, batch_size = 50)"
   ]
  },
  {
   "cell_type": "code",
   "execution_count": 21,
   "metadata": {},
   "outputs": [
    {
     "data": {
      "image/png": "[encoded data removed]",
      "text/plain": [
       "<Figure size 432x288 with 1 Axes>"
      ]
     },
     "metadata": {
      "needs_background": "light"
     },
     "output_type": "display_data"
    }
   ],
   "source": [
    "loss = history.history['loss']\n",
    "#val_loss = history.history['val_loss']\n",
    "epochs = range(len(loss))\n",
    "plt.figure()\n",
    "plt.plot(epochs, loss, 'b', label='Training loss')\n",
    "#plt.plot(epochs, val_loss, 'r', label='Validation loss')\n",
    "plt.title(\"Training Loss\")\n",
    "plt.legend()\n",
    "plt.show()"
   ]
  },
  {
   "cell_type": "code",
   "execution_count": 22,
   "metadata": {},
   "outputs": [
    {
     "data": {
      "text/plain": [
       "((9975, 1), (9975,))"
      ]
     },
     "execution_count": 22,
     "metadata": {},
     "output_type": "execute_result"
    }
   ],
   "source": [
    "y_pred = model.predict(X_test) \n",
    "y_pred.shape, y_test.shape"
   ]
  },
  {
   "cell_type": "code",
   "execution_count": 43,
   "metadata": {},
   "outputs": [
    {
     "data": {
      "text/plain": [
       "[<matplotlib.lines.Line2D at 0x223aa412d60>]"
      ]
     },
     "execution_count": 43,
     "metadata": {},
     "output_type": "execute_result"
    },
    {
     "data": {
      "image/png": "[encoded data removed]",
      "text/plain": [
       "<Figure size 432x288 with 1 Axes>"
      ]
     },
     "metadata": {
      "needs_background": "light"
     },
     "output_type": "display_data"
    }
   ],
   "source": [
    "plt.plot(y_pred)"
   ]
  },
  {
   "cell_type": "code",
   "execution_count": 44,
   "metadata": {},
   "outputs": [
    {
     "data": {
      "text/plain": [
       "0       0\n",
       "1       0\n",
       "2       0\n",
       "3       0\n",
       "4       0\n",
       "       ..\n",
       "9970    1\n",
       "9971    1\n",
       "9972    1\n",
       "9973    1\n",
       "9974    1\n",
       "Name: Signal, Length: 9975, dtype: int32"
      ]
     },
     "execution_count": 44,
     "metadata": {},
     "output_type": "execute_result"
    }
   ],
   "source": [
    "y_pred"
   ]
  },
  {
   "cell_type": "code",
   "execution_count": 25,
   "metadata": {},
   "outputs": [],
   "source": [
    "# Add Signal\n",
    "q_90 = np.quantile(abs(y_pred), 0.9)\n",
    "\n",
    "df_pred = pd.DataFrame(y_pred, columns=['Return'])\n",
    "\n",
    "df_pred = add_signal(df_pred, q_90)"
   ]
  },
  {
   "cell_type": "code",
   "execution_count": 26,
   "metadata": {},
   "outputs": [
    {
     "name": "stdout",
     "output_type": "stream",
     "text": [
      "Test set: 1 (10.0%) | 0 (90.0%) | -1 (0.0%)\n"
     ]
    }
   ],
   "source": [
    "test_pos, test_neg = round((df_pred.Signal>0).sum()/df_pred.Signal.shape[0],2)*100, round((df_pred.Signal<0).sum()/df_pred.Signal.shape[0],2)*100\n",
    "\n",
    "print(f'Test set: 1 ({test_pos}%) | 0 ({100-(test_pos+test_neg)}%) | -1 ({test_neg}%)') "
   ]
  },
  {
   "cell_type": "code",
   "execution_count": 27,
   "metadata": {},
   "outputs": [],
   "source": [
    "y_pred = df_pred.Signal"
   ]
  },
  {
   "cell_type": "markdown",
   "metadata": {},
   "source": [
    "### 3. Test prediction model\n",
    "\n",
    "The ultimate goal of this section is to test our model in terms of **prediction metrics**."
   ]
  },
  {
   "cell_type": "code",
   "execution_count": 28,
   "metadata": {},
   "outputs": [],
   "source": [
    "y_test = pd.Series(y_test)"
   ]
  },
  {
   "cell_type": "markdown",
   "metadata": {},
   "source": [
    "### III. Strategy\n",
    "\n",
    "The ultimate goal of this section is to test our model in terms of **performance metrics** (while trading in simulating environment)."
   ]
  },
  {
   "cell_type": "markdown",
   "metadata": {},
   "source": [
    "### 1. Get data ready for backtesting"
   ]
  },
  {
   "cell_type": "code",
   "execution_count": 29,
   "metadata": {},
   "outputs": [],
   "source": [
    "signal = y_pred \n",
    "close = test_data.close.iloc[10:].reset_index(drop=True)"
   ]
  },
  {
   "cell_type": "code",
   "execution_count": 30,
   "metadata": {},
   "outputs": [],
   "source": [
    "# Crop for better visualization\n",
    "nb_days = 1\n",
    "\n",
    "signal_crop = crop_window(signal, nb_days)\n",
    "close_crop = crop_window(close, nb_days)"
   ]
  },
  {
   "cell_type": "markdown",
   "metadata": {},
   "source": [
    "### 2. Backtesting"
   ]
  },
  {
   "cell_type": "code",
   "execution_count": 31,
   "metadata": {},
   "outputs": [],
   "source": [
    "strat = Strategy(cash=500, fees=0.001)"
   ]
  },
  {
   "cell_type": "code",
   "execution_count": 32,
   "metadata": {},
   "outputs": [],
   "source": [
    "strat.run(signal_crop, close_crop, verbose=False)"
   ]
  },
  {
   "cell_type": "code",
   "execution_count": 33,
   "metadata": {},
   "outputs": [],
   "source": [
    "wallet = np.array(strat.wallet)\n",
    "profit = wallet[:-1] - wallet[1:]"
   ]
  },
  {
   "cell_type": "code",
   "execution_count": 34,
   "metadata": {},
   "outputs": [
    {
     "data": {
      "image/png": "[encoded data removed]",
      "text/plain": [
       "<Figure size 720x720 with 3 Axes>"
      ]
     },
     "metadata": {
      "needs_background": "light"
     },
     "output_type": "display_data"
    }
   ],
   "source": [
    "strat.visualize()"
   ]
  },
  {
   "cell_type": "markdown",
   "metadata": {},
   "source": [
    "### 3. Test performance startegy"
   ]
  },
  {
   "cell_type": "code",
   "execution_count": 35,
   "metadata": {},
   "outputs": [
    {
     "name": "stderr",
     "output_type": "stream",
     "text": [
      "C:\\Users\\thiba\\OneDrive\\Bureau\\Berkeley\\242_Data_Applications\\Project\\INDENG-242-project\\modules\\metrics_performance.py:37: RuntimeWarning: divide by zero encountered in long_scalars\n",
      "  return win/loss\n"
     ]
    }
   ],
   "source": [
    "SharpeRatio = SharpeRatio(profit)\n",
    "MaxDrawback = MaxDrawback(profit)\n",
    "WinLossRatio = WinLossRatio(profit)\n",
    "CumulativeProfit = CumulativeProfit(profit)\n",
    "MeanProfit = MeanProfit(profit)"
   ]
  },
  {
   "cell_type": "code",
   "execution_count": 36,
   "metadata": {},
   "outputs": [
    {
     "data": {
      "text/html": [
       "<div>\n",
       "<style scoped>\n",
       "    .dataframe tbody tr th:only-of-type {\n",
       "        vertical-align: middle;\n",
       "    }\n",
       "\n",
       "    .dataframe tbody tr th {\n",
       "        vertical-align: top;\n",
       "    }\n",
       "\n",
       "    .dataframe thead th {\n",
       "        text-align: right;\n",
       "    }\n",
       "</style>\n",
       "<table border=\"1\" class=\"dataframe\">\n",
       "  <thead>\n",
       "    <tr style=\"text-align: right;\">\n",
       "      <th></th>\n",
       "      <th>SharpeRatio</th>\n",
       "      <th>MaxDrawback</th>\n",
       "      <th>WinLossRatio</th>\n",
       "      <th>CumulativeProfit</th>\n",
       "      <th>MeanProfit</th>\n",
       "    </tr>\n",
       "  </thead>\n",
       "  <tbody>\n",
       "    <tr>\n",
       "      <th>Baseline</th>\n",
       "      <td>0.278758</td>\n",
       "      <td>0.0</td>\n",
       "      <td>inf</td>\n",
       "      <td>1.651951</td>\n",
       "      <td>0.068831</td>\n",
       "    </tr>\n",
       "  </tbody>\n",
       "</table>\n",
       "</div>"
      ],
      "text/plain": [
       "          SharpeRatio  MaxDrawback  WinLossRatio  CumulativeProfit  MeanProfit\n",
       "Baseline     0.278758          0.0           inf          1.651951    0.068831"
      ]
     },
     "execution_count": 36,
     "metadata": {},
     "output_type": "execute_result"
    }
   ],
   "source": [
    "models = ['Baseline']\n",
    "metrics = ['SharpeRatio', 'MaxDrawback', 'WinLossRatio', 'CumulativeProfit', 'MeanProfit']\n",
    "metric_data = [[SharpeRatio, MaxDrawback, WinLossRatio, CumulativeProfit, MeanProfit]]\n",
    "\n",
    "pd.DataFrame(metric_data, index=models, columns=metrics)"
   ]
  },
  {
   "cell_type": "code",
   "execution_count": null,
   "metadata": {},
   "outputs": [],
   "source": []
  },
  {
   "cell_type": "code",
   "execution_count": null,
   "metadata": {},
   "outputs": [],
   "source": []
  }
 ],
 "metadata": {
  "kernelspec": {
   "display_name": "Python 3",
   "language": "python",
   "name": "python3"
  },
  "language_info": {
   "codemirror_mode": {
    "name": "ipython",
    "version": 3
   },
   "file_extension": ".py",
   "mimetype": "text/x-python",
   "name": "python",
   "nbconvert_exporter": "python",
   "pygments_lexer": "ipython3",
   "version": "3.8.8"
  }
 },
 "nbformat": 4,
 "nbformat_minor": 2
}
