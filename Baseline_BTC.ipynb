{
 "cells": [
  {
   "cell_type": "code",
   "execution_count": 1,
   "id": "2041d250",
   "metadata": {},
   "outputs": [],
   "source": [
    "import numpy as np\n",
    "import matplotlib.pyplot as plt\n",
    "import pandas as pd\n",
    "import ta as ta\n",
    "import statsmodels.api as sm\n",
    "import statsmodels.formula.api as smf\n",
    "from sklearn.preprocessing import MinMaxScaler\n",
    "\n",
    "## Metrics\n",
    "from sklearn.metrics import mean_squared_error\n",
    "from sklearn.metrics import mean_absolute_error"
   ]
  },
  {
   "cell_type": "code",
   "execution_count": 2,
   "id": "90a648e4",
   "metadata": {},
   "outputs": [],
   "source": [
    "## Import\n",
    "data = pd.read_csv('Binance_BTCUSDT_1h.csv')\n",
    "\n",
    "## special function for date\n",
    "def treat_date(date):\n",
    "    if 'AM' in date or 'PM' in date:\n",
    "        return date[:-3] +':00'\n",
    "    else:\n",
    "        return date[:-3]\n",
    "\n",
    "## Apply function for date\n",
    "data['date'] = data['date'].apply(treat_date)\n",
    "data = data[::-1].reset_index().drop(['unix', 'symbol', 'index', 'tradecount', 'date', 'Volume BTC'], axis=1)\n",
    "\n",
    "def import_and_treat_data(train_test_split, data, scale):\n",
    "    ## Length\n",
    "    N = data.shape[0]\n",
    "    \n",
    "    ## Scaling\n",
    "    if scale:\n",
    "        scaler = MinMaxScaler()\n",
    "        data = scaler.fit_transform(data)\n",
    "    \n",
    "    ## Train/Test split\n",
    "    training_data, test_data = data[:int((1-train_test_split)*N)].copy(), data[int((1-train_test_split)*N):].copy()\n",
    "    \n",
    "    return training_data, test_data"
   ]
  },
  {
   "cell_type": "code",
   "execution_count": 3,
   "id": "2c7b8cb6",
   "metadata": {},
   "outputs": [],
   "source": [
    "training_data, test_data = import_and_treat_data(0.2, data, False)"
   ]
  },
  {
   "cell_type": "code",
   "execution_count": 4,
   "id": "c818b946",
   "metadata": {},
   "outputs": [
    {
     "data": {
      "text/plain": [
       "((31955, 5), (7989, 5))"
      ]
     },
     "execution_count": 4,
     "metadata": {},
     "output_type": "execute_result"
    }
   ],
   "source": [
    "training_data.shape, test_data.shape"
   ]
  },
  {
   "cell_type": "code",
   "execution_count": 5,
   "id": "710ccc1a",
   "metadata": {},
   "outputs": [],
   "source": [
    "X_train, y_train = training_data.iloc[:-1, 3], training_data.iloc[1:, 3]"
   ]
  },
  {
   "cell_type": "code",
   "execution_count": 6,
   "id": "87cc22b0",
   "metadata": {},
   "outputs": [],
   "source": [
    "X_test, y_test = test_data.iloc[:-1, 3], test_data.iloc[1:, 3]"
   ]
  },
  {
   "cell_type": "code",
   "execution_count": 7,
   "id": "ba43c94d",
   "metadata": {},
   "outputs": [
    {
     "data": {
      "text/plain": [
       "((31954,), (31954,))"
      ]
     },
     "execution_count": 7,
     "metadata": {},
     "output_type": "execute_result"
    }
   ],
   "source": [
    "X_train.shape, y_train.shape"
   ]
  },
  {
   "cell_type": "code",
   "execution_count": 8,
   "id": "398ab7a6",
   "metadata": {},
   "outputs": [
    {
     "data": {
      "text/plain": [
       "((7988,), (7988,))"
      ]
     },
     "execution_count": 8,
     "metadata": {},
     "output_type": "execute_result"
    }
   ],
   "source": [
    "X_test.shape, y_test.shape"
   ]
  },
  {
   "cell_type": "code",
   "execution_count": 9,
   "id": "857d2e79",
   "metadata": {},
   "outputs": [],
   "source": [
    "data = {\n",
    "    'Y_lag_1': X_train\n",
    "}\n",
    "\n",
    "df_train = pd.DataFrame( data)"
   ]
  },
  {
   "cell_type": "code",
   "execution_count": 10,
   "id": "aec70f22",
   "metadata": {},
   "outputs": [],
   "source": [
    "data = {\n",
    "    'Y_lag_1': X_test\n",
    "}\n",
    "\n",
    "df_test = pd.DataFrame( data)"
   ]
  },
  {
   "cell_type": "code",
   "execution_count": 11,
   "id": "c1918619",
   "metadata": {},
   "outputs": [],
   "source": [
    "df_train['EMA_10'] = ta.trend.ema_indicator(X_train, window=10)"
   ]
  },
  {
   "cell_type": "code",
   "execution_count": 12,
   "id": "fb4db760",
   "metadata": {},
   "outputs": [],
   "source": [
    "df_train['EMA_20'] = ta.trend.ema_indicator(X_train, window=20)"
   ]
  },
  {
   "cell_type": "code",
   "execution_count": 13,
   "id": "d36fc5c2",
   "metadata": {},
   "outputs": [],
   "source": [
    "df_test['EMA_10'] = ta.trend.ema_indicator(X_test, window=10)\n",
    "df_test['EMA_20'] = ta.trend.ema_indicator(X_test, window=20)"
   ]
  },
  {
   "cell_type": "code",
   "execution_count": 14,
   "id": "155c454c",
   "metadata": {},
   "outputs": [],
   "source": [
    "df_train = df_train.dropna()"
   ]
  },
  {
   "cell_type": "code",
   "execution_count": 15,
   "id": "1620223b",
   "metadata": {},
   "outputs": [],
   "source": [
    "df_test = df_test.dropna()"
   ]
  },
  {
   "cell_type": "code",
   "execution_count": 16,
   "id": "9402a10c",
   "metadata": {},
   "outputs": [],
   "source": [
    "def signal(row):\n",
    "    if row[0] >= row[1]:\n",
    "        return 1\n",
    "    else:\n",
    "        return -1"
   ]
  },
  {
   "cell_type": "code",
   "execution_count": 17,
   "id": "c438bd0c",
   "metadata": {},
   "outputs": [],
   "source": [
    "df_train['trend'] = df_train[['EMA_10', 'EMA_20']].apply(signal, axis=1)"
   ]
  },
  {
   "cell_type": "code",
   "execution_count": 18,
   "id": "d0a0c9de",
   "metadata": {},
   "outputs": [],
   "source": [
    "df_test['trend'] = df_test[['EMA_10', 'EMA_20']].apply(signal, axis=1)"
   ]
  },
  {
   "cell_type": "code",
   "execution_count": 19,
   "id": "9a0c75f2",
   "metadata": {},
   "outputs": [],
   "source": [
    "df_train['Y_t'] = y_train[19:].values"
   ]
  },
  {
   "cell_type": "code",
   "execution_count": 20,
   "id": "991fdcf1",
   "metadata": {},
   "outputs": [],
   "source": [
    "df_test['Y_t'] = y_test[19:].values"
   ]
  },
  {
   "cell_type": "markdown",
   "id": "239fa79c",
   "metadata": {},
   "source": [
    "## Baseline\n",
    "\n",
    "$$Y_t = \\alpha Y_{t-1} + \\beta X_{trend}$$"
   ]
  },
  {
   "cell_type": "code",
   "execution_count": 21,
   "id": "41ebefcd",
   "metadata": {},
   "outputs": [
    {
     "name": "stdout",
     "output_type": "stream",
     "text": [
      "                                 OLS Regression Results                                \n",
      "=======================================================================================\n",
      "Dep. Variable:                    Y_t   R-squared (uncentered):                   1.000\n",
      "Model:                            OLS   Adj. R-squared (uncentered):              1.000\n",
      "Method:                 Least Squares   F-statistic:                          1.771e+08\n",
      "Date:                Tue, 30 Nov 2021   Prob (F-statistic):                        0.00\n",
      "Time:                        19:18:57   Log-Likelihood:                     -1.8853e+05\n",
      "No. Observations:               31935   AIC:                                  3.771e+05\n",
      "Df Residuals:                   31933   BIC:                                  3.771e+05\n",
      "Df Model:                           2                                                  \n",
      "Covariance Type:            nonrobust                                                  \n",
      "==============================================================================\n",
      "                 coef    std err          t      P>|t|      [0.025      0.975]\n",
      "------------------------------------------------------------------------------\n",
      "Y_lag_1        1.0000   5.35e-05   1.87e+04      0.000       1.000       1.000\n",
      "trend          0.7534      0.499      1.510      0.131      -0.225       1.731\n",
      "==============================================================================\n",
      "Omnibus:                    13759.936   Durbin-Watson:                   2.122\n",
      "Prob(Omnibus):                  0.000   Jarque-Bera (JB):          1785245.073\n",
      "Skew:                          -1.059   Prob(JB):                         0.00\n",
      "Kurtosis:                      39.567   Cond. No.                     9.39e+03\n",
      "==============================================================================\n",
      "\n",
      "Notes:\n",
      "[1] R² is computed without centering (uncentered) since the model does not contain a constant.\n",
      "[2] Standard Errors assume that the covariance matrix of the errors is correctly specified.\n",
      "[3] The condition number is large, 9.39e+03. This might indicate that there are\n",
      "strong multicollinearity or other numerical problems.\n"
     ]
    }
   ],
   "source": [
    "cols = ['Y_t', 'Y_lag_1', 'trend']\n",
    "\n",
    "model = smf.ols(formula = 'Y_t ~ Y_lag_1 + trend - 1', data = df_train).fit()\n",
    "\n",
    "print(model.summary())"
   ]
  },
  {
   "cell_type": "code",
   "execution_count": 22,
   "id": "60a3dead",
   "metadata": {},
   "outputs": [],
   "source": [
    "# Compute Out-of-sample R-squared using the test set\n",
    "\n",
    "def OSR2(model, df_train, df_test, dependent_var):   \n",
    "    \n",
    "    y_test = df_test[dependent_var]\n",
    "    y_pred = model.predict(df_test)\n",
    "    SSE = np.sum((y_test - y_pred)**2)\n",
    "    SST = np.sum((y_test - np.mean(df_train[dependent_var]))**2)    \n",
    "    \n",
    "    return 1 - SSE/SST"
   ]
  },
  {
   "cell_type": "code",
   "execution_count": 23,
   "id": "bf268a06",
   "metadata": {},
   "outputs": [
    {
     "data": {
      "text/plain": [
       "0.9998893686263647"
      ]
     },
     "execution_count": 23,
     "metadata": {},
     "output_type": "execute_result"
    }
   ],
   "source": [
    "OSR2(model, df_train, df_test, 'Y_t')"
   ]
  },
  {
   "cell_type": "code",
   "execution_count": 24,
   "id": "6277e7ab",
   "metadata": {},
   "outputs": [
    {
     "name": "stdout",
     "output_type": "stream",
     "text": [
      "MSE train : 7857.476748562032\n",
      "MAE train : 42.88903366776468\n"
     ]
    }
   ],
   "source": [
    "print('MSE train :', mean_squared_error(model.predict(df_train), df_train.Y_t))\n",
    "print('MAE train :', mean_absolute_error(model.predict(df_train), df_train.Y_t))"
   ]
  },
  {
   "cell_type": "code",
   "execution_count": 25,
   "id": "3fcb33c8",
   "metadata": {},
   "outputs": [
    {
     "name": "stdout",
     "output_type": "stream",
     "text": [
      "MSE test : 167767.91477690343\n",
      "MAE test : 280.0867607030413\n"
     ]
    }
   ],
   "source": [
    "print('MSE test :', mean_squared_error(model.predict(df_test), df_test.Y_t))\n",
    "print('MAE test :', mean_absolute_error(model.predict(df_test), df_test.Y_t))"
   ]
  },
  {
   "cell_type": "code",
   "execution_count": 26,
   "id": "416d8ca4",
   "metadata": {},
   "outputs": [
    {
     "data": {
      "image/png": "[encoded data removed]",
      "text/plain": [
       "<Figure size 432x288 with 1 Axes>"
      ]
     },
     "metadata": {
      "needs_background": "light"
     },
     "output_type": "display_data"
    }
   ],
   "source": [
    "from matplotlib import pyplot as plt\n",
    "\n",
    "zoom = 3\n",
    "\n",
    "df_train_plot = df_train[-zoom*24:]\n",
    "df_test_plot = df_test[:zoom*24]\n",
    "\n",
    "y_pred = model.predict(df_train_plot)\n",
    "\n",
    "plt.plot(df_train_plot.index, df_train_plot.Y_t, label = 'Training data')\n",
    "plt.plot(df_train_plot.index, y_pred, '-' , label = 'Prediction on train data')\n",
    "\n",
    "plt.legend()\n",
    "plt.show()"
   ]
  },
  {
   "cell_type": "code",
   "execution_count": 27,
   "id": "5e1ca466",
   "metadata": {},
   "outputs": [
    {
     "data": {
      "image/png": "[encoded data removed]",
      "text/plain": [
       "<Figure size 432x288 with 1 Axes>"
      ]
     },
     "metadata": {
      "needs_background": "light"
     },
     "output_type": "display_data"
    }
   ],
   "source": [
    "y_pred_test = model.predict(df_test_plot)\n",
    "\n",
    "plt.plot(df_test_plot.index, df_test_plot.Y_t, label = 'Testing data')\n",
    "plt.plot(df_test_plot.index, y_pred_test, '-' , label = 'Prediction on test data')\n",
    "\n",
    "plt.legend()\n",
    "plt.show()"
   ]
  },
  {
   "cell_type": "markdown",
   "id": "34fd7fca",
   "metadata": {},
   "source": [
    "## Backtester\n",
    "\n",
    "- if $\\hat Y_t > (1+\\alpha) Y_{t-1}$ --> long\n",
    "- if $\\hat Y_t < (1-\\alpha) Y_{t-1}$ --> short\n",
    "- if $|\\hat Y_t - Y_{t-1}| < \\alpha $ --> neutral"
   ]
  },
  {
   "cell_type": "code",
   "execution_count": 29,
   "id": "cef20719",
   "metadata": {
    "scrolled": false
   },
   "outputs": [
    {
     "data": {
      "text/plain": [
       "(array([2.000e+00, 1.000e+00, 1.700e+01, 1.040e+02, 5.101e+03, 2.648e+04,\n",
       "        2.030e+02, 1.900e+01, 5.000e+00, 3.000e+00]),\n",
       " array([-0.18211473, -0.14651927, -0.11092381, -0.07532835, -0.03973288,\n",
       "        -0.00413742,  0.03145804,  0.0670535 ,  0.10264896,  0.13824443,\n",
       "         0.17383989]),\n",
       " <BarContainer object of 10 artists>)"
      ]
     },
     "execution_count": 29,
     "metadata": {},
     "output_type": "execute_result"
    },
    {
     "data": {
      "image/png": "[encoded data removed]",
      "text/plain": [
       "<Figure size 432x288 with 1 Axes>"
      ]
     },
     "metadata": {
      "needs_background": "light"
     },
     "output_type": "display_data"
    }
   ],
   "source": [
    "## alpha\n",
    "\n",
    "alphas = (df_train.Y_t - df_train.Y_lag_1)/df_train.Y_lag_1\n",
    "\n",
    "plt.hist(alphas)"
   ]
  },
  {
   "cell_type": "code",
   "execution_count": 30,
   "id": "85cf27ec",
   "metadata": {},
   "outputs": [],
   "source": [
    "alpha = 0.00005"
   ]
  },
  {
   "cell_type": "code",
   "execution_count": 31,
   "id": "228a1b41",
   "metadata": {},
   "outputs": [],
   "source": [
    "def backtest(df_test, model):\n",
    "    y_pred = model.predict(df_test)\n",
    "    \n",
    "    close_t = df_test['Y_t']\n",
    "    close_lag_1 = df_test['Y_lag_1']\n",
    "    \n",
    "    signal = []\n",
    "\n",
    "    for i, pred in enumerate(y_pred):\n",
    "        #print('\\nTime', str(i))\n",
    "        #print('pred', y_pred.iloc[i] > (1+alpha)*close_lag_1.iloc[i])\n",
    "        \n",
    "        if y_pred.iloc[i] >= (1+alpha)*close_lag_1.iloc[i]:\n",
    "            #print('pred', y_pred.iloc[i], 'y_{t-1}', close_lag_1.iloc[i])\n",
    "            #print('long')\n",
    "            signal.append(1)\n",
    "            \n",
    "        elif y_pred.iloc[i] <= (1-alpha)*close_lag_1.iloc[i]:\n",
    "            #print('pred', y_pred.iloc[i], 'y_{t-1}', close_lag_1.iloc[i])\n",
    "            #print('short')\n",
    "            signal.append(-1)\n",
    "        \n",
    "        else:\n",
    "            #print('pred', y_pred.iloc[i], 'y_{t-1}', close_lag_1.iloc[i])\n",
    "            #print('neutral')\n",
    "            signal.append(0)\n",
    "\n",
    "    return signal"
   ]
  },
  {
   "cell_type": "code",
   "execution_count": 32,
   "id": "f0d3a0f2",
   "metadata": {
    "scrolled": true
   },
   "outputs": [],
   "source": [
    "signal = backtest(df_test, model)\n",
    "signal = pd.DataFrame(signal)"
   ]
  },
  {
   "cell_type": "code",
   "execution_count": 33,
   "id": "0dc1418d",
   "metadata": {},
   "outputs": [],
   "source": [
    "def strat(signals, close, verbose=False):\n",
    "    XRP = [0]\n",
    "    USD = [500]\n",
    "    value = [500]\n",
    "    R = [1]\n",
    "    pos = [0]\n",
    "    long_times = []\n",
    "    short_times = []\n",
    "    exit_times = []\n",
    "    longs = []\n",
    "    shorts = []\n",
    "    exits = []\n",
    "    \n",
    "    current_pos = {\n",
    "        \"side\": 0,\n",
    "        \"qty\": 1,\n",
    "        \"take_profit\": 0.5,\n",
    "        \"stop_loss\": -0.2,\n",
    "        \"entry_price\": 0,\n",
    "        \"exit_price\": 0,\n",
    "        \"entry_time\": 0,\n",
    "        \"exit_time\": 0,\n",
    "        \"exit_reason\": \"\"\n",
    "    }\n",
    "    trades = []\n",
    "    \n",
    "    def enter_long(i):\n",
    "        XRP.append(USD[i]*0.999/close[i])\n",
    "        USD.append(0)\n",
    "        pos.append(1)\n",
    "        long_times.append(signals.index[i])\n",
    "        longs.append(close[i])\n",
    "        current_pos['side'] = 1\n",
    "        current_pos['entry_price'] = close[i]\n",
    "        current_pos['entry_time'] = signals.index[i]\n",
    "    \n",
    "    def enter_short(i):\n",
    "        XRP.append(USD[i]*0.999/close[i])\n",
    "        USD.append(0)\n",
    "        pos.append(-1)\n",
    "        short_times.append(signals.index[i])\n",
    "        shorts.append(close[i])\n",
    "        current_pos['side'] = -1\n",
    "        current_pos['entry_price'] = close[i]\n",
    "        current_pos['entry_time'] = signals.index[i]\n",
    "        \n",
    "    def neutral(i):\n",
    "        XRP.append(XRP[i])\n",
    "        USD.append(USD[i])\n",
    "        pos.append(0)\n",
    "        \n",
    "    def exit(i, why, side, ROI):\n",
    "        XRP.append(0)\n",
    "        pos.append(0)\n",
    "        exit_times.append(signals.index[i])\n",
    "        exits.append(close[i])\n",
    "        \n",
    "        if side == 1:\n",
    "            USD.append(0.999 * XRP[i] * current_pos[\"entry_price\"] * (1+ROI/100) )\n",
    "            current_pos['exit_price'] = close[i]\n",
    "            current_pos[\"exit_time\"] = signals.index[i]\n",
    "            current_pos[\"exit_reason\"] = why\n",
    "            trades.append(current_pos.copy())\n",
    "            \n",
    "        if side == -1:\n",
    "            USD.append(0.999 * XRP[i] * current_pos[\"entry_price\"] * (1+ROI/100) )\n",
    "            current_pos['exit_price'] = close[i]\n",
    "            current_pos[\"exit_time\"] = signals.index[i]\n",
    "            current_pos[\"exit_reason\"] = why\n",
    "            trades.append(current_pos.copy())\n",
    "    \n",
    "    def monitor_exit(i):\n",
    "        if pos[i] == 1:\n",
    "            ROI = (close[i] - current_pos[\"entry_price\"])*100/current_pos[\"entry_price\"]\n",
    "            if verbose:\n",
    "                print(\"ROI\", ROI)\n",
    "            if ROI > 0.5:\n",
    "                exit(i, \"take_profit\", 1, ROI)\n",
    "            elif ROI < -0.2:\n",
    "                exit(i, \"stop_loss\", 1, ROI)\n",
    "            else:\n",
    "                XRP.append(XRP[i])\n",
    "                USD.append(USD[i])\n",
    "                pos.append(1)\n",
    "            \n",
    "        if pos[i] == -1:\n",
    "            ROI = -(close[i] - current_pos[\"entry_price\"])*100/current_pos[\"entry_price\"]\n",
    "            if verbose:\n",
    "                print(\"ROI\", ROI)\n",
    "            if ROI > 0.5:\n",
    "                exit(i, \"take_profit\", -1, ROI)\n",
    "            elif ROI < -0.2:\n",
    "                exit(i, \"stop_loss\", -1, ROI)\n",
    "            else:\n",
    "                XRP.append(XRP[i])\n",
    "                USD.append(USD[i])\n",
    "                pos.append(-1)\n",
    "    \n",
    "    for i, s in enumerate(signals):\n",
    "        print(i)\n",
    "        if pos[i] == 0:\n",
    "            if verbose:\n",
    "                print(\"\\nnot in position, \" + str(i))\n",
    "            ## long signal, enter long\n",
    "            if s == 1:\n",
    "                if verbose:\n",
    "                    print(\"enter long\")\n",
    "                enter_long(i)\n",
    "\n",
    "            ## short signal, enter short\n",
    "            if s == -1:\n",
    "                if verbose:\n",
    "                    print(\"enter short\")\n",
    "                enter_short(i)\n",
    "\n",
    "            ## stay neutral\n",
    "            if s == 0:\n",
    "                if verbose:\n",
    "                    print(\"stay neutral\")\n",
    "                neutral(i)\n",
    "        \n",
    "        if pos[i] != 0 :\n",
    "            if verbose:\n",
    "                print(\"\\nin position, \" + str(i))\n",
    "                print(current_pos)\n",
    "            ## monitor return\n",
    "            monitor_exit(i)\n",
    "        \n",
    "        if verbose:\n",
    "            print(\"close\", close[i])\n",
    "            print(\"USD\", USD[i])\n",
    "            print(\"XRP\", XRP[i])\n",
    "    \n",
    "    return XRP, USD, pos, long_times, short_times, exit_times, longs, shorts, exits, trades"
   ]
  },
  {
   "cell_type": "code",
   "execution_count": 34,
   "id": "c261aeee",
   "metadata": {},
   "outputs": [
    {
     "name": "stdout",
     "output_type": "stream",
     "text": [
      "0\n",
      "\n",
      "not in position, 0\n",
      "stay neutral\n",
      "close 23980.0\n",
      "USD 500\n",
      "XRP 0\n"
     ]
    },
    {
     "data": {
      "text/plain": [
       "([0, 0], [500, 500], [0, 0], [], [], [], [], [], [], [])"
      ]
     },
     "execution_count": 34,
     "metadata": {},
     "output_type": "execute_result"
    }
   ],
   "source": [
    "strat(signal, df_test.Y_t.values, verbose=True)"
   ]
  },
  {
   "cell_type": "code",
   "execution_count": 35,
   "id": "b5fc3aba",
   "metadata": {},
   "outputs": [
    {
     "data": {
      "text/html": [
       "<div>\n",
       "<style scoped>\n",
       "    .dataframe tbody tr th:only-of-type {\n",
       "        vertical-align: middle;\n",
       "    }\n",
       "\n",
       "    .dataframe tbody tr th {\n",
       "        vertical-align: top;\n",
       "    }\n",
       "\n",
       "    .dataframe thead th {\n",
       "        text-align: right;\n",
       "    }\n",
       "</style>\n",
       "<table border=\"1\" class=\"dataframe\">\n",
       "  <thead>\n",
       "    <tr style=\"text-align: right;\">\n",
       "      <th></th>\n",
       "      <th>0</th>\n",
       "    </tr>\n",
       "  </thead>\n",
       "  <tbody>\n",
       "    <tr>\n",
       "      <th>0</th>\n",
       "      <td>1</td>\n",
       "    </tr>\n",
       "    <tr>\n",
       "      <th>1</th>\n",
       "      <td>1</td>\n",
       "    </tr>\n",
       "    <tr>\n",
       "      <th>2</th>\n",
       "      <td>1</td>\n",
       "    </tr>\n",
       "    <tr>\n",
       "      <th>3</th>\n",
       "      <td>1</td>\n",
       "    </tr>\n",
       "    <tr>\n",
       "      <th>4</th>\n",
       "      <td>0</td>\n",
       "    </tr>\n",
       "    <tr>\n",
       "      <th>...</th>\n",
       "      <td>...</td>\n",
       "    </tr>\n",
       "    <tr>\n",
       "      <th>7964</th>\n",
       "      <td>0</td>\n",
       "    </tr>\n",
       "    <tr>\n",
       "      <th>7965</th>\n",
       "      <td>0</td>\n",
       "    </tr>\n",
       "    <tr>\n",
       "      <th>7966</th>\n",
       "      <td>0</td>\n",
       "    </tr>\n",
       "    <tr>\n",
       "      <th>7967</th>\n",
       "      <td>0</td>\n",
       "    </tr>\n",
       "    <tr>\n",
       "      <th>7968</th>\n",
       "      <td>0</td>\n",
       "    </tr>\n",
       "  </tbody>\n",
       "</table>\n",
       "<p>7969 rows × 1 columns</p>\n",
       "</div>"
      ],
      "text/plain": [
       "      0\n",
       "0     1\n",
       "1     1\n",
       "2     1\n",
       "3     1\n",
       "4     0\n",
       "...  ..\n",
       "7964  0\n",
       "7965  0\n",
       "7966  0\n",
       "7967  0\n",
       "7968  0\n",
       "\n",
       "[7969 rows x 1 columns]"
      ]
     },
     "execution_count": 35,
     "metadata": {},
     "output_type": "execute_result"
    }
   ],
   "source": [
    "signal"
   ]
  },
  {
   "cell_type": "code",
   "execution_count": null,
   "id": "382ed904",
   "metadata": {},
   "outputs": [],
   "source": []
  }
 ],
 "metadata": {
  "kernelspec": {
   "display_name": "Python 3",
   "language": "python",
   "name": "python3"
  },
  "language_info": {
   "codemirror_mode": {
    "name": "ipython",
    "version": 3
   },
   "file_extension": ".py",
   "mimetype": "text/x-python",
   "name": "python",
   "nbconvert_exporter": "python",
   "pygments_lexer": "ipython3",
   "version": "3.8.8"
  }
 },
 "nbformat": 4,
 "nbformat_minor": 5
}
