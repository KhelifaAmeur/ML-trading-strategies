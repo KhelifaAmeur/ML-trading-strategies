{
 "cells": [
  {
   "cell_type": "markdown",
   "metadata": {},
   "source": [
    "# Project 242"
   ]
  },
  {
   "cell_type": "markdown",
   "metadata": {},
   "source": [
    "## Import"
   ]
  },
  {
   "cell_type": "code",
   "execution_count": 1,
   "metadata": {},
   "outputs": [],
   "source": [
    "from backtester.backtesting import Strategy\n",
    "from modules.data_preprocessing import *\n",
    "from modules.add_features import *\n",
    "from modules.metrics_prediction import *\n",
    "from modules.metrics_performance import *\n",
    "from modules.models import *\n",
    "from modules.utils import *"
   ]
  },
  {
   "cell_type": "code",
   "execution_count": 2,
   "metadata": {},
   "outputs": [],
   "source": [
    "import numpy as np\n",
    "import matplotlib.pyplot as plt\n",
    "import pandas as pd\n",
    "import random as rd"
   ]
  },
  {
   "cell_type": "markdown",
   "metadata": {},
   "source": [
    "## I. Data"
   ]
  },
  {
   "cell_type": "markdown",
   "metadata": {},
   "source": [
    "### 1. Load data"
   ]
  },
  {
   "cell_type": "code",
   "execution_count": 3,
   "metadata": {},
   "outputs": [],
   "source": [
    "data = pd.read_csv('data/Binance_BTCUSDT_1h.csv')"
   ]
  },
  {
   "cell_type": "code",
   "execution_count": 4,
   "metadata": {},
   "outputs": [
    {
     "data": {
      "text/html": [
       "<div>\n",
       "<style scoped>\n",
       "    .dataframe tbody tr th:only-of-type {\n",
       "        vertical-align: middle;\n",
       "    }\n",
       "\n",
       "    .dataframe tbody tr th {\n",
       "        vertical-align: top;\n",
       "    }\n",
       "\n",
       "    .dataframe thead th {\n",
       "        text-align: right;\n",
       "    }\n",
       "</style>\n",
       "<table border=\"1\" class=\"dataframe\">\n",
       "  <thead>\n",
       "    <tr style=\"text-align: right;\">\n",
       "      <th></th>\n",
       "      <th>unix</th>\n",
       "      <th>date</th>\n",
       "      <th>symbol</th>\n",
       "      <th>open</th>\n",
       "      <th>high</th>\n",
       "      <th>low</th>\n",
       "      <th>close</th>\n",
       "      <th>Volume BTC</th>\n",
       "      <th>Volume USDT</th>\n",
       "      <th>tradecount</th>\n",
       "    </tr>\n",
       "  </thead>\n",
       "  <tbody>\n",
       "    <tr>\n",
       "      <th>0</th>\n",
       "      <td>1.637280e+12</td>\n",
       "      <td>2021-11-19 00:00:00</td>\n",
       "      <td>BTC/USDT</td>\n",
       "      <td>56891.62</td>\n",
       "      <td>57247.58</td>\n",
       "      <td>56674.00</td>\n",
       "      <td>57144.98</td>\n",
       "      <td>719.65701</td>\n",
       "      <td>4.099574e+07</td>\n",
       "      <td>19977.0</td>\n",
       "    </tr>\n",
       "    <tr>\n",
       "      <th>1</th>\n",
       "      <td>1.637276e+12</td>\n",
       "      <td>2021-11-18 23:00:00</td>\n",
       "      <td>BTC/USDT</td>\n",
       "      <td>56613.30</td>\n",
       "      <td>56987.57</td>\n",
       "      <td>56474.26</td>\n",
       "      <td>56891.62</td>\n",
       "      <td>2553.36240</td>\n",
       "      <td>1.447890e+08</td>\n",
       "      <td>76763.0</td>\n",
       "    </tr>\n",
       "  </tbody>\n",
       "</table>\n",
       "</div>"
      ],
      "text/plain": [
       "           unix                 date    symbol      open      high       low  \\\n",
       "0  1.637280e+12  2021-11-19 00:00:00  BTC/USDT  56891.62  57247.58  56674.00   \n",
       "1  1.637276e+12  2021-11-18 23:00:00  BTC/USDT  56613.30  56987.57  56474.26   \n",
       "\n",
       "      close  Volume BTC   Volume USDT  tradecount  \n",
       "0  57144.98   719.65701  4.099574e+07     19977.0  \n",
       "1  56891.62  2553.36240  1.447890e+08     76763.0  "
      ]
     },
     "execution_count": 4,
     "metadata": {},
     "output_type": "execute_result"
    },
    {
     "data": {
      "image/png": "[encoded data removed]",
      "text/plain": [
       "<Figure size 432x288 with 1 Axes>"
      ]
     },
     "metadata": {
      "needs_background": "light"
     },
     "output_type": "display_data"
    }
   ],
   "source": [
    "plt.plot(data[::-1].reset_index().close)\n",
    "data.head(2)"
   ]
  },
  {
   "cell_type": "markdown",
   "metadata": {},
   "source": [
    "### 2. Preprocess data\n",
    "\n",
    "- clean data\n",
    "- add features"
   ]
  },
  {
   "cell_type": "code",
   "execution_count": 5,
   "metadata": {},
   "outputs": [],
   "source": [
    "# Clean data\n",
    "data = clean_data(data)"
   ]
  },
  {
   "cell_type": "markdown",
   "metadata": {},
   "source": [
    "Here, we can decide to add features ..."
   ]
  },
  {
   "cell_type": "code",
   "execution_count": 6,
   "metadata": {},
   "outputs": [],
   "source": [
    "# Add features\n",
    "#data = add_technical_indicators(data, lookback_period=30)"
   ]
  },
  {
   "cell_type": "code",
   "execution_count": 7,
   "metadata": {},
   "outputs": [
    {
     "name": "stdout",
     "output_type": "stream",
     "text": [
      "Shape X_train: (29958, 5) | X_test: (9986, 5)\n"
     ]
    }
   ],
   "source": [
    "# Split data\n",
    "train_data, test_data = split_data(data, split=0.25)\n",
    "\n",
    "train_data = array_to_df(train_data, data.columns)\n",
    "test_data = array_to_df(test_data, data.columns)\n",
    "\n",
    "print(f'Shape X_train: {train_data.shape} | X_test: {test_data.shape}')"
   ]
  },
  {
   "cell_type": "code",
   "execution_count": 8,
   "metadata": {},
   "outputs": [],
   "source": [
    "# Scale data\n",
    "#train_data, test_data = scale_data(train_data, test_data)"
   ]
  },
  {
   "cell_type": "code",
   "execution_count": 9,
   "metadata": {},
   "outputs": [],
   "source": [
    "# Add Return\n",
    "train_data = add_return(train_data)\n",
    "test_data = add_return(test_data)"
   ]
  },
  {
   "cell_type": "code",
   "execution_count": 10,
   "metadata": {},
   "outputs": [],
   "source": [
    "# Add Signal\n",
    "q_90 = np.quantile(abs(train_data.Return).iloc[:-1].values, 0.9)\n",
    "\n",
    "train_data = add_signal(train_data, q_90)\n",
    "test_data = add_signal(test_data, q_90)"
   ]
  },
  {
   "cell_type": "code",
   "execution_count": 11,
   "metadata": {},
   "outputs": [
    {
     "name": "stdout",
     "output_type": "stream",
     "text": [
      "Train set: 1 (5.0%) | 0 (90.0%) | -1 (5.0%)\n",
      "Test set: 1 (6.0%) | 0 (88.0%) | -1 (6.0%)\n"
     ]
    }
   ],
   "source": [
    "train_pos, train_neg = round((train_data.Signal>0).sum()/train_data.Signal.shape[0],2)*100, round((train_data.Signal<0).sum()/train_data.Signal.shape[0],2)*100\n",
    "test_pos, test_neg = round((test_data.Signal>0).sum()/test_data.Signal.shape[0],2)*100, round((test_data.Signal<0).sum()/test_data.Signal.shape[0],2)*100\n",
    "\n",
    "print(f'Train set: 1 ({train_pos}%) | 0 ({100-(train_pos+train_neg)}%) | -1 ({train_neg}%)') \n",
    "print(f'Test set: 1 ({test_pos}%) | 0 ({100-(test_pos+test_neg)}%) | -1 ({test_neg}%)') "
   ]
  },
  {
   "cell_type": "markdown",
   "metadata": {},
   "source": [
    "## II. Model"
   ]
  },
  {
   "cell_type": "markdown",
   "metadata": {},
   "source": [
    "### 1. Get data ready for models"
   ]
  },
  {
   "cell_type": "markdown",
   "metadata": {},
   "source": [
    "In this section, the reformating of the data may depend on the model ..."
   ]
  },
  {
   "cell_type": "code",
   "execution_count": 13,
   "metadata": {},
   "outputs": [],
   "source": [
    "#X_train, y_train, return_train = prepare_data_for_training(train_data, lookback_period=10)\n",
    "#X_test, y_test, return_test = prepare_data_for_training(test_data, lookback_period=10)"
   ]
  },
  {
   "cell_type": "code",
   "execution_count": 14,
   "metadata": {},
   "outputs": [],
   "source": [
    "X_train, y_train = train_data, train_data.Signal\n",
    "X_test, y_test = test_data, test_data.Signal"
   ]
  },
  {
   "cell_type": "markdown",
   "metadata": {},
   "source": [
    "### 2. Build model"
   ]
  },
  {
   "cell_type": "markdown",
   "metadata": {},
   "source": [
    "The ultimate goal of this section is to return a **prediction**.\n",
    "\n",
    "This section may recquire a phase of **feature selection**.\n",
    "\n",
    "..."
   ]
  },
  {
   "cell_type": "code",
   "execution_count": 15,
   "metadata": {},
   "outputs": [],
   "source": [
    "#model = ..."
   ]
  },
  {
   "cell_type": "code",
   "execution_count": 16,
   "metadata": {},
   "outputs": [],
   "source": [
    "y_pred = baseline(y_test)"
   ]
  },
  {
   "cell_type": "markdown",
   "metadata": {},
   "source": [
    "### 3. Test prediction model"
   ]
  },
  {
   "cell_type": "code",
   "execution_count": 17,
   "metadata": {},
   "outputs": [],
   "source": [
    "TPR, FPR = 0, 0#get_TPR_FPR(y_test, y_pred)\n",
    "F1 = 0 #get_F1(y_test, y_pred)\n",
    "ACC = get_ACC(y_test, y_pred)\n",
    "WACC = get_WACC(y_test, y_pred, test_data.close)"
   ]
  },
  {
   "cell_type": "code",
   "execution_count": 18,
   "metadata": {},
   "outputs": [
    {
     "data": {
      "text/html": [
       "<div>\n",
       "<style scoped>\n",
       "    .dataframe tbody tr th:only-of-type {\n",
       "        vertical-align: middle;\n",
       "    }\n",
       "\n",
       "    .dataframe tbody tr th {\n",
       "        vertical-align: top;\n",
       "    }\n",
       "\n",
       "    .dataframe thead th {\n",
       "        text-align: right;\n",
       "    }\n",
       "</style>\n",
       "<table border=\"1\" class=\"dataframe\">\n",
       "  <thead>\n",
       "    <tr style=\"text-align: right;\">\n",
       "      <th></th>\n",
       "      <th>TPR</th>\n",
       "      <th>FPR</th>\n",
       "      <th>ACC</th>\n",
       "      <th>F1</th>\n",
       "      <th>WACC</th>\n",
       "    </tr>\n",
       "  </thead>\n",
       "  <tbody>\n",
       "    <tr>\n",
       "      <th>Baseline</th>\n",
       "      <td>0</td>\n",
       "      <td>0</td>\n",
       "      <td>0.340276</td>\n",
       "      <td>0</td>\n",
       "      <td>0.339407</td>\n",
       "    </tr>\n",
       "  </tbody>\n",
       "</table>\n",
       "</div>"
      ],
      "text/plain": [
       "          TPR  FPR       ACC  F1      WACC\n",
       "Baseline    0    0  0.340276   0  0.339407"
      ]
     },
     "execution_count": 18,
     "metadata": {},
     "output_type": "execute_result"
    }
   ],
   "source": [
    "models = ['Baseline']\n",
    "metrics = ['TPR', 'FPR', 'ACC', 'F1', 'WACC']\n",
    "metric_data = [[TPR, FPR, ACC, F1, WACC]]\n",
    "\n",
    "pd.DataFrame(metric_data, index=models, columns=metrics)"
   ]
  },
  {
   "cell_type": "markdown",
   "metadata": {},
   "source": [
    "### III. Strategy"
   ]
  },
  {
   "cell_type": "markdown",
   "metadata": {},
   "source": [
    "### 1. Get data ready for backtesting"
   ]
  },
  {
   "cell_type": "code",
   "execution_count": 19,
   "metadata": {},
   "outputs": [],
   "source": [
    "# If the model used is a regression model on the return\n",
    "#signal = get_signal(y_pred, alpha=q_90)"
   ]
  },
  {
   "cell_type": "code",
   "execution_count": 20,
   "metadata": {},
   "outputs": [],
   "source": [
    "signal = y_pred \n",
    "close = test_data.close"
   ]
  },
  {
   "cell_type": "code",
   "execution_count": 21,
   "metadata": {},
   "outputs": [],
   "source": [
    "# Crop for better visualization\n",
    "nb_days = 1\n",
    "\n",
    "signal_crop = crop_window(signal, nb_days)\n",
    "close_crop = crop_window(close, nb_days)"
   ]
  },
  {
   "cell_type": "markdown",
   "metadata": {},
   "source": [
    "### 2. Backtesting"
   ]
  },
  {
   "cell_type": "code",
   "execution_count": 22,
   "metadata": {},
   "outputs": [],
   "source": [
    "strat = Strategy(cash=500, fees=0.001)"
   ]
  },
  {
   "cell_type": "code",
   "execution_count": 23,
   "metadata": {},
   "outputs": [],
   "source": [
    "strat.run(signal_crop, close_crop, verbose=False)"
   ]
  },
  {
   "cell_type": "code",
   "execution_count": 24,
   "metadata": {},
   "outputs": [],
   "source": [
    "wallet = np.array(strat.wallet)\n",
    "profit_list = [0]\n",
    "for i in range(1, len(wallet)):\n",
    "    profit_list.append(wallet[i]-wallet[i-1])\n",
    "    \n",
    "profit = np.array(profit_list)"
   ]
  },
  {
   "cell_type": "code",
   "execution_count": 25,
   "metadata": {},
   "outputs": [
    {
     "data": {
      "image/png": "[encoded data removed]",
      "text/plain": [
       "<Figure size 720x720 with 3 Axes>"
      ]
     },
     "metadata": {
      "needs_background": "light"
     },
     "output_type": "display_data"
    }
   ],
   "source": [
    "strat.visualize()"
   ]
  },
  {
   "cell_type": "markdown",
   "metadata": {},
   "source": [
    "### 3. Test performance startegy"
   ]
  },
  {
   "cell_type": "code",
   "execution_count": 26,
   "metadata": {},
   "outputs": [],
   "source": [
    "SharpeRatio = SharpeRatio(profit)\n",
    "MaxDrawback = MaxDrawback(profit)\n",
    "WinLossRatio = WinLossRatio(profit)\n",
    "CumulativeProfit = CumulativeProfit(profit)\n",
    "MeanProfit = MeanProfit(profit)"
   ]
  },
  {
   "cell_type": "code",
   "execution_count": 27,
   "metadata": {},
   "outputs": [
    {
     "data": {
      "text/html": [
       "<div>\n",
       "<style scoped>\n",
       "    .dataframe tbody tr th:only-of-type {\n",
       "        vertical-align: middle;\n",
       "    }\n",
       "\n",
       "    .dataframe tbody tr th {\n",
       "        vertical-align: top;\n",
       "    }\n",
       "\n",
       "    .dataframe thead th {\n",
       "        text-align: right;\n",
       "    }\n",
       "</style>\n",
       "<table border=\"1\" class=\"dataframe\">\n",
       "  <thead>\n",
       "    <tr style=\"text-align: right;\">\n",
       "      <th></th>\n",
       "      <th>SharpeRatio</th>\n",
       "      <th>MaxDrawback</th>\n",
       "      <th>WinLossRatio</th>\n",
       "      <th>CumulativeProfit</th>\n",
       "      <th>MeanProfit</th>\n",
       "    </tr>\n",
       "  </thead>\n",
       "  <tbody>\n",
       "    <tr>\n",
       "      <th>Baseline</th>\n",
       "      <td>-0.263941</td>\n",
       "      <td>-12.824982</td>\n",
       "      <td>0.666667</td>\n",
       "      <td>-19.074259</td>\n",
       "      <td>-0.76297</td>\n",
       "    </tr>\n",
       "  </tbody>\n",
       "</table>\n",
       "</div>"
      ],
      "text/plain": [
       "          SharpeRatio  MaxDrawback  WinLossRatio  CumulativeProfit  MeanProfit\n",
       "Baseline    -0.263941   -12.824982      0.666667        -19.074259    -0.76297"
      ]
     },
     "execution_count": 27,
     "metadata": {},
     "output_type": "execute_result"
    }
   ],
   "source": [
    "models = ['Baseline']\n",
    "metrics = ['SharpeRatio', 'MaxDrawback', 'WinLossRatio', 'CumulativeProfit', 'MeanProfit']\n",
    "metric_data = [[SharpeRatio, MaxDrawback, WinLossRatio, CumulativeProfit, MeanProfit]]\n",
    "\n",
    "pd.DataFrame(metric_data, index=models, columns=metrics)"
   ]
  },
  {
   "cell_type": "code",
   "execution_count": null,
   "metadata": {},
   "outputs": [],
   "source": []
  }
 ],
 "metadata": {
  "kernelspec": {
   "display_name": "Python 3",
   "language": "python",
   "name": "python3"
  },
  "language_info": {
   "codemirror_mode": {
    "name": "ipython",
    "version": 3
   },
   "file_extension": ".py",
   "mimetype": "text/x-python",
   "name": "python",
   "nbconvert_exporter": "python",
   "pygments_lexer": "ipython3",
   "version": "3.7.9"
  }
 },
 "nbformat": 4,
 "nbformat_minor": 2
}
