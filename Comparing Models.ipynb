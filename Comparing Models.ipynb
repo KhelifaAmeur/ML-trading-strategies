{
 "cells": [
  {
   "cell_type": "markdown",
   "id": "d84dab58",
   "metadata": {},
   "source": [
    "### Importing Jupyter Notebooks as Modules"
   ]
  },
  {
   "cell_type": "code",
   "execution_count": 23,
   "id": "f633774e",
   "metadata": {},
   "outputs": [],
   "source": [
    "import nbimporter\n",
    "\n",
    "import test_model\n",
    "import test_logit\n",
    "import test_CART \n",
    "import test_RandomForest \n",
    "import test_GradientBoosting\n"
   ]
  },
  {
   "cell_type": "code",
   "execution_count": 24,
   "id": "5142f8d5",
   "metadata": {},
   "outputs": [
    {
     "data": {
      "text/html": [
       "<div>\n",
       "<style scoped>\n",
       "    .dataframe tbody tr th:only-of-type {\n",
       "        vertical-align: middle;\n",
       "    }\n",
       "\n",
       "    .dataframe tbody tr th {\n",
       "        vertical-align: top;\n",
       "    }\n",
       "\n",
       "    .dataframe thead th {\n",
       "        text-align: right;\n",
       "    }\n",
       "</style>\n",
       "<table border=\"1\" class=\"dataframe\">\n",
       "  <thead>\n",
       "    <tr style=\"text-align: right;\">\n",
       "      <th></th>\n",
       "      <th>SharpeRatio</th>\n",
       "      <th>MaxDrawback</th>\n",
       "      <th>WinLossRatio</th>\n",
       "      <th>CumulativeProfit</th>\n",
       "      <th>MeanProfit</th>\n",
       "    </tr>\n",
       "  </thead>\n",
       "  <tbody>\n",
       "    <tr>\n",
       "      <th>Baseline</th>\n",
       "      <td>&lt;function SharpeRatio at 0x11fc40560&gt;</td>\n",
       "      <td>&lt;function MaxDrawback at 0x11fc404d0&gt;</td>\n",
       "      <td>&lt;function WinLossRatio at 0x11fc40950&gt;</td>\n",
       "      <td>&lt;function CumulativeProfit at 0x11fc409e0&gt;</td>\n",
       "      <td>&lt;function MeanProfit at 0x11fc40a70&gt;</td>\n",
       "    </tr>\n",
       "    <tr>\n",
       "      <th>Logistic Regression</th>\n",
       "      <td>&lt;function SharpeRatio at 0x11fc40560&gt;</td>\n",
       "      <td>&lt;function MaxDrawback at 0x11fc404d0&gt;</td>\n",
       "      <td>&lt;function WinLossRatio at 0x11fc40950&gt;</td>\n",
       "      <td>&lt;function CumulativeProfit at 0x11fc409e0&gt;</td>\n",
       "      <td>&lt;function MeanProfit at 0x11fc40a70&gt;</td>\n",
       "    </tr>\n",
       "    <tr>\n",
       "      <th>CART</th>\n",
       "      <td>&lt;function SharpeRatio at 0x11fc40560&gt;</td>\n",
       "      <td>&lt;function MaxDrawback at 0x11fc404d0&gt;</td>\n",
       "      <td>&lt;function WinLossRatio at 0x11fc40950&gt;</td>\n",
       "      <td>&lt;function CumulativeProfit at 0x11fc409e0&gt;</td>\n",
       "      <td>&lt;function MeanProfit at 0x11fc40a70&gt;</td>\n",
       "    </tr>\n",
       "    <tr>\n",
       "      <th>Random Forest</th>\n",
       "      <td>&lt;function SharpeRatio at 0x11fc40560&gt;</td>\n",
       "      <td>&lt;function MaxDrawback at 0x11fc404d0&gt;</td>\n",
       "      <td>&lt;function WinLossRatio at 0x11fc40950&gt;</td>\n",
       "      <td>&lt;function CumulativeProfit at 0x11fc409e0&gt;</td>\n",
       "      <td>&lt;function MeanProfit at 0x11fc40a70&gt;</td>\n",
       "    </tr>\n",
       "    <tr>\n",
       "      <th>Gradient Boosting</th>\n",
       "      <td>&lt;function SharpeRatio at 0x11fc40560&gt;</td>\n",
       "      <td>&lt;function MaxDrawback at 0x11fc404d0&gt;</td>\n",
       "      <td>&lt;function WinLossRatio at 0x11fc40950&gt;</td>\n",
       "      <td>&lt;function CumulativeProfit at 0x11fc409e0&gt;</td>\n",
       "      <td>&lt;function MeanProfit at 0x11fc40a70&gt;</td>\n",
       "    </tr>\n",
       "  </tbody>\n",
       "</table>\n",
       "</div>"
      ],
      "text/plain": [
       "                                               SharpeRatio  \\\n",
       "Baseline             <function SharpeRatio at 0x11fc40560>   \n",
       "Logistic Regression  <function SharpeRatio at 0x11fc40560>   \n",
       "CART                 <function SharpeRatio at 0x11fc40560>   \n",
       "Random Forest        <function SharpeRatio at 0x11fc40560>   \n",
       "Gradient Boosting    <function SharpeRatio at 0x11fc40560>   \n",
       "\n",
       "                                               MaxDrawback  \\\n",
       "Baseline             <function MaxDrawback at 0x11fc404d0>   \n",
       "Logistic Regression  <function MaxDrawback at 0x11fc404d0>   \n",
       "CART                 <function MaxDrawback at 0x11fc404d0>   \n",
       "Random Forest        <function MaxDrawback at 0x11fc404d0>   \n",
       "Gradient Boosting    <function MaxDrawback at 0x11fc404d0>   \n",
       "\n",
       "                                               WinLossRatio  \\\n",
       "Baseline             <function WinLossRatio at 0x11fc40950>   \n",
       "Logistic Regression  <function WinLossRatio at 0x11fc40950>   \n",
       "CART                 <function WinLossRatio at 0x11fc40950>   \n",
       "Random Forest        <function WinLossRatio at 0x11fc40950>   \n",
       "Gradient Boosting    <function WinLossRatio at 0x11fc40950>   \n",
       "\n",
       "                                               CumulativeProfit  \\\n",
       "Baseline             <function CumulativeProfit at 0x11fc409e0>   \n",
       "Logistic Regression  <function CumulativeProfit at 0x11fc409e0>   \n",
       "CART                 <function CumulativeProfit at 0x11fc409e0>   \n",
       "Random Forest        <function CumulativeProfit at 0x11fc409e0>   \n",
       "Gradient Boosting    <function CumulativeProfit at 0x11fc409e0>   \n",
       "\n",
       "                                               MeanProfit  \n",
       "Baseline             <function MeanProfit at 0x11fc40a70>  \n",
       "Logistic Regression  <function MeanProfit at 0x11fc40a70>  \n",
       "CART                 <function MeanProfit at 0x11fc40a70>  \n",
       "Random Forest        <function MeanProfit at 0x11fc40a70>  \n",
       "Gradient Boosting    <function MeanProfit at 0x11fc40a70>  "
      ]
     },
     "execution_count": 24,
     "metadata": {},
     "output_type": "execute_result"
    }
   ],
   "source": [
    "import pandas as pd\n",
    "\n",
    "models = ['Baseline', 'Logistic Regression', 'CART', 'Random Forest', 'Gradient Boosting']\n",
    "metrics = ['SharpeRatio', 'MaxDrawback', 'WinLossRatio', 'CumulativeProfit', 'MeanProfit']\n",
    "metric_data = [[b_SharpeRatio, b_MaxDrawback, b_WinLossRatio, b_CumulativeProfit, b_MeanProfit],\n",
    "              [l_SharpeRatio, l_MaxDrawback, l_WinLossRatio, l_CumulativeProfit, l_MeanProfit],\n",
    "              [c_SharpeRatio, c_MaxDrawback, c_WinLossRatio, c_CumulativeProfit, c_MeanProfit],\n",
    "              [r_SharpeRatio, r_MaxDrawback, r_WinLossRatio, r_CumulativeProfit, r_MeanProfit],\n",
    "              [x_SharpeRatio, x_MaxDrawback, x_WinLossRatio, x_CumulativeProfit, x_MeanProfit]]\n",
    "\n",
    "pd.DataFrame(metric_data, index=models, columns=metrics)"
   ]
  },
  {
   "cell_type": "markdown",
   "id": "c8fc5b91",
   "metadata": {},
   "source": [
    "### Bootstrapping"
   ]
  },
  {
   "cell_type": "markdown",
   "id": "9241a86b",
   "metadata": {},
   "source": [
    "### Confidence Interval"
   ]
  },
  {
   "cell_type": "code",
   "execution_count": null,
   "id": "db4d874d",
   "metadata": {},
   "outputs": [],
   "source": []
  }
 ],
 "metadata": {
  "kernelspec": {
   "display_name": "Python 3",
   "language": "python",
   "name": "python3"
  },
  "language_info": {
   "codemirror_mode": {
    "name": "ipython",
    "version": 3
   },
   "file_extension": ".py",
   "mimetype": "text/x-python",
   "name": "python",
   "nbconvert_exporter": "python",
   "pygments_lexer": "ipython3",
   "version": "3.7.9"
  }
 },
 "nbformat": 4,
 "nbformat_minor": 5
}
