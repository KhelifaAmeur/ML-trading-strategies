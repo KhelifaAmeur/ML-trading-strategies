{
 "cells": [
  {
   "cell_type": "markdown",
   "metadata": {},
   "source": [
    "# Project 242"
   ]
  },
  {
   "cell_type": "markdown",
   "metadata": {},
   "source": [
    "## Import"
   ]
  },
  {
   "cell_type": "code",
   "execution_count": 34,
   "metadata": {},
   "outputs": [],
   "source": [
    "from backtester.backtesting import Strategy\n",
    "from modules.data_preprocessing import *\n",
    "from modules.add_features import *\n",
    "from modules.metrics_prediction import *\n",
    "from modules.metrics_performance import *\n",
    "from modules.models import *\n",
    "from modules.utils import *"
   ]
  },
  {
   "cell_type": "code",
   "execution_count": 35,
   "metadata": {},
   "outputs": [],
   "source": [
    "import numpy as np\n",
    "import matplotlib.pyplot as plt\n",
    "import pandas as pd\n",
    "import random as rd"
   ]
  },
  {
   "cell_type": "markdown",
   "metadata": {},
   "source": [
    "## I. Data"
   ]
  },
  {
   "cell_type": "markdown",
   "metadata": {},
   "source": [
    "### 1. Load data"
   ]
  },
  {
   "cell_type": "code",
   "execution_count": 36,
   "metadata": {},
   "outputs": [],
   "source": [
    "data = pd.read_csv('data/Binance_BTCUSDT_1h.csv')"
   ]
  },
  {
   "cell_type": "code",
   "execution_count": 37,
   "metadata": {},
   "outputs": [
    {
     "data": {
      "text/html": [
       "<div>\n",
       "<style scoped>\n",
       "    .dataframe tbody tr th:only-of-type {\n",
       "        vertical-align: middle;\n",
       "    }\n",
       "\n",
       "    .dataframe tbody tr th {\n",
       "        vertical-align: top;\n",
       "    }\n",
       "\n",
       "    .dataframe thead th {\n",
       "        text-align: right;\n",
       "    }\n",
       "</style>\n",
       "<table border=\"1\" class=\"dataframe\">\n",
       "  <thead>\n",
       "    <tr style=\"text-align: right;\">\n",
       "      <th></th>\n",
       "      <th>unix</th>\n",
       "      <th>date</th>\n",
       "      <th>symbol</th>\n",
       "      <th>open</th>\n",
       "      <th>high</th>\n",
       "      <th>low</th>\n",
       "      <th>close</th>\n",
       "      <th>Volume BTC</th>\n",
       "      <th>Volume USDT</th>\n",
       "      <th>tradecount</th>\n",
       "    </tr>\n",
       "  </thead>\n",
       "  <tbody>\n",
       "    <tr>\n",
       "      <th>0</th>\n",
       "      <td>1.637280e+12</td>\n",
       "      <td>2021-11-19 00:00:00</td>\n",
       "      <td>BTC/USDT</td>\n",
       "      <td>56891.62</td>\n",
       "      <td>57247.58</td>\n",
       "      <td>56674.00</td>\n",
       "      <td>57144.98</td>\n",
       "      <td>719.65701</td>\n",
       "      <td>4.099574e+07</td>\n",
       "      <td>19977.0</td>\n",
       "    </tr>\n",
       "    <tr>\n",
       "      <th>1</th>\n",
       "      <td>1.637276e+12</td>\n",
       "      <td>2021-11-18 23:00:00</td>\n",
       "      <td>BTC/USDT</td>\n",
       "      <td>56613.30</td>\n",
       "      <td>56987.57</td>\n",
       "      <td>56474.26</td>\n",
       "      <td>56891.62</td>\n",
       "      <td>2553.36240</td>\n",
       "      <td>1.447890e+08</td>\n",
       "      <td>76763.0</td>\n",
       "    </tr>\n",
       "  </tbody>\n",
       "</table>\n",
       "</div>"
      ],
      "text/plain": [
       "           unix                 date    symbol      open      high       low  \\\n",
       "0  1.637280e+12  2021-11-19 00:00:00  BTC/USDT  56891.62  57247.58  56674.00   \n",
       "1  1.637276e+12  2021-11-18 23:00:00  BTC/USDT  56613.30  56987.57  56474.26   \n",
       "\n",
       "      close  Volume BTC   Volume USDT  tradecount  \n",
       "0  57144.98   719.65701  4.099574e+07     19977.0  \n",
       "1  56891.62  2553.36240  1.447890e+08     76763.0  "
      ]
     },
     "execution_count": 37,
     "metadata": {},
     "output_type": "execute_result"
    },
    {
     "data": {
      "image/png": "[encoded data removed]",
      "text/plain": [
       "<Figure size 432x288 with 1 Axes>"
      ]
     },
     "metadata": {
      "needs_background": "light"
     },
     "output_type": "display_data"
    }
   ],
   "source": [
    "plt.plot(data[::-1].reset_index().close)\n",
    "data.head(2)"
   ]
  },
  {
   "cell_type": "markdown",
   "metadata": {},
   "source": [
    "### 2. Preprocess data\n",
    "\n",
    "- clean data\n",
    "- add features"
   ]
  },
  {
   "cell_type": "code",
   "execution_count": 38,
   "metadata": {},
   "outputs": [
    {
     "data": {
      "text/plain": [
       "Index(['open', 'high', 'low', 'close', 'Volume'], dtype='object')"
      ]
     },
     "execution_count": 38,
     "metadata": {},
     "output_type": "execute_result"
    }
   ],
   "source": [
    "# Clean data\n",
    "data = clean_data(data)\n",
    "data = data.rename(columns = {'Volume USDT': 'Volume'})\n",
    "data.columns"
   ]
  },
  {
   "cell_type": "markdown",
   "metadata": {},
   "source": [
    "Here, we can decide to add features ..."
   ]
  },
  {
   "cell_type": "code",
   "execution_count": 39,
   "metadata": {},
   "outputs": [],
   "source": [
    "# Add features\n",
    "\n",
    "data = add_technical_indicators(data, lookback_period=30)[30:]"
   ]
  },
  {
   "cell_type": "code",
   "execution_count": 40,
   "metadata": {},
   "outputs": [],
   "source": [
    "data.loc[data['VWAP'].isna(), 'VWAP'] = 0"
   ]
  },
  {
   "cell_type": "code",
   "execution_count": 41,
   "metadata": {},
   "outputs": [
    {
     "name": "stdout",
     "output_type": "stream",
     "text": [
      "Shape X_train: (29936, 13) | X_test: (9978, 13)\n"
     ]
    }
   ],
   "source": [
    "# Split data\n",
    "train_data, test_data = split_data(data, split=0.25)\n",
    "\n",
    "train_data = array_to_df(train_data, data.columns)\n",
    "test_data = array_to_df(test_data, data.columns)\n",
    "\n",
    "print(f'Shape X_train: {train_data.shape} | X_test: {test_data.shape}')"
   ]
  },
  {
   "cell_type": "code",
   "execution_count": 42,
   "metadata": {},
   "outputs": [],
   "source": [
    "# Scale data\n",
    "#train_data, test_data = scale_data(train_data, test_data)"
   ]
  },
  {
   "cell_type": "code",
   "execution_count": 43,
   "metadata": {},
   "outputs": [],
   "source": [
    "# Add Return\n",
    "train_data = add_return(train_data)\n",
    "test_data = add_return(test_data)"
   ]
  },
  {
   "cell_type": "code",
   "execution_count": 44,
   "metadata": {},
   "outputs": [],
   "source": [
    "# Add Signal\n",
    "#q_90 = np.quantile(abs(train_data.Return).iloc[:-1].values, 0.9)\n",
    "\n",
    "train_data = add_signal(train_data, 0.001)\n",
    "test_data = add_signal(test_data, 0.001)\n",
    "#train_data['Signal'] = (train_data['Return'] >0).apply(int)\n",
    "#test_data['Signal'] = (test_data['Return'] >0).apply(int)"
   ]
  },
  {
   "cell_type": "code",
   "execution_count": 45,
   "metadata": {},
   "outputs": [
    {
     "name": "stdout",
     "output_type": "stream",
     "text": [
      "Train set: 1 (38.0%) | 0 (26.0%) | -1 (36.0%)\n",
      "Test set: 1 (42.0%) | 0 (19.0%) | -1 (39.0%)\n"
     ]
    }
   ],
   "source": [
    "train_pos, train_neg = round((train_data.Signal>0).sum()/train_data.Signal.shape[0],2)*100, round((train_data.Signal<0).sum()/train_data.Signal.shape[0],2)*100\n",
    "test_pos, test_neg = round((test_data.Signal>0).sum()/test_data.Signal.shape[0],2)*100, round((test_data.Signal<0).sum()/test_data.Signal.shape[0],2)*100\n",
    "\n",
    "print(f'Train set: 1 ({train_pos}%) | 0 ({100-(train_pos+train_neg)}%) | -1 ({train_neg}%)') \n",
    "print(f'Test set: 1 ({test_pos}%) | 0 ({100-(test_pos+test_neg)}%) | -1 ({test_neg}%)') "
   ]
  },
  {
   "cell_type": "code",
   "execution_count": 46,
   "metadata": {},
   "outputs": [],
   "source": [
    "#display(train_data.head(2))\n",
    "#display(test_data.head(2))"
   ]
  },
  {
   "cell_type": "code",
   "execution_count": 47,
   "metadata": {},
   "outputs": [
    {
     "data": {
      "text/html": [
       "<div>\n",
       "<style scoped>\n",
       "    .dataframe tbody tr th:only-of-type {\n",
       "        vertical-align: middle;\n",
       "    }\n",
       "\n",
       "    .dataframe tbody tr th {\n",
       "        vertical-align: top;\n",
       "    }\n",
       "\n",
       "    .dataframe thead th {\n",
       "        text-align: right;\n",
       "    }\n",
       "</style>\n",
       "<table border=\"1\" class=\"dataframe\">\n",
       "  <thead>\n",
       "    <tr style=\"text-align: right;\">\n",
       "      <th></th>\n",
       "      <th>open</th>\n",
       "      <th>high</th>\n",
       "      <th>low</th>\n",
       "      <th>close</th>\n",
       "      <th>Volume</th>\n",
       "      <th>MOM</th>\n",
       "      <th>RSI</th>\n",
       "      <th>VWAP</th>\n",
       "      <th>BB_high</th>\n",
       "      <th>BB_low</th>\n",
       "      <th>EMA</th>\n",
       "      <th>CCI</th>\n",
       "      <th>MACD</th>\n",
       "      <th>Return</th>\n",
       "      <th>Signal</th>\n",
       "    </tr>\n",
       "  </thead>\n",
       "  <tbody>\n",
       "    <tr>\n",
       "      <th>30</th>\n",
       "      <td>4304.15</td>\n",
       "      <td>4371.52</td>\n",
       "      <td>4296.04</td>\n",
       "      <td>4356.31</td>\n",
       "      <td>2.234710e+05</td>\n",
       "      <td>-29.750833</td>\n",
       "      <td>53.271105</td>\n",
       "      <td>4317.294208</td>\n",
       "      <td>4462.289132</td>\n",
       "      <td>4215.078202</td>\n",
       "      <td>4318.454360</td>\n",
       "      <td>13.166937</td>\n",
       "      <td>-29.750833</td>\n",
       "      <td>-0.003673</td>\n",
       "      <td>-1</td>\n",
       "    </tr>\n",
       "    <tr>\n",
       "      <th>31</th>\n",
       "      <td>4356.31</td>\n",
       "      <td>4357.37</td>\n",
       "      <td>4302.72</td>\n",
       "      <td>4340.31</td>\n",
       "      <td>1.044750e+05</td>\n",
       "      <td>-20.882000</td>\n",
       "      <td>51.723613</td>\n",
       "      <td>4317.656777</td>\n",
       "      <td>4462.817545</td>\n",
       "      <td>4216.215788</td>\n",
       "      <td>4319.864401</td>\n",
       "      <td>1.766283</td>\n",
       "      <td>-20.882000</td>\n",
       "      <td>-0.000873</td>\n",
       "      <td>0</td>\n",
       "    </tr>\n",
       "    <tr>\n",
       "      <th>32</th>\n",
       "      <td>4340.31</td>\n",
       "      <td>4340.31</td>\n",
       "      <td>4287.79</td>\n",
       "      <td>4336.52</td>\n",
       "      <td>6.546818e+04</td>\n",
       "      <td>-15.141667</td>\n",
       "      <td>51.358028</td>\n",
       "      <td>4317.653726</td>\n",
       "      <td>4463.100965</td>\n",
       "      <td>4216.743702</td>\n",
       "      <td>4320.938956</td>\n",
       "      <td>-14.054429</td>\n",
       "      <td>-15.141667</td>\n",
       "      <td>-0.017187</td>\n",
       "      <td>-1</td>\n",
       "    </tr>\n",
       "    <tr>\n",
       "      <th>33</th>\n",
       "      <td>4331.71</td>\n",
       "      <td>4331.71</td>\n",
       "      <td>4221.05</td>\n",
       "      <td>4261.99</td>\n",
       "      <td>7.294201e+04</td>\n",
       "      <td>-16.511000</td>\n",
       "      <td>44.901817</td>\n",
       "      <td>4317.082533</td>\n",
       "      <td>4463.222261</td>\n",
       "      <td>4210.755739</td>\n",
       "      <td>4317.135797</td>\n",
       "      <td>-76.273927</td>\n",
       "      <td>-16.511000</td>\n",
       "      <td>-0.000608</td>\n",
       "      <td>0</td>\n",
       "    </tr>\n",
       "    <tr>\n",
       "      <th>34</th>\n",
       "      <td>4293.09</td>\n",
       "      <td>4293.09</td>\n",
       "      <td>4193.70</td>\n",
       "      <td>4259.40</td>\n",
       "      <td>3.026014e+05</td>\n",
       "      <td>-23.350333</td>\n",
       "      <td>44.699809</td>\n",
       "      <td>4313.908193</td>\n",
       "      <td>4462.519661</td>\n",
       "      <td>4204.705672</td>\n",
       "      <td>4313.410907</td>\n",
       "      <td>-99.718186</td>\n",
       "      <td>-23.350333</td>\n",
       "      <td>-0.005285</td>\n",
       "      <td>-1</td>\n",
       "    </tr>\n",
       "    <tr>\n",
       "      <th>...</th>\n",
       "      <td>...</td>\n",
       "      <td>...</td>\n",
       "      <td>...</td>\n",
       "      <td>...</td>\n",
       "      <td>...</td>\n",
       "      <td>...</td>\n",
       "      <td>...</td>\n",
       "      <td>...</td>\n",
       "      <td>...</td>\n",
       "      <td>...</td>\n",
       "      <td>...</td>\n",
       "      <td>...</td>\n",
       "      <td>...</td>\n",
       "      <td>...</td>\n",
       "      <td>...</td>\n",
       "    </tr>\n",
       "    <tr>\n",
       "      <th>29961</th>\n",
       "      <td>13118.24</td>\n",
       "      <td>13129.00</td>\n",
       "      <td>13083.35</td>\n",
       "      <td>13091.80</td>\n",
       "      <td>1.645348e+07</td>\n",
       "      <td>89.706000</td>\n",
       "      <td>60.958451</td>\n",
       "      <td>13033.930628</td>\n",
       "      <td>13163.531129</td>\n",
       "      <td>12877.361537</td>\n",
       "      <td>13040.775209</td>\n",
       "      <td>87.187880</td>\n",
       "      <td>89.706000</td>\n",
       "      <td>0.000000</td>\n",
       "      <td>0</td>\n",
       "    </tr>\n",
       "    <tr>\n",
       "      <th>29962</th>\n",
       "      <td>13118.24</td>\n",
       "      <td>13129.00</td>\n",
       "      <td>13083.35</td>\n",
       "      <td>13091.80</td>\n",
       "      <td>1.645348e+07</td>\n",
       "      <td>84.839333</td>\n",
       "      <td>60.958451</td>\n",
       "      <td>13036.826812</td>\n",
       "      <td>13168.439801</td>\n",
       "      <td>12880.925532</td>\n",
       "      <td>13044.067131</td>\n",
       "      <td>80.789714</td>\n",
       "      <td>84.839333</td>\n",
       "      <td>-0.002481</td>\n",
       "      <td>-1</td>\n",
       "    </tr>\n",
       "    <tr>\n",
       "      <th>29963</th>\n",
       "      <td>13091.80</td>\n",
       "      <td>13126.58</td>\n",
       "      <td>13031.46</td>\n",
       "      <td>13059.32</td>\n",
       "      <td>1.595781e+07</td>\n",
       "      <td>75.733000</td>\n",
       "      <td>56.569024</td>\n",
       "      <td>13039.367229</td>\n",
       "      <td>13169.715159</td>\n",
       "      <td>12887.154175</td>\n",
       "      <td>13045.051187</td>\n",
       "      <td>48.138417</td>\n",
       "      <td>75.733000</td>\n",
       "      <td>0.000000</td>\n",
       "      <td>0</td>\n",
       "    </tr>\n",
       "    <tr>\n",
       "      <th>29964</th>\n",
       "      <td>13091.87</td>\n",
       "      <td>13126.58</td>\n",
       "      <td>13031.46</td>\n",
       "      <td>13059.32</td>\n",
       "      <td>1.595781e+07</td>\n",
       "      <td>67.345667</td>\n",
       "      <td>56.569024</td>\n",
       "      <td>13041.896859</td>\n",
       "      <td>13170.539914</td>\n",
       "      <td>12893.833419</td>\n",
       "      <td>13045.971756</td>\n",
       "      <td>44.877483</td>\n",
       "      <td>67.345667</td>\n",
       "      <td>0.000705</td>\n",
       "      <td>0</td>\n",
       "    </tr>\n",
       "    <tr>\n",
       "      <th>29965</th>\n",
       "      <td>13059.32</td>\n",
       "      <td>13090.00</td>\n",
       "      <td>13035.73</td>\n",
       "      <td>13068.53</td>\n",
       "      <td>1.178449e+07</td>\n",
       "      <td>55.667333</td>\n",
       "      <td>57.497726</td>\n",
       "      <td>13044.794369</td>\n",
       "      <td>13169.974364</td>\n",
       "      <td>12903.981636</td>\n",
       "      <td>13047.427126</td>\n",
       "      <td>33.587521</td>\n",
       "      <td>55.667333</td>\n",
       "      <td>NaN</td>\n",
       "      <td>0</td>\n",
       "    </tr>\n",
       "  </tbody>\n",
       "</table>\n",
       "<p>29936 rows × 15 columns</p>\n",
       "</div>"
      ],
      "text/plain": [
       "           open      high       low     close        Volume        MOM  \\\n",
       "30      4304.15   4371.52   4296.04   4356.31  2.234710e+05 -29.750833   \n",
       "31      4356.31   4357.37   4302.72   4340.31  1.044750e+05 -20.882000   \n",
       "32      4340.31   4340.31   4287.79   4336.52  6.546818e+04 -15.141667   \n",
       "33      4331.71   4331.71   4221.05   4261.99  7.294201e+04 -16.511000   \n",
       "34      4293.09   4293.09   4193.70   4259.40  3.026014e+05 -23.350333   \n",
       "...         ...       ...       ...       ...           ...        ...   \n",
       "29961  13118.24  13129.00  13083.35  13091.80  1.645348e+07  89.706000   \n",
       "29962  13118.24  13129.00  13083.35  13091.80  1.645348e+07  84.839333   \n",
       "29963  13091.80  13126.58  13031.46  13059.32  1.595781e+07  75.733000   \n",
       "29964  13091.87  13126.58  13031.46  13059.32  1.595781e+07  67.345667   \n",
       "29965  13059.32  13090.00  13035.73  13068.53  1.178449e+07  55.667333   \n",
       "\n",
       "             RSI          VWAP       BB_high        BB_low           EMA  \\\n",
       "30     53.271105   4317.294208   4462.289132   4215.078202   4318.454360   \n",
       "31     51.723613   4317.656777   4462.817545   4216.215788   4319.864401   \n",
       "32     51.358028   4317.653726   4463.100965   4216.743702   4320.938956   \n",
       "33     44.901817   4317.082533   4463.222261   4210.755739   4317.135797   \n",
       "34     44.699809   4313.908193   4462.519661   4204.705672   4313.410907   \n",
       "...          ...           ...           ...           ...           ...   \n",
       "29961  60.958451  13033.930628  13163.531129  12877.361537  13040.775209   \n",
       "29962  60.958451  13036.826812  13168.439801  12880.925532  13044.067131   \n",
       "29963  56.569024  13039.367229  13169.715159  12887.154175  13045.051187   \n",
       "29964  56.569024  13041.896859  13170.539914  12893.833419  13045.971756   \n",
       "29965  57.497726  13044.794369  13169.974364  12903.981636  13047.427126   \n",
       "\n",
       "             CCI       MACD    Return  Signal  \n",
       "30     13.166937 -29.750833 -0.003673      -1  \n",
       "31      1.766283 -20.882000 -0.000873       0  \n",
       "32    -14.054429 -15.141667 -0.017187      -1  \n",
       "33    -76.273927 -16.511000 -0.000608       0  \n",
       "34    -99.718186 -23.350333 -0.005285      -1  \n",
       "...          ...        ...       ...     ...  \n",
       "29961  87.187880  89.706000  0.000000       0  \n",
       "29962  80.789714  84.839333 -0.002481      -1  \n",
       "29963  48.138417  75.733000  0.000000       0  \n",
       "29964  44.877483  67.345667  0.000705       0  \n",
       "29965  33.587521  55.667333       NaN       0  \n",
       "\n",
       "[29936 rows x 15 columns]"
      ]
     },
     "execution_count": 47,
     "metadata": {},
     "output_type": "execute_result"
    }
   ],
   "source": [
    "train_data"
   ]
  },
  {
   "cell_type": "markdown",
   "metadata": {},
   "source": [
    "## II. Model"
   ]
  },
  {
   "cell_type": "markdown",
   "metadata": {},
   "source": [
    "### 1. Get data ready for models"
   ]
  },
  {
   "cell_type": "markdown",
   "metadata": {},
   "source": [
    "In this section, the reformating of the data may depend on the model ..."
   ]
  },
  {
   "cell_type": "code",
   "execution_count": 48,
   "metadata": {},
   "outputs": [
    {
     "name": "stderr",
     "output_type": "stream",
     "text": [
      "/Users/noemielevy/INDENG-242-project/modules/data_preprocessing.py:59: VisibleDeprecationWarning: Creating an ndarray from ragged nested sequences (which is a list-or-tuple of lists-or-tuples-or ndarrays with different lengths or shapes) is deprecated. If you meant to do this, you must specify 'dtype=object' when creating the ndarray\n",
      "  return np.array(X), S, R\n"
     ]
    }
   ],
   "source": [
    "train = prepare_data_2D_format(train_data)\n",
    "test = prepare_data_2D_format(test_data, undersample = False)\n",
    "test = test[:-10]\n",
    "\n",
    "X_train = train\n",
    "X_train = X_train.drop(['Signal'], axis = 1)\n",
    "y_train = train['Signal']\n",
    "\n",
    "X_test = test\n",
    "X_test = X_test.drop(['Signal'], axis = 1)\n",
    "y_test = test['Signal']"
   ]
  },
  {
   "cell_type": "code",
   "execution_count": 49,
   "metadata": {},
   "outputs": [
    {
     "data": {
      "text/html": [
       "<div>\n",
       "<style scoped>\n",
       "    .dataframe tbody tr th:only-of-type {\n",
       "        vertical-align: middle;\n",
       "    }\n",
       "\n",
       "    .dataframe tbody tr th {\n",
       "        vertical-align: top;\n",
       "    }\n",
       "\n",
       "    .dataframe thead th {\n",
       "        text-align: right;\n",
       "    }\n",
       "</style>\n",
       "<table border=\"1\" class=\"dataframe\">\n",
       "  <thead>\n",
       "    <tr style=\"text-align: right;\">\n",
       "      <th></th>\n",
       "      <th>open_day_minus10</th>\n",
       "      <th>high_day_minus10</th>\n",
       "      <th>low_day_minus10</th>\n",
       "      <th>close_day_minus10</th>\n",
       "      <th>Volume_day_minus10</th>\n",
       "      <th>MOM_day_minus10</th>\n",
       "      <th>RSI_day_minus10</th>\n",
       "      <th>VWAP_day_minus10</th>\n",
       "      <th>BB_high_day_minus10</th>\n",
       "      <th>BB_low_day_minus10</th>\n",
       "      <th>...</th>\n",
       "      <th>close_day_minus1</th>\n",
       "      <th>Volume_day_minus1</th>\n",
       "      <th>MOM_day_minus1</th>\n",
       "      <th>RSI_day_minus1</th>\n",
       "      <th>VWAP_day_minus1</th>\n",
       "      <th>BB_high_day_minus1</th>\n",
       "      <th>BB_low_day_minus1</th>\n",
       "      <th>EMA_day_minus1</th>\n",
       "      <th>CCI_day_minus1</th>\n",
       "      <th>MACD_day_minus1</th>\n",
       "    </tr>\n",
       "  </thead>\n",
       "  <tbody>\n",
       "    <tr>\n",
       "      <th>0</th>\n",
       "      <td>8807.26</td>\n",
       "      <td>8844.00</td>\n",
       "      <td>8802.33</td>\n",
       "      <td>8810.28</td>\n",
       "      <td>7258435.18</td>\n",
       "      <td>-273.022667</td>\n",
       "      <td>29.828218</td>\n",
       "      <td>9000.215686</td>\n",
       "      <td>9425.124979</td>\n",
       "      <td>8717.193021</td>\n",
       "      <td>...</td>\n",
       "      <td>8826.99</td>\n",
       "      <td>8293169.22</td>\n",
       "      <td>-138.783500</td>\n",
       "      <td>35.971361</td>\n",
       "      <td>8935.774740</td>\n",
       "      <td>9306.755804</td>\n",
       "      <td>8602.062196</td>\n",
       "      <td>8929.658348</td>\n",
       "      <td>-52.721928</td>\n",
       "      <td>-138.783500</td>\n",
       "    </tr>\n",
       "    <tr>\n",
       "      <th>1</th>\n",
       "      <td>4408.08</td>\n",
       "      <td>4625.85</td>\n",
       "      <td>4408.08</td>\n",
       "      <td>4580.00</td>\n",
       "      <td>142793.20</td>\n",
       "      <td>54.869667</td>\n",
       "      <td>64.484286</td>\n",
       "      <td>4343.881119</td>\n",
       "      <td>4458.014601</td>\n",
       "      <td>4219.454066</td>\n",
       "      <td>...</td>\n",
       "      <td>4591.88</td>\n",
       "      <td>20794.15</td>\n",
       "      <td>142.162000</td>\n",
       "      <td>61.253438</td>\n",
       "      <td>4423.749572</td>\n",
       "      <td>4629.816779</td>\n",
       "      <td>4211.853887</td>\n",
       "      <td>4449.361851</td>\n",
       "      <td>125.374357</td>\n",
       "      <td>142.162000</td>\n",
       "    </tr>\n",
       "    <tr>\n",
       "      <th>2</th>\n",
       "      <td>5426.00</td>\n",
       "      <td>5510.00</td>\n",
       "      <td>5400.00</td>\n",
       "      <td>5500.40</td>\n",
       "      <td>22164357.30</td>\n",
       "      <td>150.433500</td>\n",
       "      <td>44.184404</td>\n",
       "      <td>5275.408291</td>\n",
       "      <td>5807.432405</td>\n",
       "      <td>4902.328928</td>\n",
       "      <td>...</td>\n",
       "      <td>5387.61</td>\n",
       "      <td>42590864.23</td>\n",
       "      <td>-42.154667</td>\n",
       "      <td>44.256608</td>\n",
       "      <td>5384.136782</td>\n",
       "      <td>5679.336314</td>\n",
       "      <td>5125.356353</td>\n",
       "      <td>5456.658784</td>\n",
       "      <td>-18.229418</td>\n",
       "      <td>-42.154667</td>\n",
       "    </tr>\n",
       "    <tr>\n",
       "      <th>3</th>\n",
       "      <td>10395.98</td>\n",
       "      <td>10419.99</td>\n",
       "      <td>10310.00</td>\n",
       "      <td>10379.05</td>\n",
       "      <td>19028736.31</td>\n",
       "      <td>68.878333</td>\n",
       "      <td>56.529266</td>\n",
       "      <td>10309.093604</td>\n",
       "      <td>10402.888983</td>\n",
       "      <td>10213.381017</td>\n",
       "      <td>...</td>\n",
       "      <td>10315.57</td>\n",
       "      <td>4276600.82</td>\n",
       "      <td>-13.036333</td>\n",
       "      <td>51.238872</td>\n",
       "      <td>10329.440720</td>\n",
       "      <td>10390.898620</td>\n",
       "      <td>10256.126047</td>\n",
       "      <td>10322.110552</td>\n",
       "      <td>-24.515960</td>\n",
       "      <td>-13.036333</td>\n",
       "    </tr>\n",
       "    <tr>\n",
       "      <th>4</th>\n",
       "      <td>7370.00</td>\n",
       "      <td>7435.00</td>\n",
       "      <td>7368.00</td>\n",
       "      <td>7421.88</td>\n",
       "      <td>15053867.20</td>\n",
       "      <td>45.698500</td>\n",
       "      <td>59.593511</td>\n",
       "      <td>7397.300905</td>\n",
       "      <td>7502.040422</td>\n",
       "      <td>7272.379578</td>\n",
       "      <td>...</td>\n",
       "      <td>7458.27</td>\n",
       "      <td>7582871.65</td>\n",
       "      <td>62.256500</td>\n",
       "      <td>59.016192</td>\n",
       "      <td>7398.185863</td>\n",
       "      <td>7506.542442</td>\n",
       "      <td>7276.500225</td>\n",
       "      <td>7399.109849</td>\n",
       "      <td>83.102962</td>\n",
       "      <td>62.256500</td>\n",
       "    </tr>\n",
       "    <tr>\n",
       "      <th>...</th>\n",
       "      <td>...</td>\n",
       "      <td>...</td>\n",
       "      <td>...</td>\n",
       "      <td>...</td>\n",
       "      <td>...</td>\n",
       "      <td>...</td>\n",
       "      <td>...</td>\n",
       "      <td>...</td>\n",
       "      <td>...</td>\n",
       "      <td>...</td>\n",
       "      <td>...</td>\n",
       "      <td>...</td>\n",
       "      <td>...</td>\n",
       "      <td>...</td>\n",
       "      <td>...</td>\n",
       "      <td>...</td>\n",
       "      <td>...</td>\n",
       "      <td>...</td>\n",
       "      <td>...</td>\n",
       "      <td>...</td>\n",
       "      <td>...</td>\n",
       "    </tr>\n",
       "    <tr>\n",
       "      <th>23731</th>\n",
       "      <td>6595.06</td>\n",
       "      <td>6612.96</td>\n",
       "      <td>6592.25</td>\n",
       "      <td>6601.16</td>\n",
       "      <td>3270315.00</td>\n",
       "      <td>-32.725333</td>\n",
       "      <td>46.112067</td>\n",
       "      <td>6625.503057</td>\n",
       "      <td>6688.422082</td>\n",
       "      <td>6561.833251</td>\n",
       "      <td>...</td>\n",
       "      <td>6618.51</td>\n",
       "      <td>1535524.81</td>\n",
       "      <td>10.615000</td>\n",
       "      <td>49.481520</td>\n",
       "      <td>6620.647702</td>\n",
       "      <td>6678.179883</td>\n",
       "      <td>6556.833450</td>\n",
       "      <td>6617.203568</td>\n",
       "      <td>-1.601916</td>\n",
       "      <td>10.615000</td>\n",
       "    </tr>\n",
       "    <tr>\n",
       "      <th>23732</th>\n",
       "      <td>6546.82</td>\n",
       "      <td>6555.99</td>\n",
       "      <td>6451.10</td>\n",
       "      <td>6457.98</td>\n",
       "      <td>12935329.55</td>\n",
       "      <td>-352.523167</td>\n",
       "      <td>30.857278</td>\n",
       "      <td>6845.155394</td>\n",
       "      <td>7319.071457</td>\n",
       "      <td>6433.777877</td>\n",
       "      <td>...</td>\n",
       "      <td>6249.00</td>\n",
       "      <td>29006316.53</td>\n",
       "      <td>-274.427333</td>\n",
       "      <td>28.569779</td>\n",
       "      <td>6706.723012</td>\n",
       "      <td>7255.815306</td>\n",
       "      <td>6180.648027</td>\n",
       "      <td>6642.071523</td>\n",
       "      <td>-113.931947</td>\n",
       "      <td>-274.427333</td>\n",
       "    </tr>\n",
       "    <tr>\n",
       "      <th>23733</th>\n",
       "      <td>5945.01</td>\n",
       "      <td>6000.02</td>\n",
       "      <td>5945.01</td>\n",
       "      <td>6000.01</td>\n",
       "      <td>523087.86</td>\n",
       "      <td>9.362833</td>\n",
       "      <td>53.724257</td>\n",
       "      <td>5929.658256</td>\n",
       "      <td>6102.415786</td>\n",
       "      <td>5757.730880</td>\n",
       "      <td>...</td>\n",
       "      <td>5879.97</td>\n",
       "      <td>605463.28</td>\n",
       "      <td>-33.666833</td>\n",
       "      <td>48.654897</td>\n",
       "      <td>5899.753513</td>\n",
       "      <td>6022.493634</td>\n",
       "      <td>5782.870366</td>\n",
       "      <td>5918.212162</td>\n",
       "      <td>-49.378661</td>\n",
       "      <td>-33.666833</td>\n",
       "    </tr>\n",
       "    <tr>\n",
       "      <th>23734</th>\n",
       "      <td>8089.00</td>\n",
       "      <td>8165.00</td>\n",
       "      <td>8000.01</td>\n",
       "      <td>8106.99</td>\n",
       "      <td>22284817.60</td>\n",
       "      <td>-212.435167</td>\n",
       "      <td>36.515765</td>\n",
       "      <td>8399.036076</td>\n",
       "      <td>8710.046777</td>\n",
       "      <td>8183.953889</td>\n",
       "      <td>...</td>\n",
       "      <td>7880.00</td>\n",
       "      <td>9068167.17</td>\n",
       "      <td>-386.658333</td>\n",
       "      <td>32.508548</td>\n",
       "      <td>8227.397902</td>\n",
       "      <td>8782.633014</td>\n",
       "      <td>7796.379652</td>\n",
       "      <td>8216.745043</td>\n",
       "      <td>-128.229273</td>\n",
       "      <td>-386.658333</td>\n",
       "    </tr>\n",
       "    <tr>\n",
       "      <th>23735</th>\n",
       "      <td>10408.77</td>\n",
       "      <td>10528.00</td>\n",
       "      <td>10401.63</td>\n",
       "      <td>10515.16</td>\n",
       "      <td>11770682.30</td>\n",
       "      <td>17.124000</td>\n",
       "      <td>61.540594</td>\n",
       "      <td>10418.594283</td>\n",
       "      <td>10638.214251</td>\n",
       "      <td>10203.503082</td>\n",
       "      <td>...</td>\n",
       "      <td>10827.78</td>\n",
       "      <td>8682762.97</td>\n",
       "      <td>264.852000</td>\n",
       "      <td>67.609680</td>\n",
       "      <td>10549.926858</td>\n",
       "      <td>10838.314936</td>\n",
       "      <td>10247.303064</td>\n",
       "      <td>10543.987484</td>\n",
       "      <td>165.398652</td>\n",
       "      <td>264.852000</td>\n",
       "    </tr>\n",
       "  </tbody>\n",
       "</table>\n",
       "<p>23736 rows × 130 columns</p>\n",
       "</div>"
      ],
      "text/plain": [
       "       open_day_minus10  high_day_minus10  low_day_minus10  close_day_minus10  \\\n",
       "0               8807.26           8844.00          8802.33            8810.28   \n",
       "1               4408.08           4625.85          4408.08            4580.00   \n",
       "2               5426.00           5510.00          5400.00            5500.40   \n",
       "3              10395.98          10419.99         10310.00           10379.05   \n",
       "4               7370.00           7435.00          7368.00            7421.88   \n",
       "...                 ...               ...              ...                ...   \n",
       "23731           6595.06           6612.96          6592.25            6601.16   \n",
       "23732           6546.82           6555.99          6451.10            6457.98   \n",
       "23733           5945.01           6000.02          5945.01            6000.01   \n",
       "23734           8089.00           8165.00          8000.01            8106.99   \n",
       "23735          10408.77          10528.00         10401.63           10515.16   \n",
       "\n",
       "       Volume_day_minus10  MOM_day_minus10  RSI_day_minus10  VWAP_day_minus10  \\\n",
       "0              7258435.18      -273.022667        29.828218       9000.215686   \n",
       "1               142793.20        54.869667        64.484286       4343.881119   \n",
       "2             22164357.30       150.433500        44.184404       5275.408291   \n",
       "3             19028736.31        68.878333        56.529266      10309.093604   \n",
       "4             15053867.20        45.698500        59.593511       7397.300905   \n",
       "...                   ...              ...              ...               ...   \n",
       "23731          3270315.00       -32.725333        46.112067       6625.503057   \n",
       "23732         12935329.55      -352.523167        30.857278       6845.155394   \n",
       "23733           523087.86         9.362833        53.724257       5929.658256   \n",
       "23734         22284817.60      -212.435167        36.515765       8399.036076   \n",
       "23735         11770682.30        17.124000        61.540594      10418.594283   \n",
       "\n",
       "       BB_high_day_minus10  BB_low_day_minus10  ...  close_day_minus1  \\\n",
       "0              9425.124979         8717.193021  ...           8826.99   \n",
       "1              4458.014601         4219.454066  ...           4591.88   \n",
       "2              5807.432405         4902.328928  ...           5387.61   \n",
       "3             10402.888983        10213.381017  ...          10315.57   \n",
       "4              7502.040422         7272.379578  ...           7458.27   \n",
       "...                    ...                 ...  ...               ...   \n",
       "23731          6688.422082         6561.833251  ...           6618.51   \n",
       "23732          7319.071457         6433.777877  ...           6249.00   \n",
       "23733          6102.415786         5757.730880  ...           5879.97   \n",
       "23734          8710.046777         8183.953889  ...           7880.00   \n",
       "23735         10638.214251        10203.503082  ...          10827.78   \n",
       "\n",
       "       Volume_day_minus1  MOM_day_minus1  RSI_day_minus1  VWAP_day_minus1  \\\n",
       "0             8293169.22     -138.783500       35.971361      8935.774740   \n",
       "1               20794.15      142.162000       61.253438      4423.749572   \n",
       "2            42590864.23      -42.154667       44.256608      5384.136782   \n",
       "3             4276600.82      -13.036333       51.238872     10329.440720   \n",
       "4             7582871.65       62.256500       59.016192      7398.185863   \n",
       "...                  ...             ...             ...              ...   \n",
       "23731         1535524.81       10.615000       49.481520      6620.647702   \n",
       "23732        29006316.53     -274.427333       28.569779      6706.723012   \n",
       "23733          605463.28      -33.666833       48.654897      5899.753513   \n",
       "23734         9068167.17     -386.658333       32.508548      8227.397902   \n",
       "23735         8682762.97      264.852000       67.609680     10549.926858   \n",
       "\n",
       "       BB_high_day_minus1  BB_low_day_minus1  EMA_day_minus1  CCI_day_minus1  \\\n",
       "0             9306.755804        8602.062196     8929.658348      -52.721928   \n",
       "1             4629.816779        4211.853887     4449.361851      125.374357   \n",
       "2             5679.336314        5125.356353     5456.658784      -18.229418   \n",
       "3            10390.898620       10256.126047    10322.110552      -24.515960   \n",
       "4             7506.542442        7276.500225     7399.109849       83.102962   \n",
       "...                   ...                ...             ...             ...   \n",
       "23731         6678.179883        6556.833450     6617.203568       -1.601916   \n",
       "23732         7255.815306        6180.648027     6642.071523     -113.931947   \n",
       "23733         6022.493634        5782.870366     5918.212162      -49.378661   \n",
       "23734         8782.633014        7796.379652     8216.745043     -128.229273   \n",
       "23735        10838.314936       10247.303064    10543.987484      165.398652   \n",
       "\n",
       "       MACD_day_minus1  \n",
       "0          -138.783500  \n",
       "1           142.162000  \n",
       "2           -42.154667  \n",
       "3           -13.036333  \n",
       "4            62.256500  \n",
       "...                ...  \n",
       "23731        10.615000  \n",
       "23732      -274.427333  \n",
       "23733       -33.666833  \n",
       "23734      -386.658333  \n",
       "23735       264.852000  \n",
       "\n",
       "[23736 rows x 130 columns]"
      ]
     },
     "execution_count": 49,
     "metadata": {},
     "output_type": "execute_result"
    }
   ],
   "source": [
    "X_train"
   ]
  },
  {
   "cell_type": "markdown",
   "metadata": {},
   "source": [
    "### 2. Build model"
   ]
  },
  {
   "cell_type": "markdown",
   "metadata": {},
   "source": [
    "The ultimate goal of this section is to return a **prediction**.\n",
    "\n",
    "This section may recquire a phase of **feature selection**.\n",
    "\n",
    "..."
   ]
  },
  {
   "cell_type": "code",
   "execution_count": 50,
   "metadata": {},
   "outputs": [
    {
     "data": {
      "text/plain": [
       "GradientBoostingClassifier(max_leaf_nodes=10)"
      ]
     },
     "execution_count": 50,
     "metadata": {},
     "output_type": "execute_result"
    }
   ],
   "source": [
    "from sklearn.ensemble import GradientBoostingClassifier\n",
    "gbc = GradientBoostingClassifier(n_estimators = 100, max_leaf_nodes = 10)\n",
    "gbc.fit(X_train, y_train)"
   ]
  },
  {
   "cell_type": "code",
   "execution_count": 51,
   "metadata": {},
   "outputs": [],
   "source": [
    "y_pred = gbc.predict(X_test)"
   ]
  },
  {
   "cell_type": "markdown",
   "metadata": {},
   "source": [
    "### 3. Test prediction model"
   ]
  },
  {
   "cell_type": "code",
   "execution_count": 52,
   "metadata": {},
   "outputs": [],
   "source": [
    "TPR, FPR = 0, 0#get_TPR_FPR(y_test, y_pred)\n",
    "F1 = 0#get_F1(y_test, y_pred)\n",
    "ACC = get_ACC(y_test, y_pred)\n",
    "WACC = 0#get_WACC(y_test, y_pred, test_data.close)"
   ]
  },
  {
   "cell_type": "code",
   "execution_count": 53,
   "metadata": {},
   "outputs": [
    {
     "data": {
      "text/html": [
       "<div>\n",
       "<style scoped>\n",
       "    .dataframe tbody tr th:only-of-type {\n",
       "        vertical-align: middle;\n",
       "    }\n",
       "\n",
       "    .dataframe tbody tr th {\n",
       "        vertical-align: top;\n",
       "    }\n",
       "\n",
       "    .dataframe thead th {\n",
       "        text-align: right;\n",
       "    }\n",
       "</style>\n",
       "<table border=\"1\" class=\"dataframe\">\n",
       "  <thead>\n",
       "    <tr style=\"text-align: right;\">\n",
       "      <th></th>\n",
       "      <th>TPR</th>\n",
       "      <th>FPR</th>\n",
       "      <th>ACC</th>\n",
       "      <th>F1</th>\n",
       "      <th>WACC</th>\n",
       "    </tr>\n",
       "  </thead>\n",
       "  <tbody>\n",
       "    <tr>\n",
       "      <th>Baseline</th>\n",
       "      <td>0</td>\n",
       "      <td>0</td>\n",
       "      <td>0.408415</td>\n",
       "      <td>0</td>\n",
       "      <td>0</td>\n",
       "    </tr>\n",
       "  </tbody>\n",
       "</table>\n",
       "</div>"
      ],
      "text/plain": [
       "          TPR  FPR       ACC  F1  WACC\n",
       "Baseline    0    0  0.408415   0     0"
      ]
     },
     "execution_count": 53,
     "metadata": {},
     "output_type": "execute_result"
    }
   ],
   "source": [
    "models = ['Baseline']\n",
    "metrics = ['TPR', 'FPR', 'ACC', 'F1', 'WACC']\n",
    "metric_data = [[TPR, FPR, ACC, F1, WACC]]\n",
    "\n",
    "pd.DataFrame(metric_data, index=models, columns=metrics)"
   ]
  },
  {
   "cell_type": "markdown",
   "metadata": {},
   "source": [
    "### III. Strategy"
   ]
  },
  {
   "cell_type": "markdown",
   "metadata": {},
   "source": [
    "### 1. Get data ready for backtesting"
   ]
  },
  {
   "cell_type": "code",
   "execution_count": 55,
   "metadata": {},
   "outputs": [
    {
     "data": {
      "text/plain": [
       "count    9958.000000\n",
       "mean       -0.570094\n",
       "std         0.801511\n",
       "min        -1.000000\n",
       "25%        -1.000000\n",
       "50%        -1.000000\n",
       "75%        -1.000000\n",
       "max         1.000000\n",
       "dtype: float64"
      ]
     },
     "execution_count": 55,
     "metadata": {},
     "output_type": "execute_result"
    }
   ],
   "source": [
    "signal = pd.Series(y_pred)\n",
    "close = test_data.close\n",
    "signal.describe()"
   ]
  },
  {
   "cell_type": "code",
   "execution_count": 56,
   "metadata": {},
   "outputs": [],
   "source": [
    "# Crop for better visualization\n",
    "nb_days = 1\n",
    "\n",
    "signal_crop = crop_window(signal, nb_days)\n",
    "close_crop = crop_window(close, nb_days)"
   ]
  },
  {
   "cell_type": "markdown",
   "metadata": {},
   "source": [
    "### 2. Backtesting"
   ]
  },
  {
   "cell_type": "code",
   "execution_count": 57,
   "metadata": {},
   "outputs": [],
   "source": [
    "strat = Strategy(cash=500, fees=0.001)"
   ]
  },
  {
   "cell_type": "code",
   "execution_count": 58,
   "metadata": {},
   "outputs": [],
   "source": [
    "strat.run(signal_crop, close_crop, verbose=False)"
   ]
  },
  {
   "cell_type": "code",
   "execution_count": 59,
   "metadata": {},
   "outputs": [],
   "source": [
    "wallet = np.array(strat.wallet)\n",
    "profit_list = [0]\n",
    "for i in range(1, len(wallet)):\n",
    "    profit_list.append(wallet[i]-wallet[i-1])\n",
    "    \n",
    "profit = np.array(profit_list)"
   ]
  },
  {
   "cell_type": "code",
   "execution_count": 60,
   "metadata": {},
   "outputs": [
    {
     "data": {
      "image/png": "[encoded data removed]",
      "text/plain": [
       "<Figure size 720x720 with 3 Axes>"
      ]
     },
     "metadata": {
      "needs_background": "light"
     },
     "output_type": "display_data"
    }
   ],
   "source": [
    "strat.visualize()"
   ]
  },
  {
   "cell_type": "markdown",
   "metadata": {},
   "source": [
    "### 3. Test performance startegy"
   ]
  },
  {
   "cell_type": "code",
   "execution_count": 61,
   "metadata": {},
   "outputs": [],
   "source": [
    "x_SharpeRatio = SharpeRatio(profit)\n",
    "x_MaxDrawback = MaxDrawback(profit)\n",
    "x_WinLossRatio = WinLossRatio(profit)\n",
    "x_CumulativeProfit = CumulativeProfit(profit)\n",
    "x_MeanProfit = MeanProfit(profit)"
   ]
  },
  {
   "cell_type": "code",
   "execution_count": 62,
   "metadata": {},
   "outputs": [
    {
     "data": {
      "text/html": [
       "<div>\n",
       "<style scoped>\n",
       "    .dataframe tbody tr th:only-of-type {\n",
       "        vertical-align: middle;\n",
       "    }\n",
       "\n",
       "    .dataframe tbody tr th {\n",
       "        vertical-align: top;\n",
       "    }\n",
       "\n",
       "    .dataframe thead th {\n",
       "        text-align: right;\n",
       "    }\n",
       "</style>\n",
       "<table border=\"1\" class=\"dataframe\">\n",
       "  <thead>\n",
       "    <tr style=\"text-align: right;\">\n",
       "      <th></th>\n",
       "      <th>SharpeRatio</th>\n",
       "      <th>MaxDrawback</th>\n",
       "      <th>WinLossRatio</th>\n",
       "      <th>CumulativeProfit</th>\n",
       "      <th>MeanProfit</th>\n",
       "    </tr>\n",
       "  </thead>\n",
       "  <tbody>\n",
       "    <tr>\n",
       "      <th>Gradient Boosting</th>\n",
       "      <td>-0.193096</td>\n",
       "      <td>-11.668079</td>\n",
       "      <td>0.642857</td>\n",
       "      <td>-20.018463</td>\n",
       "      <td>-0.800739</td>\n",
       "    </tr>\n",
       "  </tbody>\n",
       "</table>\n",
       "</div>"
      ],
      "text/plain": [
       "                   SharpeRatio  MaxDrawback  WinLossRatio  CumulativeProfit  \\\n",
       "Gradient Boosting    -0.193096   -11.668079      0.642857        -20.018463   \n",
       "\n",
       "                   MeanProfit  \n",
       "Gradient Boosting   -0.800739  "
      ]
     },
     "execution_count": 62,
     "metadata": {},
     "output_type": "execute_result"
    }
   ],
   "source": [
    "models = ['Gradient Boosting']\n",
    "metrics = ['SharpeRatio', 'MaxDrawback', 'WinLossRatio', 'CumulativeProfit', 'MeanProfit']\n",
    "metric_data = [[x_SharpeRatio, x_MaxDrawback, x_WinLossRatio, x_CumulativeProfit, x_MeanProfit]]\n",
    "\n",
    "pd.DataFrame(metric_data, index=models, columns=metrics)"
   ]
  }
 ],
 "metadata": {
  "kernelspec": {
   "display_name": "Python 3",
   "language": "python",
   "name": "python3"
  },
  "language_info": {
   "codemirror_mode": {
    "name": "ipython",
    "version": 3
   },
   "file_extension": ".py",
   "mimetype": "text/x-python",
   "name": "python",
   "nbconvert_exporter": "python",
   "pygments_lexer": "ipython3",
   "version": "3.7.9"
  }
 },
 "nbformat": 4,
 "nbformat_minor": 2
}
